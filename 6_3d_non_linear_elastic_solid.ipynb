{
 "cells": [
  {
   "cell_type": "code",
   "execution_count": 1,
   "metadata": {},
   "outputs": [],
   "source": [
    "import numpy as np\n",
    "from scipy.integrate import quad, tplquad\n",
    "import vtk\n",
    "import pyvista as pv\n",
    "from scipy.sparse import csc_matrix, coo_matrix,  diags\n",
    "from scipy.sparse.linalg import spsolve\n",
    "import matplotlib.pyplot as plt\n",
    "from tqdm import tqdm\n",
    "\n",
    "import jax \n",
    "import jax.numpy as jnp\n",
    "from functools import partial\n",
    "\n",
    "\n",
    "import networkx as nx\n",
    "\n",
    "from IPython.display import display, clear_output\n",
    "\n",
    "# Use 64 bit floats for jax\n",
    "jax.config.update(\"jax_enable_x64\", True)"
   ]
  },
  {
   "cell_type": "markdown",
   "metadata": {},
   "source": [
    "---\n",
    "\n",
    "# Problem description\n",
    "\n",
    "The goal is to solve for the displacement field of a non-linear elastic solid (compressible neo-hookean material)\n",
    "with an initially prescribed deformation. The strategy adopted is mostly the same as in the linear elastic case except that\n",
    "the equations of motions are now non-linear and given by: \n",
    "\n",
    "$$\n",
    "M \\ddot{u} - \\vec{K}(u) = 0\n",
    "$$\n",
    "\n",
    "Here K is the vector of internal forces caused by the elasticity of the material. To solve the displacement field over time, \n",
    "a new time stepping scheme is introduced, where a root-finding problem has to be solved at each time step.\n",
    "\n",
    "---"
   ]
  },
  {
   "cell_type": "code",
   "execution_count": 2,
   "metadata": {},
   "outputs": [],
   "source": [
    "# Create a face class to store the information of each face\n",
    "\n",
    "class Face: \n",
    "    def __init__(self, vertices, cell_1 = -1, cell_2 = -1):\n",
    "        self.vertices   = vertices\n",
    "        self.cell_1     = cell_1\n",
    "        self.cell_2     = cell_2\n",
    "\n",
    "    def add_cell(self, cell):\n",
    "        if self.cell_1 == None:\n",
    "            self.cell_1 = cell\n",
    "        else:\n",
    "            self.cell_2 = cell\n",
    "\n",
    "    def is_boundary_face(self):\n",
    "        return self.cell_2 == -1\n",
    "    \n",
    "    def __hash__(self):\n",
    "        return tuple(sorted(self.vertices))\n",
    "    \n",
    "    def __eq__(self, other):\n",
    "        return self.__hash__() == other.__hash__()"
   ]
  },
  {
   "cell_type": "code",
   "execution_count": 3,
   "metadata": {},
   "outputs": [],
   "source": [
    "# Read the mesh and find the points and faces located on the boundary\n",
    "\n",
    "reader = vtk.vtkXMLUnstructuredGridReader()\n",
    "reader.SetFileName(\"stretched_cube.vtu\")\n",
    "reader.Update()\n",
    "u_grid = reader.GetOutput()\n",
    "\n",
    "# Collect the positions of the nodes\n",
    "n_nodes = u_grid.GetNumberOfPoints()\n",
    "node_lst = [u_grid.GetPoint(i) for i in range(n_nodes)]\n",
    "point_ar = np.array(node_lst)\n",
    "n_vertices = point_ar.shape[0]\n",
    "\n",
    "cell_lst = []\n",
    "#Loop over the cells in the VTK mesh (not all vtk cells are tetrahedra)\n",
    "for cell_id in range(u_grid.GetNumberOfCells()):\n",
    "\n",
    "    cell = u_grid.GetCell(cell_id)\n",
    "    n_cell_pts = cell.GetNumberOfPoints()\n",
    "\n",
    "    #If the cell is a tetrahedron\n",
    "    if n_cell_pts == 4:\n",
    "\n",
    "        # Get the points of the cell\n",
    "        cell_lst.append([cell.GetPointId(i) for i in range(n_cell_pts)])\n",
    "\n",
    "# Store the faces of the mesh in this dictionary\n",
    "face_dic = {}\n",
    "\n",
    "# Loop over the tetrahedra in the mesh\n",
    "for cell_id, cell_pts in enumerate(cell_lst):\n",
    "    face_0 = [cell_pts[0], cell_pts[1], cell_pts[2]]\n",
    "    face_1 = [cell_pts[0], cell_pts[1], cell_pts[3]]\n",
    "    face_2 = [cell_pts[0], cell_pts[2], cell_pts[3]]\n",
    "    face_3 = [cell_pts[1], cell_pts[2], cell_pts[3]]\n",
    "\n",
    "\n",
    "    #Create the faces\n",
    "    face_0 = Face(face_0, cell_id)\n",
    "    face_1 = Face(face_1, cell_id)\n",
    "    face_2 = Face(face_2, cell_id)\n",
    "    face_3 = Face(face_3, cell_id)\n",
    "\n",
    "    # Check if the faces are already in the dictionary\n",
    "    face_0_dic = face_dic.get(face_0.__hash__(), None)\n",
    "    face_1_dic = face_dic.get(face_1.__hash__(), None)\n",
    "    face_2_dic = face_dic.get(face_2.__hash__(), None)\n",
    "    face_3_dic = face_dic.get(face_3.__hash__(), None)\n",
    "\n",
    "    if face_0_dic is None: face_dic[face_0.__hash__()] = face_0\n",
    "    else: face_0_dic.add_cell(cell_id)\n",
    "\n",
    "    if face_1_dic is None: face_dic[face_1.__hash__()] = face_1\n",
    "    else: face_1_dic.add_cell(cell_id)\n",
    "        \n",
    "    if face_2_dic is None: face_dic[face_2.__hash__()] = face_2\n",
    "    else: face_2_dic.add_cell(cell_id)\n",
    "\n",
    "    if face_3_dic is None: face_dic[face_3.__hash__()] = face_3\n",
    "    else: face_3_dic.add_cell(cell_id)\n",
    "\n",
    "\n",
    "# The point IDs of the tetrahedral cells\n",
    "cell_ar = np.array(cell_lst)\n",
    "n_cells = cell_ar.shape[0]\n",
    "\n",
    "# The point IDs of the faces\n",
    "face_ar =       np.array([f.vertices for f in face_dic.values()])\n",
    "n_faces = face_ar.shape[0]\n",
    "\n",
    "# The cell sharing each face\n",
    "face_cell_ar =  np.array([[f.cell_1, f.cell_2] for f in face_dic.values()])\n",
    "\n",
    "# Store for each tetrahedron the faces that it contains\n",
    "cell_face_lst = [[] for _ in range(cell_ar.shape[0])]\n",
    "\n",
    "for face_id, (cell_1, cell_2) in enumerate(face_cell_ar):\n",
    "    if cell_1 != -1: cell_face_lst[cell_1].append(face_id)\n",
    "    if cell_2 != -1: cell_face_lst[cell_2].append(face_id)\n",
    "\n",
    "cell_face_ar = np.array(cell_face_lst)\n",
    "\n",
    "# We need to collect all the boundary points\n",
    "boundary_faces_idx = np.argwhere(face_cell_ar[:, 1] == -1).flatten()\n",
    "boundary_face_mask = np.zeros(n_faces, dtype=bool)\n",
    "boundary_face_mask[boundary_faces_idx] = True\n",
    "\n",
    "# Collect the points of the boundary faces\n",
    "boundary_points = np.unique(face_ar[boundary_faces_idx].flatten())\n",
    "boundary_point_mask = np.zeros(n_vertices, dtype=bool)\n",
    "boundary_point_mask[boundary_points] = True"
   ]
  },
  {
   "cell_type": "code",
   "execution_count": 4,
   "metadata": {},
   "outputs": [],
   "source": [
    "# To compute the initial displacament field, we also need to load the geometry \n",
    "# in the reference configuration\n",
    "reader = vtk.vtkUnstructuredGridReader()\n",
    "reader.SetFileName(\"tetrahedralized_cube_high_res.vtk\")\n",
    "reader.Update()\n",
    "ref_u_grid = reader.GetOutput()\n",
    "\n",
    "# Collect the positions of the nodes\n",
    "ref_point_ar = np.array([ref_u_grid.GetPoint(i) for i in range(n_nodes)])\n",
    "\n",
    "# Compute the initial displacement field\n",
    "disp_ar = point_ar - ref_point_ar"
   ]
  },
  {
   "cell_type": "markdown",
   "metadata": {},
   "source": [
    "<br>\n",
    "<br>\n",
    "<br>\n",
    "<br>\n",
    "<br>\n",
    "\n",
    "---\n",
    "\n",
    "## State variables interpolation in the mesh elements\n",
    "\n",
    "The displacement field as well as the stress and strain fields are linearly interpolated in the mesh elements (tetrahedra in this case) based on the values at the element nodes. The position inside an element can be defined based on the position of the element nodes and the barycentric coordinates of the point inside the element. This gives \n",
    "the following relationship: \n",
    "\n",
    "$$\n",
    "X = \\phi_0(X) X_0 + \\phi_1(X) X_1 + \\phi_2(X) X_2 + \\phi_3(X) X_3\n",
    "$$\n",
    "\n",
    "Here $X$ denotes the position of a point in the reference/underformed geometry. The position of the same point in the deformed geometry is denoted by $x(X)$. The functions $\\phi_i(X)$ are the barycentric coordinates of the point $X$ inside the element. This interpolation given above is also valid for any function such as the position in the deformed geometry $x(X)$, the displacement field $u(X)$, the strain field $\\varepsilon(X)$, the stress field $\\sigma(X)$, etc. \n",
    "\n",
    "\n",
    "We can rewrite the above equation into a matrix vector form: \n",
    "\n",
    "$$\n",
    "X = \n",
    "\\begin{bmatrix}\n",
    " \\mid& \\mid&  \\mid& \\mid  \\\\\n",
    " X_0&  X_1&  X_2&  X_3 \\\\\n",
    " \\mid&  \\mid&  \\mid& \\mid \\\\\n",
    "\\end{bmatrix}  \n",
    "\n",
    "\\begin{bmatrix}\n",
    "\\phi_0(X)\\\\\n",
    "\\phi_1(X)\\\\\n",
    "\\phi_2(X)\\\\\n",
    "\\phi_3(X)\\\\\n",
    "\\end{bmatrix}\n",
    "$$\n",
    "\n",
    "This system is not solvable, but with the fact that the sum of the barycentric coordinates is always equal to 1, we can rewrite the above equation as:\n",
    "\n",
    "$$\n",
    "X - X_0 = \n",
    "\\underbrace{\n",
    "\\begin{bmatrix}\n",
    " \\mid& \\mid&  \\mid \\\\\n",
    "  X_1 - X_0&  X_2- X_0&  X_3- X_0 \\\\\n",
    " \\mid&  \\mid&  \\mid&\\\\\n",
    "\\end{bmatrix}}_{=\\;T}\n",
    "\n",
    "\\begin{bmatrix}\n",
    "\\phi_1(X)\\\\\n",
    "\\phi_2(X)\\\\\n",
    "\\phi_3(X)\\\\\n",
    "\\end{bmatrix}\n",
    "$$\n",
    "\n",
    "and \n",
    "\n",
    "$$\n",
    "\\phi_0(X) = 1 - \\phi_1(X) - \\phi_2(X) - \\phi_3(X)\n",
    "$$\n",
    "\n",
    "\n",
    "we can therefore write that\n",
    "\n",
    "$$\n",
    "\\begin{bmatrix}\n",
    "\\phi_1(X)\\\\\n",
    "\\phi_2(X)\\\\\n",
    "\\phi_3(X)\\\\\n",
    "\\end{bmatrix} = \n",
    "\n",
    "T^{-1} (X - X_0)\n",
    "$$\n",
    "\n",
    "and \n",
    "\n",
    "$$\n",
    "\\phi_0(X) = 1 - \\vec{1}^T T^{-1} (X - X_0)\n",
    "$$\n",
    "\n",
    "where $\\vec{1}$ is a vector of ones.\n",
    "\n",
    "Assembling everything together, we obtain the following expression for the barycetric position of a point inside an element:\n",
    "\n",
    "\n",
    "$$ \n",
    "\\begin{bmatrix}\n",
    "\\phi_0(X)\\\\\n",
    "\\phi_1(X)\\\\\n",
    "\\phi_2(X)\\\\\n",
    "\\phi_3(X)\\\\\n",
    "\\end{bmatrix} =  \n",
    "\n",
    "\n",
    "\\begin{bmatrix}\n",
    "1\\\\\n",
    "0\\\\\n",
    "0\\\\\n",
    "0\\\\\n",
    "\\end{bmatrix} \n",
    "+\n",
    "\\underbrace{\n",
    "\\begin{bmatrix}\n",
    "& & & -\\vec{1}^{T} \\; T^{-1} & & & \\\\\n",
    "-&-&-&-&-&-& \\\\\n",
    "& & & & & & \\\\\n",
    "& & &T^{-1}& & & \\\\\n",
    "& & & & & & \\\\\n",
    "\\end{bmatrix}}_{=D \\;(4 \\times 3)}\n",
    "\n",
    "\n",
    "\\underbrace{\n",
    "(X - X_0)}_{(3 \\times 1)}\n",
    "\n",
    "\n",
    "$$\n",
    "\n",
    "The position in the deformed geometry is given by:\n",
    "\n",
    "$$\n",
    "x(X) = \\underbrace{\n",
    "\\begin{bmatrix}\n",
    " \\mid& \\mid&  \\mid& \\mid  \\\\\n",
    " x_0&  x_1&  x_2&  x_3 \\\\\n",
    " \\mid&  \\mid&  \\mid& \\mid \\\\\n",
    "\\end{bmatrix}}_{(3 \\times 4)} \\cdot\n",
    "\n",
    "\\begin{bmatrix}\n",
    "\\phi_0(X)\\\\\n",
    "\\phi_1(X)\\\\\n",
    "\\phi_2(X)\\\\\n",
    "\\phi_3(X)\\\\\n",
    "\\end{bmatrix}\n",
    "$$\n",
    "\n",
    "$$\n",
    "x(X) = \\vec{x_0} +\n",
    "\n",
    "\\underbrace{\n",
    "\\begin{bmatrix}\n",
    " \\mid& \\mid&  \\mid& \\mid  \\\\\n",
    " x_0&  x_1&  x_2&  x_3 \\\\\n",
    " \\mid&  \\mid&  \\mid& \\mid \\\\\n",
    "\\end{bmatrix}}_{(3 \\times 4)} \n",
    "\n",
    "\\underbrace{\n",
    "\\begin{bmatrix}\n",
    "& & & -\\vec{1}^{T} \\; T^{-1} & & & \\\\\n",
    "-&-&-&-&-&-& \\\\\n",
    "& & & & & & \\\\\n",
    "& & &T^{-1}& & & \\\\\n",
    "& & & & & & \\\\\n",
    "\\end{bmatrix}}_{=D \\; (4 \\times 3)}\n",
    "\n",
    "\\underbrace{\n",
    "(X - X_0)}_{(3 \\times 1)}\n",
    "$$\n",
    "\n",
    "This equation is pretty useful as it allows to easily compute the deformation gradient tensor:\n",
    "\n",
    "$$\n",
    "F = \\underbrace{\\frac{\\partial}{\\partial X} x(X,t)}_{(3 \\times 3)} = \\underbrace{\n",
    "\\begin{bmatrix}\n",
    " \\mid& \\mid&  \\mid& \\mid  \\\\\n",
    " x_0&  x_1&  x_2&  x_3 \\\\\n",
    " \\mid&  \\mid&  \\mid& \\mid \\\\\n",
    "\\end{bmatrix}}_{(3 \\times 4)} \n",
    "\n",
    "\\underbrace{\n",
    "\\begin{bmatrix}\n",
    "& & & -\\vec{1}^{T} \\; T^{-1} & & & \\\\\n",
    "-&-&-&-&-&-& \\\\\n",
    "& & & & & & \\\\\n",
    "& & &T^{-1}& & & \\\\\n",
    "& & & & & & \\\\\n",
    "\\end{bmatrix}}_{=D \\; (4 \\times 3)}\n",
    "\n",
    "\n",
    "$$\n",
    "\n",
    "---\n"
   ]
  },
  {
   "cell_type": "code",
   "execution_count": 5,
   "metadata": {},
   "outputs": [],
   "source": [
    "# Those are the basis functions and their gradients on the reference tetrahedron\n",
    "\n",
    "def basis_fn_1(u, v, w): return 1 - u - v - w \n",
    "def basis_fn_2(u, v, w): return u\n",
    "def basis_fn_3(u, v, w): return v\n",
    "def basis_fn_4(u, v, w): return w\n",
    "\n",
    "grad_basis_fn_1 = np.array([-1, -1, -1])\n",
    "grad_basis_fn_2 = np.array([ 1,  0,  0])\n",
    "grad_basis_fn_3 = np.array([ 0,  1,  0])\n",
    "grad_basis_fn_4 = np.array([ 0,  0,  1])\n",
    "\n",
    "reference_basis_fn_lst =      [basis_fn_1, basis_fn_2, basis_fn_3, basis_fn_4]\n",
    "reference_grad_basis_fn_lst = [grad_basis_fn_1, grad_basis_fn_2, grad_basis_fn_3, grad_basis_fn_4]\n",
    "n_local_basis_fn = len(reference_basis_fn_lst)"
   ]
  },
  {
   "cell_type": "code",
   "execution_count": 6,
   "metadata": {},
   "outputs": [],
   "source": [
    "# Compute the T and D matrices for all the tetrhedra in the mesh\n",
    "x0_ar = ref_point_ar[cell_ar[:, 0]]\n",
    "x1_ar = ref_point_ar[cell_ar[:, 1]]\n",
    "x2_ar = ref_point_ar[cell_ar[:, 2]]\n",
    "x3_ar = ref_point_ar[cell_ar[:, 3]]\n",
    "\n",
    "#Compute the T matrix for all the tetrahedra\n",
    "T = np.column_stack([x1_ar - x0_ar, x2_ar - x0_ar, x3_ar - x0_ar]).reshape(-1, 3, 3)\n",
    "T = np.transpose(T, (0, 2, 1))\n",
    "\n",
    "#Compute the inverse of the T matrix\n",
    "T_inv = np.linalg.inv(T)\n",
    "\n",
    "#Compute the D matrix for all the tetrahedra\n",
    "D = np.hstack([-np.sum(T_inv, axis=1)[:, np.newaxis], T_inv])\n",
    "\n",
    "# Compute the volume of each tetrahedron in the reference configuration\n",
    "ref_volume_ar = np.abs(np.linalg.det(T)) / 6"
   ]
  },
  {
   "cell_type": "code",
   "execution_count": 7,
   "metadata": {},
   "outputs": [],
   "source": [
    "\n",
    "#Make sure that the D matrix is correct\n",
    "def test_D_matrix(D): \n",
    "\n",
    "    # Create virtual deformed point coordinates\n",
    "    def_point_ar = ref_point_ar * np.array([2, 1, 1])\n",
    "\n",
    "    # Get the point coordinates of the cells\n",
    "    def_x0_ar = def_point_ar[cell_ar[:, 0]]\n",
    "    def_x1_ar = def_point_ar[cell_ar[:, 1]]\n",
    "    def_x2_ar = def_point_ar[cell_ar[:, 2]]\n",
    "    def_x3_ar = def_point_ar[cell_ar[:, 3]]\n",
    "\n",
    "    # Compute the T matrix in the deformed configuration\n",
    "    T_def = np.column_stack([def_x1_ar - def_x0_ar, def_x2_ar - def_x0_ar, def_x3_ar - def_x0_ar]).reshape(-1, 3, 3)\n",
    "    T_def = np.transpose(T_def, (0, 2, 1))\n",
    "\n",
    "    # Compute the correct deformation gradient tensor\n",
    "    F_correct = np.matmul(T_def, T_inv)\n",
    "\n",
    "    # Compute the deformation gradient tensor using the D matrix\n",
    "    M = np.transpose(def_point_ar[cell_ar], (0, 2, 1))\n",
    "    F_computed = np.matmul(M, D)\n",
    "\n",
    "    # Check that the matrices are the same\n",
    "    np.testing.assert_allclose(F_correct, F_computed, atol=1e-5)\n",
    "\n",
    "test_D_matrix(D)"
   ]
  },
  {
   "cell_type": "markdown",
   "metadata": {},
   "source": [
    "<br>\n",
    "<br>\n",
    "<br>\n",
    "<br>\n",
    "<br>\n",
    "\n",
    "---\n",
    "\n",
    "## Kinetic energy\n",
    "\n",
    "The kinetic energy of the system is given by:\n",
    "\n",
    "$$\n",
    "T = \\sum_{i=1}^{N} \\frac{1}{2} \\int_{\\Omega_{i,0}} \\dot{q}(t, X)^T \\, \\dot{q}(t, X) \\; d\\Omega_{i,0}\n",
    "$$\n",
    "\n",
    "Where the sum runs over all the element cells of the mesh (tetrahedra in this case). $q(X,t)$ is the generalized coordinate of the system. In this case, the generalized coordinate is the displacement field $u(X,t)$. The dot denotes the time derivative. Note that the kinetic energy of the system is computed in the reference configuration (Lagrangian formulation).\n",
    "\n",
    "For each element, we can write the displacement of a given point as: \n",
    "\n",
    "$$\n",
    "\n",
    "u(X,t) = \n",
    "\n",
    "\\underbrace{\n",
    "\\begin{bmatrix}\n",
    " & & & \\\\\n",
    "\\mathrm{I}\\phi_0(X) & \\mathrm{I}\\phi_1(X) & \\mathrm{I}\\phi_2(X) & \\mathrm{I}\\phi_3(X)\\\\\n",
    " & & & \\\\\n",
    "\\end{bmatrix}}_{= N(X) \\; (3 \\times 12)}\n",
    "\n",
    "\n",
    "\\underbrace{\n",
    "\\begin{bmatrix}\n",
    "\\mid \\\\\n",
    "u_0(t) \\\\\n",
    "\\mid \\\\\n",
    " \\\\\n",
    "\\mid\\\\\n",
    "u_1(t) \\\\\n",
    "\\mid \\\\\n",
    "... \\\\\n",
    "\\end{bmatrix}}_{=u(t) \\; (1 \\times 12)}\n",
    "$$\n",
    "\n",
    "The kinetic energy of the system is therefore given by:\n",
    "\n",
    "$$\n",
    "\\sum_{i=1}^{N} \\frac{1}{2} \\dot{u}(t)^{T} \\underbrace{\\int_{\\Omega_{i,0}} N(X)^T  N(X) \\, d\\Omega_{i,0}}_{= \\mathrm{M}_0 (12 \\times 12)} \\; \\dot{u}(t)\n",
    "$$\n",
    "\n",
    "\n",
    "Where $\\mathrm{M}_0$ is the local mass matrix of the system: \n",
    "\n",
    "$$\n",
    "\\mathrm{M}_0 = \n",
    "\\int_{\\Omega_{i,0}}\n",
    "\\begin{bmatrix}\n",
    "\\mathrm{I} \\phi_0(X) \\phi_0(X) & \\mathrm{I} \\phi_0(X) \\phi_1(X) & \\mathrm{I} \\phi_0(X) \\phi_2(X) & \\mathrm{I} \\phi_0(X) \\phi_3(X) \\\\\n",
    "\\mathrm{I} \\phi_1(X) \\phi_0(X) & \\mathrm{I} \\phi_1(X) \\phi_1(X) & \\mathrm{I} \\phi_1(X) \\phi_2(X) & \\mathrm{I} \\phi_1(X) \\phi_3(X) \\\\\n",
    "\\mathrm{I} \\phi_2(X) \\phi_0(X) & \\mathrm{I} \\phi_2(X) \\phi_1(X) & \\mathrm{I} \\phi_2(X) \\phi_2(X) & \\mathrm{I} \\phi_2(X) \\phi_3(X) \\\\\n",
    "\\mathrm{I} \\phi_3(X) \\phi_0(X) & \\mathrm{I} \\phi_3(X) \\phi_1(X) & \\mathrm{I} \\phi_3(X) \\phi_2(X) & \\mathrm{I} \\phi_3(X) \\phi_3(X) \\\\\n",
    "\\end{bmatrix} d\\Omega_{i,0}\n",
    "$$\n",
    "\n",
    "This local mass matrix can be computed like done in the previous notebooks by numerically integrating the shape functions in a reference element and \n",
    "then transforming the region of integration. The global matrix can also be assembled in a similar way as done in the previous notebooks.\n",
    "\n",
    "---"
   ]
  },
  {
   "cell_type": "code",
   "execution_count": 8,
   "metadata": {},
   "outputs": [],
   "source": [
    "#Compute the mass matrix for a reference tetrahedron\n",
    "\n",
    "#Integrate the product of the basis functions over the reference tetrhedron\n",
    "M_reference = np.zeros((n_local_basis_fn, n_local_basis_fn))\n",
    "\n",
    "for i in range(n_local_basis_fn):\n",
    "    for j in range(i, n_local_basis_fn):\n",
    "        \n",
    "        M_reference[i, j] = tplquad(\n",
    "            lambda u, v, w: reference_basis_fn_lst[i](u, v, w) * reference_basis_fn_lst[j](u, v, w), \n",
    "            0, 1, \n",
    "            0, lambda u: 1 - u, \n",
    "            0, lambda u, v: 1 - u - v\n",
    "        )[0]\n",
    "        \n",
    "        M_reference[j, i] = M_reference[i, j] \n",
    "\n",
    "\n",
    "# For each tetrahedron we need to compute the jacobian that maps the element coordinates to the reference coordinates\n",
    "p0_ar = ref_point_ar[cell_ar[:, 0]]\n",
    "p1_ar = ref_point_ar[cell_ar[:, 1]]\n",
    "p2_ar = ref_point_ar[cell_ar[:, 2]]\n",
    "p3_ar = ref_point_ar[cell_ar[:, 3]]\n",
    "jacobian_ar = np.column_stack([p0_ar - p3_ar, p1_ar - p3_ar, p2_ar - p3_ar]).reshape(-1, 3, 3)\n",
    "\n",
    "#Compute the determinant of each Jacobian matrix\n",
    "det_jacobian_ar = np.abs(np.linalg.det(jacobian_ar))\n",
    "local_mass_matrix_ar  = np.zeros((n_cells, n_local_basis_fn, n_local_basis_fn))\n",
    "\n",
    "#Compute the local mass matrices\n",
    "for i in range(n_local_basis_fn):\n",
    "    for j in range(i, n_local_basis_fn):\n",
    " \n",
    "        #body_force matrix\n",
    "        local_mass_matrix_ar[:, i, j] = det_jacobian_ar * M_reference[i, j]\n",
    "        local_mass_matrix_ar[:, j, i] = local_mass_matrix_ar[:, i, j] \n",
    "\n",
    "\n",
    "# we assume that the density of the material is constant at 1000 kg/m^3 \n",
    "density_ar = np.ones(n_cells) * 1000.0\n",
    "local_mass_matrix_ar = local_mass_matrix_ar * density_ar[:, np.newaxis, np.newaxis]\n",
    "\n",
    "#Now we need to assemble the global mass matrix\n",
    "row_id = np.repeat(cell_ar, n_local_basis_fn).flatten()\n",
    "col_id = np.tile(cell_ar,   n_local_basis_fn).flatten()\n",
    "mass_data = local_mass_matrix_ar.flatten()\n",
    "\n",
    "# Since we are solving for a 3D displacement field, and not just one scalar field, we need to expand the local mass matrix\n",
    "# to account for the three components of the displacement field\n",
    "row_id = np.column_stack([row_id*3, row_id*3 + 1, row_id*3 + 2]).flatten()\n",
    "col_id = np.column_stack([col_id*3, col_id*3 + 1, col_id*3 + 2]).flatten()\n",
    "mass_data = np.repeat(mass_data, 3)\n",
    "\n",
    "# Create the sparse global mass matrix\n",
    "global_mass_matrix = csc_matrix((mass_data.flatten(), (row_id, col_id)), shape=(n_vertices*3, n_vertices*3))\n",
    "global_mass_matrix.sum_duplicates()"
   ]
  },
  {
   "cell_type": "markdown",
   "metadata": {},
   "source": [
    "<br>\n",
    "<br>\n",
    "<br>\n",
    "<br>\n",
    "<br>\n",
    "\n",
    "---\n",
    "\n",
    "## Potential energy\n",
    "\n",
    "The strain density energy of a compressible Neo-Hookean material is given by:\n",
    "$$\n",
    "\\Psi(F) = C_1 \\left(I_1 - 3 - 2 \\log(J)\\right) + C_2 \\left(J - 1\\right)^2 \n",
    "$$\n",
    "\n",
    "Where $I_1$ is the first invariant of the deformation gradient tensor $F$ and $J$ is the determinant of $F$. $I_1$ is given by:\n",
    "$$\n",
    "I_1 = \\mathrm{tr}(F^TF)\n",
    "$$\n",
    "\n",
    "The internal forces due to elasticity are given by the gradient of the strain density energy with respect to the displacement field. \n",
    "Instead of calculating and constructing this function ($F_\\mathrm{int}(u)$) by hand laboroulsy (which is possible), we can use the jax library to automatically compute the gradient of the strain density energy with respect to the displacement field. \n",
    "\n",
    "\n",
    "---"
   ]
  },
  {
   "cell_type": "code",
   "execution_count": 27,
   "metadata": {},
   "outputs": [],
   "source": [
    "\n",
    "# The parameters of the compressible Neo-Hookean material\n",
    "C1 = 1e6 # 1MPa Shear modulus\n",
    "C2 = 1e6 # 1MPa Bulk modulus\n",
    "\n",
    "\n",
    "# Create the strain density energy function of a compressible Neo-Hookean material\n",
    "#-----------------------------------------------------------------------------------\n",
    "@partial(jax.jit, static_argnums=(4, 5))\n",
    "def compressible_neo_hookean_strain_density_energy_func(\n",
    "        u, \n",
    "        ref_point_ar, \n",
    "        ref_volume_ar, \n",
    "        D, \n",
    "        C1, \n",
    "        C2\n",
    "    ):\n",
    "\n",
    "    # Compute the point coordinates in the deformed configuration\n",
    "    def_point_ar = ref_point_ar + u.reshape(-1, 3)\n",
    "\n",
    "    # Compute the deformation gradient tensor\n",
    "    cell_def_point_ar = jnp.transpose(def_point_ar[cell_ar], (0, 2, 1))\n",
    "    F_ar =   jnp.matmul(cell_def_point_ar, D)\n",
    "    F_T_ar = jnp.transpose(F_ar, (0, 2, 1))\n",
    "\n",
    "    # Compute the right Cauchy-Green tensor\n",
    "    C_ar = jnp.matmul(F_T_ar, F_ar)\n",
    "\n",
    "    # Compute the invariants of the right Cauchy-Green tensor\n",
    "    J_ar = jnp.linalg.det(F_ar)\n",
    "\n",
    "    I1_ar = jnp.trace(C_ar, axis1=1, axis2=2)\n",
    "\n",
    "    # Compute the strain density energy function of each cell\n",
    "    W = C1 * (I1_ar -3.0 - 2 * jnp.log(J_ar)) + C2 * (J_ar - 1)**2\n",
    "\n",
    "    # Integrate the strain density energy function over the cell volumes\n",
    "    E = ref_volume_ar * J_ar * W\n",
    "\n",
    "    # Sum the contributions of all the cells\n",
    "    return jnp.sum(E)\n",
    "#-----------------------------------------------------------------------------------\n",
    "\n",
    "\n",
    "\n",
    "# Compute the gradient of the strain density energy function with respect to the \n",
    "# displacement field, which corresponds to the internal forces acting on the object\n",
    "grad_density_energy_func = jax.grad(compressible_neo_hookean_strain_density_energy_func, argnums=0)\n",
    "\n",
    "\n",
    "def internal_forces_func(\n",
    "        u_ar, \n",
    "        grad_density_energy_func = grad_density_energy_func,\n",
    "        ref_point_ar = ref_point_ar,\n",
    "        ref_volume_ar = ref_volume_ar,\n",
    "        D = D,\n",
    "        C1 = C1,\n",
    "        C2 = C2\n",
    "    ):\n",
    "    \n",
    "    return (-1.0) * grad_density_energy_func(u_ar,ref_point_ar = ref_point_ar, ref_volume_ar = ref_volume_ar, D = D, C1 = C1, C2 = C2)\n",
    "\n"
   ]
  },
  {
   "cell_type": "markdown",
   "metadata": {},
   "source": [
    "### Jacobian of the internal forces wrt the displacement field\n",
    "\n",
    "Another quantity that we will compute automatically with Jax is the Jacobian of the internal forces with respect to the displacement field. This matrix will later be essential to solve the non-linear equations of motion. Unfortunately, we cannot simply call `jax.jacobian` on $F_\\mathrm{int}(u)$ because the matrix thereby created would be dense and would not fit in memory. We already know the sparsity pattern of the jacobian since if two nodes are connected with an edge, then when one of the nodes move it affects the forces of the other one and vice versa. We can take advantage of this known sparsity pattern to only compute certain parts of the jacobian matrix with the `jax.jvp` (jacobian vector product) function and thus create a sparse representation of the jacobian matrix.\n",
    "\n",
    "If we have the following mesh structure: \n",
    "```\n",
    "A -- B -- C  D\n",
    "```\n",
    "where A and B, B and C are connected by an edge and D is not connected to any other node. The jacobian of the forces wrt the node displacements would look like this:\n",
    "$$\n",
    "\\begin{bmatrix}\n",
    "\\partial F_{A} / \\partial u_A & \\partial F_{A} / \\partial u_B & \\partial F_{A} / \\partial u_C & \\partial F_{A} / \\partial u_D \\\\\n",
    "\\partial F_{B} / \\partial u_A & \\partial F_{B} / \\partial u_B & \\partial F_{B} / \\partial u_C & \\partial F_{B} / \\partial u_D \\\\\n",
    "\\partial F_{C} / \\partial u_A & \\partial F_{C} / \\partial u_B & \\partial F_{C} / \\partial u_C & \\partial F_{C} / \\partial u_D \\\\\n",
    "\\partial F_{D} / \\partial u_A & \\partial F_{D} / \\partial u_B & \\partial F_{D} / \\partial u_C & \\partial F_{D} / \\partial u_D \\\\\n",
    "\\end{bmatrix}\n",
    "$$\n",
    "Each entry is a 3 by 3 block because of the 3 dimensions of the displacement field. If we remove the zero entries of the matrix, we get:\n",
    "$$\n",
    "\\begin{bmatrix}\n",
    "\\partial F_{A} / \\partial u_A & \\partial F_{A} / \\partial u_B & 0                             & 0                             \\\\\n",
    "\\partial F_{B} / \\partial u_A & \\partial F_{B} / \\partial u_B & \\partial F_{B} / \\partial u_C & 0                             \\\\\n",
    "0                             & \\partial F_{C} / \\partial u_B & \\partial F_{C} / \\partial u_C & 0                             \\\\\n",
    "0                             & 0                             &  0                            & \\partial F_{D} / \\partial u_D \\\\\n",
    "\\end{bmatrix}\n",
    "$$\n",
    "\n",
    "Now if we multiply this matrix by the vector: $\\left[1, 0, 0 , 1\\right]$ we obtain: $\\left[\\partial F_{A} / \\partial u_A, \\partial F_{B} / \\partial u_A, 0 , \\partial F_{D} / \\partial u_D\\right]$. Then we can do the same for the second and third columns to collect all the non zero entries of the Jacobian matrix. By collecting simultaneously several non-zero entries, we reduce the number of calls to the `jax.jvp` function and thus speed up the computation of the jacobian matrix.\n",
    "\n",
    "We cannot collect simultaneously the entries corresponding to two points if they are only separated by one or two edges. For instance, if we try to obtain the entries for node A and C with the vector $\\left[1, 0, 1, 0\\right]$, we would obtain the following vector: $\\left[\\partial F_{A} / \\partial u_A, \\partial F_{B} / \\partial u_A + \\partial F_{b} / \\partial u_c, \\partial F_{C} / \\partial u_C , 0 \\right]$. It is impossible to separate the contribution of node A and C on the forces of node B.\n",
    "\n",
    "The first step is therefore to group the nodes of the mesh in groups where all points are at least separated by two edges. This problem is sometimes called the distance-2 graph coloring problem. We will use a greedy algorithm to solve this problem. "
   ]
  },
  {
   "cell_type": "code",
   "execution_count": 10,
   "metadata": {},
   "outputs": [],
   "source": [
    "# Compute the sparsity pattern of the Jacobian matrix of the internal forces\n",
    "\n",
    "\n",
    "# We need to know the sparsity pattern of the Jacobian matrix of the internal forces. \n",
    "# If 2 nodes are connected by an edge, then their positions affect the elastic forces applied \n",
    "# to each other. This means that the Jacobian matrix is non-zero at the positions corresponding\n",
    "# the indices of the 2 nodes connected by an edge. \n",
    "edge_ar = np.vstack(\n",
    "    [\n",
    "        face_ar[:, [0, 1]],\n",
    "        face_ar[:, [1, 2]],\n",
    "        face_ar[:, [2, 0]],\n",
    "    ]\n",
    ")\n",
    "\n",
    "# Sort the edge array\n",
    "edge_ar = np.sort(edge_ar, axis=1)\n",
    "\n",
    "# Remove duplicate edges\n",
    "edge_ar = np.unique(edge_ar, axis=0)\n",
    "\n",
    "# This is the adjacency matrix of the mesh\n",
    "adjacency_matrix_1D_indices = np.vstack(\n",
    "    [\n",
    "        edge_ar[:, [0, 1]], \n",
    "        edge_ar[:, [1, 0]], \n",
    "        np.repeat(np.arange(n_vertices).reshape(-1, 1), 2, axis=1), # Add the diagonal elements\n",
    "    ]\n",
    ")\n",
    "\n",
    "# Create the sparse adjacency matrix\n",
    "adjacency_matrix_1D = csc_matrix((np.ones(adjacency_matrix_1D_indices.shape[0]), (adjacency_matrix_1D_indices[:, 0], adjacency_matrix_1D_indices[:, 1])), shape=(n_vertices, n_vertices))\n",
    "\n",
    "\n",
    "# We need to extend the adjacency matrix to account for the 3 components of the displacement field\n",
    "# At each row, for each pair of indices (i, j) we need to add:\n",
    "# (i*3 + 0, j*3 + 0), \n",
    "# (i*3 + 1, j*3 + 0), \n",
    "# (i*3 + 0, j*3 + 1), \n",
    "\n",
    "# (i*3 + 1, j*3 + 1),\n",
    "# (i*3 + 2, j*3 + 0),\n",
    "# (i*3 + 0, j*3 + 2),\n",
    "\n",
    "# (i*3 + 2, j*3 + 2),\n",
    "# (i*3 + 1, j*3 + 2),\n",
    "# (i*3 + 2, j*3 + 1)\n",
    "\n",
    "\n",
    "sparsity_pattern_indices = np.vstack(\n",
    "    [\n",
    "        np.column_stack([adjacency_matrix_1D_indices[:, 0]*3    , adjacency_matrix_1D_indices[:, 1]*3    ]),\n",
    "        np.column_stack([adjacency_matrix_1D_indices[:, 0]*3 + 1, adjacency_matrix_1D_indices[:, 1]*3    ]),\n",
    "        np.column_stack([adjacency_matrix_1D_indices[:, 0]*3    , adjacency_matrix_1D_indices[:, 1]*3 + 1]),\n",
    "\n",
    "        np.column_stack([adjacency_matrix_1D_indices[:, 0]*3 + 1, adjacency_matrix_1D_indices[:, 1]*3 + 1]),\n",
    "        np.column_stack([adjacency_matrix_1D_indices[:, 0]*3 + 2, adjacency_matrix_1D_indices[:, 1]*3    ]),\n",
    "        np.column_stack([adjacency_matrix_1D_indices[:, 0]*3    , adjacency_matrix_1D_indices[:, 1]*3 + 2]),\n",
    "\n",
    "        np.column_stack([adjacency_matrix_1D_indices[:, 0]*3 + 2, adjacency_matrix_1D_indices[:, 1]*3 + 2]),\n",
    "        np.column_stack([adjacency_matrix_1D_indices[:, 0]*3 + 1, adjacency_matrix_1D_indices[:, 1]*3 + 2]),\n",
    "        np.column_stack([adjacency_matrix_1D_indices[:, 0]*3 + 2, adjacency_matrix_1D_indices[:, 1]*3 + 1]),\n",
    "    ]\n",
    ")\n",
    "\n",
    "\n",
    "row_id = sparsity_pattern_indices[:, 0]\n",
    "col_id = sparsity_pattern_indices[:, 1]\n",
    "data = np.ones(sparsity_pattern_indices.shape[0])\n",
    "\n",
    "# Create the sparse adjacency matrix\n",
    "sparsity_pattern = csc_matrix((data, (row_id, col_id)), shape=(n_vertices*3, n_vertices*3))\n"
   ]
  },
  {
   "cell_type": "code",
   "execution_count": 11,
   "metadata": {},
   "outputs": [],
   "source": [
    "# Perform the distance-2 coloring on the graph\n",
    "\n",
    "def distance_2_coloring(graph):\n",
    "    \"\"\"\n",
    "    Perform distance-2 coloring on the input graph.\n",
    "\n",
    "    Parameters:\n",
    "        graph (networkx.Graph): Input graph.\n",
    "\n",
    "    Returns:\n",
    "        dict: A dictionary where keys are nodes and values are the assigned colors.\n",
    "    \"\"\"\n",
    "    # Create the square graph (G^2)\n",
    "    square_graph = nx.Graph()\n",
    "    square_graph.add_nodes_from(graph.nodes)\n",
    "    \n",
    "    for node in graph.nodes:\n",
    "        # Get neighbors within distance 2\n",
    "        distance_2_neighbors = set(nx.single_source_shortest_path_length(graph, node, cutoff=2).keys())\n",
    "        distance_2_neighbors.discard(node)  # Remove self-loops\n",
    "        for neighbor in distance_2_neighbors:\n",
    "            square_graph.add_edge(node, neighbor)\n",
    "    \n",
    "    # Perform greedy coloring on the square graph\n",
    "    coloring = nx.coloring.greedy_color(square_graph, strategy=\"largest_first\")\n",
    "    return coloring\n",
    "\n",
    "# Example usage\n",
    "# Create a sample graph\n",
    "G = nx.Graph()\n",
    "G.add_edges_from(sparsity_pattern_indices.tolist())\n",
    "vertex_color_dic = distance_2_coloring(G)\n",
    "\n",
    "# We need to reverse the dictionary to get a list of vertices for each color\n",
    "color_vertex_dic = {}\n",
    "for vertex, color in vertex_color_dic.items():\n",
    "    color_vertex_dic[color] = color_vertex_dic.get(color, []) + [vertex]\n",
    "\n",
    "# Transform the list of vertices into a numpy array\n",
    "for color, vertex_lst in color_vertex_dic.items():\n",
    "    color_vertex_dic[color] = np.array(vertex_lst)"
   ]
  },
  {
   "cell_type": "code",
   "execution_count": 12,
   "metadata": {},
   "outputs": [],
   "source": [
    "# Compute the sparse jacobian matrix of the internal forces\n",
    "\n",
    "def jac_internal_forces_func(\n",
    "        f, x, sparsity_pattern, color_vertex_dic):\n",
    "    \"\"\"\n",
    "    Compute the sparse Jacobian of f at x given a known sparsity pattern.\n",
    "    \n",
    "    Args:\n",
    "        f: Function whose Jacobian is to be computed.\n",
    "        x: Point at which to compute the Jacobian.\n",
    "        sparsity_pattern: Sparse matrix indicating the structure of the Jacobian.\n",
    "        color_vertex_dic: Dictionary where keys are colors and values are arrays of vertices.\n",
    "    \n",
    "    Returns:\n",
    "        A sparse matrix (CSR format) representing the Jacobian.\n",
    "    \"\"\"\n",
    "\n",
    "\n",
    "    # Store the indices and entries of the sparse jacobian matrix \n",
    "    jacobian_row_id_lst = []\n",
    "    jacobian_col_id_lst = []\n",
    "    jacobian_data_lst   = []\n",
    "\n",
    "    for selected_col_id_ar in color_vertex_dic.values():\n",
    "\n",
    "        # Create a vector of zeros\n",
    "        e_j = jnp.zeros_like(x)\n",
    "\n",
    "        # Set the values of the vector to 1 at the positions corresponding to the selected columns\n",
    "        e_j = e_j.at[selected_col_id_ar].set(1.0)\n",
    "\n",
    "        # Compute the Jacobian vector product \n",
    "        _, summed_cols_vector = jax.jvp(f, (x,), (e_j,))\n",
    "\n",
    "        # Now the trick is to find for each row of summed_cols_vector the index of the column where the entry is located in the Jacobian matrix\n",
    "\n",
    "        # Start making all columns in the adjacency matrix zero except for the selected columns\n",
    "        diag_matrix = diags(np.array(e_j), format='csc')\n",
    "        adjacency_matrix_subset =  sparsity_pattern.dot(diag_matrix)\n",
    "\n",
    "        #Small check to make sure that per row, there is at maximum one column with a non-zero entry\n",
    "        assert np.all(adjacency_matrix_subset.sum(axis=1) <= 1)\n",
    "\n",
    "        # Extract the indices of the non-zero entries of this subset of the adjacency matrix\n",
    "        subset_row_indices, subset_col_indices = adjacency_matrix_subset.nonzero()\n",
    "\n",
    "        # The row indices of the Jacobian matrix are the same as the row indices of the adjacency matrix\n",
    "        jacobian_row_id_lst.extend(subset_row_indices)\n",
    "        jacobian_col_id_lst.extend(subset_col_indices)\n",
    "        jacobian_data_lst.extend(summed_cols_vector[subset_row_indices])\n",
    "\n",
    "\n",
    "    # Create the sparse Jacobian matrix\n",
    "    return csc_matrix((jacobian_data_lst, (jacobian_row_id_lst, jacobian_col_id_lst)), shape=(len(f(x)), len(x)))\n",
    "\n",
    "\n",
    "\n",
    "\n",
    "\n"
   ]
  },
  {
   "cell_type": "markdown",
   "metadata": {},
   "source": [
    "<br>\n",
    "<br>\n",
    "<br>\n",
    "<br>\n",
    "<br>\n",
    "\n",
    "---\n",
    "\n",
    "## Time integration \n",
    "\n",
    "To keep things simple, we will use the implicit backward Euler method. The equations of motion are given by:\n",
    "$$\n",
    "M \\ddot{u} - \\vec{K}(u) = 0\n",
    "$$\n",
    "Which can be rewritten as a first order system:\n",
    "$$\n",
    "\\begin{aligned}\n",
    "\\dot{u} &= v \\\\\n",
    "M \\dot{v} &= \\vec{K}(u)\n",
    "\\end{aligned}\n",
    "$$\n",
    "\n",
    "To integrate from time step $n$ to time step $n+1$, the implicit method requires to solve the following equation:\n",
    "$$\n",
    "\\begin{aligned}\n",
    "u_{n+1} &= u_n + h v_{n+1} \\\\\n",
    "M v_{n+1} &= M v_n + h \\vec{K}(u_{n+1}) \\\\\n",
    "\\end{aligned}\n",
    "$$\n",
    "\n",
    "We can write this equations into a function $F(\\hat{u}, \\hat{v})$:\n",
    "$$\n",
    "F(\\hat{u}, \\hat{v}) =\n",
    "\\begin{bmatrix}\n",
    "\\hat{u} - u_n - h \\hat{v} \\\\\n",
    "M \\hat{v} - M v_n - h \\vec{K}(\\hat{u}) \\\\\n",
    "\\end{bmatrix}\n",
    "$$\n",
    "\n",
    "When this function is equal to zero, then we have found the displacements and velocities at time step $n+1$, i.e. $\\hat{u} = u_{n+1}$ and $\\hat{v} = v_{n+1}$ if $F(\\hat{u}, \\hat{v}) = \\vec{0}$. We can solve this equation using the Newton-Raphson method. The first step is to \n",
    "compute a linear approximation of $F$ around the current guess $(\\hat{u}, \\hat{v})$:\n",
    "$$\n",
    "F(\\hat{u} + \\delta u, \\hat{v} + \\delta v) \\approx F(\\hat{u}, \\hat{v}) + \\mathrm{J}(F) \\begin{bmatrix} \\delta u \\\\ \\delta v \\end{bmatrix}\n",
    "$$\n",
    "\n",
    "We replace the right hand side of the equation by zero to find the root of our function $F(\\hat{u}, \\hat{v})$:\n",
    "$$\n",
    "\\mathrm{J}(F) \\begin{bmatrix} \\delta u \\\\ \\delta v \\end{bmatrix}= - F(\\hat{u}, \\hat{v})\n",
    "$$\n",
    "The Newton-Raphson algorithm simply boils down to repeating iteratively the above equation until we reach a certain tolerance.\n",
    "\n",
    "The jacobian of the function $F$ has the following form:\n",
    "$$\n",
    "\\mathrm{J}(F) =\n",
    "\\begin{bmatrix}\n",
    "\\partial F_u / \\partial \\hat{u} & \\partial F_u / \\partial \\hat{v} \\\\\n",
    "\\partial F_v / \\partial \\hat{u} & \\partial F_v / \\partial \\hat{v} \\\\\n",
    "\\end{bmatrix}\n",
    "$$\n",
    "\n",
    "Which gives the following block matrix:\n",
    "$$\n",
    "\\mathrm{J}(F) =\n",
    "\\begin{bmatrix}\n",
    "\\mathrm{I} & -h \\mathrm{I} \\\\\n",
    "-h \\frac{\\partial \\vec{K}}{\\partial \\hat{u}} & M \\\\\n",
    "\\end{bmatrix}   \n",
    "$$\n",
    "\n",
    "We can take advantage of the block structure of $\\mathrm{J}(F)$ to solve the linear system for $\\delta u$ and $\\delta v$ in a more efficient way. For this we will use the Schur complement method: \n",
    "\\begin{aligned}\n",
    "J_{11} \\delta u + J_{12} \\delta v &= -F_u \\\\\n",
    "J_{21} \\delta u + J_{22} \\delta v &= -F_v \\\\\n",
    "\\end{aligned}\n",
    "\n",
    "We can substitute $\\delta u$ from the first equation into the second equation to obtain:\n",
    "$$\n",
    "\\begin{aligned}\n",
    "\\delta u &= -J_{11}^{-1} \\left( F_u + J_{12} \\delta v \\right) \\\\ \n",
    "J_{21} \\left[-J_{11}^{-1} \\left( F_u + J_{12} \\delta v \\right)\\right] + J_{22} \\delta v &= -F_v \\\\ \n",
    "\\end{aligned}\n",
    "$$\n",
    "\n",
    "Replacing with the content of the Jacobian matrix gives: \n",
    "$$\n",
    "\\begin{aligned}\n",
    "\\delta u &= h \\delta v -F_u  \\\\ \n",
    "-h \\frac{\\partial \\vec{K}}{\\partial \\hat{u}} \\left[ h \\delta v - F_u   \\right] + M \\delta v &= - F_v \\\\\n",
    "\\end{aligned}\n",
    "$$\n",
    "\n",
    "We can isolate $\\delta v$:\n",
    "$$\n",
    "\\begin{aligned}\n",
    "\\delta u &= h \\delta v -F_u  \\\\ \n",
    "\\left[M - h^2 \\frac{\\partial \\vec{K}}{\\partial \\hat{u}}\\right] \\delta v &= -h \\frac{\\partial \\vec{K}}{\\partial \\hat{u}} F_u - F_v \\\\\n",
    "\\end{aligned}\n",
    "$$\n",
    "\n",
    "\n",
    "We start by solving the first system for $\\delta v$ and then we substitute it into the first equation to find $\\delta u$."
   ]
  },
  {
   "cell_type": "code",
   "execution_count": 29,
   "metadata": {},
   "outputs": [],
   "source": [
    "\n",
    "#----------------------------------------------------------------------------------------------------\n",
    "def compute_prediction_residual(\n",
    "        u_hat_ar, \n",
    "        v_hat_ar,\n",
    "        u_n_minus_1_ar,\n",
    "        v_n_minus_1_ar,\n",
    "        time_step,     \n",
    "        internal_forces_func,\n",
    "        global_mass_matrix,\n",
    "    ):\n",
    "    \"\"\"\n",
    "    This function corresponds to the function F(\\hat{u}, \\hat{v}) in the Newton-Raphson method. \n",
    "    It computes the residual of the prediction step of the Newton-Raphson method.\n",
    "    \n",
    "    Parameters\n",
    "    ----------\n",
    "\n",
    "    u_hat_ar, v_hat_ar: np.ndarray\n",
    "        The predicted displacement and velocity fields at the next time step.\n",
    "\n",
    "    u_n_minus_1_ar, v_n_minus_1_ar: np.ndarray\n",
    "        The displacement and velocity fields at the previous time step.\n",
    "\n",
    "    time_step: float\n",
    "        The time step size.\n",
    "    \n",
    "    internal_force_func: func\n",
    "        The function that computes the internal forces acting on the object.\n",
    "\n",
    "    global_mass_matrix: scipy.sparse.csc_matrix\n",
    "        The global mass matrix in sparse format.\n",
    "    \n",
    "        \n",
    "    Returns: \n",
    "\n",
    "    F_u_ar, F_v_ar: np.ndarray\n",
    "        The residuals of the displacement and velocity fields.\n",
    "    \"\"\"\n",
    "\n",
    "    assert not np.any(np.isnan(u_hat_ar))\n",
    "    assert not np.any(np.isnan(v_hat_ar))\n",
    "\n",
    "    F_u_ar = u_hat_ar - u_n_minus_1_ar - time_step * v_hat_ar\n",
    "    F_v_ar = global_mass_matrix.dot(v_hat_ar - v_n_minus_1_ar) - time_step * internal_forces_func(u_hat_ar)\n",
    "\n",
    "    F_u_ar = np.nan_to_num(F_u_ar)\n",
    "    F_v_ar = np.nan_to_num(F_v_ar)\n",
    "\n",
    "    return F_u_ar, F_v_ar\n",
    "#----------------------------------------------------------------------------------------------------\n",
    "\n",
    "\n",
    "#----------------------------------------------------------------------------------------------------\n",
    "def compute_newton_raphson_step( \n",
    "        u_hat_ar,\n",
    "        F_u_ar,\n",
    "        F_v_ar,\n",
    "        time_step,     \n",
    "        internal_forces_func,\n",
    "        jac_internal_forces_func,\n",
    "        global_mass_matrix,\n",
    "    ):\n",
    "    \"\"\"\n",
    "    Compute by how much our guess of the next step displacements and velocities should be incremented to satisfy the equilibrium equations.\n",
    "    \n",
    "    Parameters\n",
    "    ----------\n",
    "\n",
    "    u_hat_ar: np.ndarray\n",
    "        The predicted displacement field at the next time step.\n",
    "\n",
    "    F_u_ar, F_v_ar: np.ndarray\n",
    "        The residuals of the displacement and velocity fields at u_hat_ar and v_hat_ar.\n",
    "\n",
    "    time_step: float\n",
    "        The time step size.\n",
    "\n",
    "    internal_force_func: func\n",
    "        The function that computes the internal forces acting on the object.\n",
    "\n",
    "    jac_internal_force_func: func\n",
    "        The function that computes the Jacobian of the internal forces acting on the object.\n",
    "\n",
    "    global_mass_matrix: scipy.sparse.csc_matrix\n",
    "        The global mass matrix in sparse format.\n",
    "    \n",
    "    \"\"\"\n",
    "\n",
    "    # Compute the Jacobian of the internal forces wrt the displacement at u_hat\n",
    "    jac_internal_forces = jac_internal_forces_func(\n",
    "        internal_forces_func,\n",
    "        u_hat_ar,\n",
    "        sparsity_pattern,\n",
    "        color_vertex_dic\n",
    "    )\n",
    "\n",
    "    # Check if there are NaN values in the Jacobian matrix\n",
    "    #if np.any(np.isnan(jac_internal_forces.data)):\n",
    "    #    raise ValueError(\"The Jacobian matrix contains NaN values.\")\n",
    "\n",
    "    # Start by solving for the delta v\n",
    "    rhs_matrix = global_mass_matrix - (time_step**2) * jac_internal_forces\n",
    "    lhs_vector = -time_step * jac_internal_forces.dot(F_u_ar) - F_v_ar\n",
    "\n",
    "    # Solve for the delta v\n",
    "    delta_v_ar = spsolve(rhs_matrix, lhs_vector)\n",
    "    delta_v_ar = jnp.nan_to_num(delta_v_ar)\n",
    "\n",
    "    # Now compute the delta u\n",
    "    delta_u_ar = time_step * delta_v_ar - F_u_ar\n",
    "\n",
    "    return delta_u_ar, delta_v_ar\n",
    "#----------------------------------------------------------------------------------------------------\n",
    "\n",
    "\n",
    "\n",
    "#----------------------------------------------------------------------------------------------------\n",
    "def compute_implicit_backward_euler_integration_step(\n",
    "        u_n_minus_1_ar,\n",
    "        v_n_minus_1_ar,\n",
    "        time_step,     \n",
    "        internal_forces_func,\n",
    "        jac_internal_forces_func,\n",
    "        global_mass_matrix,\n",
    "        atol = 1e-12,\n",
    "        max_iter = 100\n",
    "    ):\n",
    "    \"\"\"\n",
    "    Solve a non-linear set of equations with the Newton-Raphson algorithm to find the displacement \n",
    "    and velocity fields at the next time step.\n",
    "\n",
    "    Parameters\n",
    "    ----------\n",
    "\n",
    "    u_n_minus_1_ar, v_n_minus_1_ar: np.ndarray\n",
    "        The displacement and velocity fields at the previous time step.\n",
    "\n",
    "    time_step: float\n",
    "        The time step size.\n",
    "\n",
    "    internal_force_func: func\n",
    "        The function that computes the internal forces acting on the object.\n",
    "\n",
    "    jac_internal_force_func: func\n",
    "        The function that computes the Jacobian of the internal forces acting on the object.\n",
    "\n",
    "    global_mass_matrix: scipy.sparse.csc_matrix\n",
    "        The global mass matrix in sparse format.\n",
    "\n",
    "    Returns\n",
    "    -------\n",
    "\n",
    "    u_n_ar, v_n_ar: np.ndarray\n",
    "        The displacement and velocity fields at the next time step.\n",
    "    \"\"\"\n",
    "\n",
    "    # We first need to make a guess of what will be the displacement and velocity fields at the next time step, \n",
    "    # which we denote by u_hat and v_hat. For this we use the forward Euler method:\n",
    "    u_hat_ar = u_n_minus_1_ar.copy() + time_step * v_n_minus_1_ar\n",
    "    v_hat_ar = v_n_minus_1_ar.copy()  # We cannot invert the mass matrix\n",
    "\n",
    "    newton_raphson_display_text = display(\"Newton-Raphson step: 0\", display_id=True)\n",
    "\n",
    "    # Now we need to solve the non-linear set of equations with the Newton-Raphson method\n",
    "    for newton_raphson_iter in range(max_iter):\n",
    "\n",
    "        #clear_output(wait=True)  # Clear the previous output\n",
    "   \n",
    "\n",
    "        # Compute the residuals of the prediction step\n",
    "        F_u_ar, F_v_ar = compute_prediction_residual(\n",
    "            u_hat_ar = u_hat_ar, \n",
    "            v_hat_ar = v_hat_ar,\n",
    "            u_n_minus_1_ar = u_n_minus_1_ar,\n",
    "            v_n_minus_1_ar = v_n_minus_1_ar,\n",
    "            time_step = time_step,     \n",
    "            internal_forces_func = internal_forces_func,\n",
    "            global_mass_matrix = global_mass_matrix,\n",
    "        )\n",
    "\n",
    "\n",
    "        # Compute the Newton-Raphson step\n",
    "        delta_u_ar, delta_v_ar = compute_newton_raphson_step(\n",
    "            u_hat_ar = u_hat_ar,\n",
    "            F_u_ar = F_u_ar,\n",
    "            F_v_ar = F_v_ar,\n",
    "            time_step = time_step,    \n",
    "            internal_forces_func = internal_forces_func, \n",
    "            jac_internal_forces_func = jac_internal_forces_func,\n",
    "            global_mass_matrix = global_mass_matrix,\n",
    "        )\n",
    "\n",
    "        newton_raphson_display_text.update(\"Newton-Raphson step: {},  F_u_ar: {:.2e}, F_v_ar: {:.2e}\".format(\n",
    "            newton_raphson_iter,\n",
    "            jnp.abs(F_u_ar).max(),\n",
    "            jnp.abs(F_v_ar).max()\n",
    "        ))\n",
    "\n",
    "\n",
    "        # Update the guess of the displacement and velocity fields\n",
    "        u_hat_ar = u_hat_ar + delta_u_ar\n",
    "        v_hat_ar = v_hat_ar + delta_v_ar\n",
    "\n",
    "        # Check if the relative difference is small enough\n",
    "        if (jnp.abs(F_u_ar).max() < atol and jnp.abs(F_v_ar).max() < atol):\n",
    "            return u_hat_ar, v_hat_ar\n",
    "\n",
    "\n",
    "    raise ValueError(\"The Newton-Raphson algorithm did not converge.\")\n",
    "#----------------------------------------------------------------------------------------------------\n",
    "\n",
    "\n",
    "\n"
   ]
  },
  {
   "cell_type": "code",
   "execution_count": 14,
   "metadata": {},
   "outputs": [],
   "source": [
    "def convert_mesh_to_ugrid(point_ar, cell_ar):\n",
    "    \"\"\"\n",
    "        Function that converts a mesh to a vtkUnstructuredGrid object\n",
    "    \"\"\"\n",
    "\n",
    "    # Create a vtkPoints object and add the points to it\n",
    "    points = vtk.vtkPoints()\n",
    "    for point in point_ar:\n",
    "        points.InsertNextPoint(point)\n",
    "\n",
    "    # Create a vtkUnstructuredGrid object\n",
    "    u_grid = vtk.vtkUnstructuredGrid()\n",
    "    u_grid.SetPoints(points)\n",
    "\n",
    "    # Create a vtkCellArray object and add the cells to it\n",
    "    for cell in cell_ar:\n",
    "        tetra = vtk.vtkTetra()\n",
    "        for i, point_id in enumerate(cell):\n",
    "            tetra.GetPointIds().SetId(i, point_id)\n",
    "        u_grid.InsertNextCell(tetra.GetCellType(), tetra.GetPointIds())\n",
    "\n",
    "    return u_grid\n"
   ]
  },
  {
   "cell_type": "code",
   "execution_count": 31,
   "metadata": {},
   "outputs": [
    {
     "data": {
      "text/plain": [
       "'Backward Euler iter: 379'"
      ]
     },
     "metadata": {},
     "output_type": "display_data"
    },
    {
     "name": "stdout",
     "output_type": "stream",
     "text": [
      "0\n",
      "Strain density energy: 1.69e+05\n"
     ]
    },
    {
     "data": {
      "text/plain": [
       "'Newton-Raphson step: 4,  F_u_ar: 1.73e-17, F_v_ar: 7.29e-09'"
      ]
     },
     "metadata": {},
     "output_type": "display_data"
    },
    {
     "name": "stdout",
     "output_type": "stream",
     "text": [
      "1\n",
      "Strain density energy: 1.31e+05\n"
     ]
    },
    {
     "data": {
      "text/plain": [
       "'Newton-Raphson step: 5,  F_u_ar: 1.73e-17, F_v_ar: 1.81e-11'"
      ]
     },
     "metadata": {},
     "output_type": "display_data"
    },
    {
     "name": "stdout",
     "output_type": "stream",
     "text": [
      "2\n",
      "Strain density energy: 1.03e+05\n"
     ]
    },
    {
     "data": {
      "text/plain": [
       "'Newton-Raphson step: 3,  F_u_ar: 1.56e-17, F_v_ar: 2.93e-08'"
      ]
     },
     "metadata": {},
     "output_type": "display_data"
    },
    {
     "name": "stdout",
     "output_type": "stream",
     "text": [
      "3\n",
      "Strain density energy: 7.63e+04\n"
     ]
    },
    {
     "data": {
      "text/plain": [
       "'Newton-Raphson step: 3,  F_u_ar: 1.73e-17, F_v_ar: 7.00e-12'"
      ]
     },
     "metadata": {},
     "output_type": "display_data"
    },
    {
     "name": "stdout",
     "output_type": "stream",
     "text": [
      "4\n",
      "Strain density energy: 5.17e+04\n"
     ]
    },
    {
     "data": {
      "text/plain": [
       "'Newton-Raphson step: 2,  F_u_ar: 1.73e-17, F_v_ar: 4.46e-06'"
      ]
     },
     "metadata": {},
     "output_type": "display_data"
    },
    {
     "name": "stdout",
     "output_type": "stream",
     "text": [
      "5\n",
      "Strain density energy: 3.05e+04\n"
     ]
    },
    {
     "data": {
      "text/plain": [
       "'Newton-Raphson step: 2,  F_u_ar: 1.73e-17, F_v_ar: 5.44e-07'"
      ]
     },
     "metadata": {},
     "output_type": "display_data"
    },
    {
     "name": "stdout",
     "output_type": "stream",
     "text": [
      "6\n",
      "Strain density energy: 1.52e+04\n"
     ]
    },
    {
     "data": {
      "text/plain": [
       "'Newton-Raphson step: 2,  F_u_ar: 1.73e-17, F_v_ar: 1.95e-07'"
      ]
     },
     "metadata": {},
     "output_type": "display_data"
    },
    {
     "name": "stdout",
     "output_type": "stream",
     "text": [
      "7\n",
      "Strain density energy: 7.66e+03\n"
     ]
    },
    {
     "data": {
      "text/plain": [
       "'Newton-Raphson step: 2,  F_u_ar: 1.73e-17, F_v_ar: 5.32e-08'"
      ]
     },
     "metadata": {},
     "output_type": "display_data"
    },
    {
     "name": "stdout",
     "output_type": "stream",
     "text": [
      "8\n",
      "Strain density energy: 7.61e+03\n"
     ]
    },
    {
     "data": {
      "text/plain": [
       "'Newton-Raphson step: 2,  F_u_ar: 1.73e-17, F_v_ar: 3.11e-07'"
      ]
     },
     "metadata": {},
     "output_type": "display_data"
    },
    {
     "name": "stdout",
     "output_type": "stream",
     "text": [
      "9\n",
      "Strain density energy: 1.34e+04\n"
     ]
    },
    {
     "data": {
      "text/plain": [
       "'Newton-Raphson step: 2,  F_u_ar: 1.56e-17, F_v_ar: 6.25e-07'"
      ]
     },
     "metadata": {},
     "output_type": "display_data"
    },
    {
     "name": "stdout",
     "output_type": "stream",
     "text": [
      "10\n",
      "Strain density energy: 2.30e+04\n"
     ]
    },
    {
     "data": {
      "text/plain": [
       "'Newton-Raphson step: 2,  F_u_ar: 1.47e-17, F_v_ar: 9.12e-07'"
      ]
     },
     "metadata": {},
     "output_type": "display_data"
    },
    {
     "name": "stdout",
     "output_type": "stream",
     "text": [
      "11\n",
      "Strain density energy: 3.41e+04\n"
     ]
    },
    {
     "data": {
      "text/plain": [
       "'Newton-Raphson step: 2,  F_u_ar: 1.56e-17, F_v_ar: 6.72e-07'"
      ]
     },
     "metadata": {},
     "output_type": "display_data"
    },
    {
     "name": "stdout",
     "output_type": "stream",
     "text": [
      "12\n",
      "Strain density energy: 4.50e+04\n"
     ]
    },
    {
     "data": {
      "text/plain": [
       "'Newton-Raphson step: 2,  F_u_ar: 1.39e-17, F_v_ar: 3.58e-07'"
      ]
     },
     "metadata": {},
     "output_type": "display_data"
    },
    {
     "name": "stdout",
     "output_type": "stream",
     "text": [
      "13\n",
      "Strain density energy: 5.38e+04\n"
     ]
    },
    {
     "data": {
      "text/plain": [
       "'Newton-Raphson step: 2,  F_u_ar: 1.39e-17, F_v_ar: 3.81e-07'"
      ]
     },
     "metadata": {},
     "output_type": "display_data"
    },
    {
     "name": "stdout",
     "output_type": "stream",
     "text": [
      "14\n",
      "Strain density energy: 5.95e+04\n"
     ]
    },
    {
     "data": {
      "text/plain": [
       "'Newton-Raphson step: 2,  F_u_ar: 1.39e-17, F_v_ar: 1.84e-07'"
      ]
     },
     "metadata": {},
     "output_type": "display_data"
    },
    {
     "name": "stdout",
     "output_type": "stream",
     "text": [
      "15\n",
      "Strain density energy: 6.13e+04\n"
     ]
    },
    {
     "data": {
      "text/plain": [
       "'Newton-Raphson step: 2,  F_u_ar: 1.39e-17, F_v_ar: 5.39e-08'"
      ]
     },
     "metadata": {},
     "output_type": "display_data"
    },
    {
     "name": "stdout",
     "output_type": "stream",
     "text": [
      "16\n",
      "Strain density energy: 5.93e+04\n"
     ]
    },
    {
     "data": {
      "text/plain": [
       "'Newton-Raphson step: 2,  F_u_ar: 1.47e-17, F_v_ar: 2.56e-08'"
      ]
     },
     "metadata": {},
     "output_type": "display_data"
    },
    {
     "name": "stdout",
     "output_type": "stream",
     "text": [
      "17\n",
      "Strain density energy: 5.38e+04\n"
     ]
    },
    {
     "data": {
      "text/plain": [
       "'Newton-Raphson step: 2,  F_u_ar: 1.56e-17, F_v_ar: 6.12e-09'"
      ]
     },
     "metadata": {},
     "output_type": "display_data"
    },
    {
     "name": "stdout",
     "output_type": "stream",
     "text": [
      "18\n",
      "Strain density energy: 4.59e+04\n"
     ]
    },
    {
     "data": {
      "text/plain": [
       "'Newton-Raphson step: 2,  F_u_ar: 1.56e-17, F_v_ar: 8.42e-09'"
      ]
     },
     "metadata": {},
     "output_type": "display_data"
    },
    {
     "name": "stdout",
     "output_type": "stream",
     "text": [
      "19\n",
      "Strain density energy: 3.66e+04\n"
     ]
    },
    {
     "data": {
      "text/plain": [
       "'Newton-Raphson step: 2,  F_u_ar: 1.56e-17, F_v_ar: 9.97e-09'"
      ]
     },
     "metadata": {},
     "output_type": "display_data"
    },
    {
     "name": "stdout",
     "output_type": "stream",
     "text": [
      "20\n",
      "Strain density energy: 2.70e+04\n"
     ]
    },
    {
     "data": {
      "text/plain": [
       "'Newton-Raphson step: 2,  F_u_ar: 1.56e-17, F_v_ar: 1.78e-08'"
      ]
     },
     "metadata": {},
     "output_type": "display_data"
    },
    {
     "name": "stdout",
     "output_type": "stream",
     "text": [
      "21\n",
      "Strain density energy: 1.83e+04\n"
     ]
    },
    {
     "data": {
      "text/plain": [
       "'Newton-Raphson step: 2,  F_u_ar: 1.56e-17, F_v_ar: 1.92e-08'"
      ]
     },
     "metadata": {},
     "output_type": "display_data"
    },
    {
     "name": "stdout",
     "output_type": "stream",
     "text": [
      "22\n",
      "Strain density energy: 1.12e+04\n"
     ]
    },
    {
     "data": {
      "text/plain": [
       "'Newton-Raphson step: 2,  F_u_ar: 1.56e-17, F_v_ar: 1.46e-08'"
      ]
     },
     "metadata": {},
     "output_type": "display_data"
    },
    {
     "name": "stdout",
     "output_type": "stream",
     "text": [
      "23\n",
      "Strain density energy: 6.34e+03\n"
     ]
    },
    {
     "data": {
      "text/plain": [
       "'Newton-Raphson step: 2,  F_u_ar: 1.43e-17, F_v_ar: 8.67e-09'"
      ]
     },
     "metadata": {},
     "output_type": "display_data"
    },
    {
     "name": "stdout",
     "output_type": "stream",
     "text": [
      "24\n",
      "Strain density energy: 4.24e+03\n"
     ]
    },
    {
     "data": {
      "text/plain": [
       "'Newton-Raphson step: 2,  F_u_ar: 1.47e-17, F_v_ar: 5.02e-09'"
      ]
     },
     "metadata": {},
     "output_type": "display_data"
    },
    {
     "name": "stdout",
     "output_type": "stream",
     "text": [
      "25\n",
      "Strain density energy: 4.97e+03\n"
     ]
    },
    {
     "data": {
      "text/plain": [
       "'Newton-Raphson step: 2,  F_u_ar: 1.39e-17, F_v_ar: 3.00e-09'"
      ]
     },
     "metadata": {},
     "output_type": "display_data"
    },
    {
     "name": "stdout",
     "output_type": "stream",
     "text": [
      "26\n",
      "Strain density energy: 8.18e+03\n"
     ]
    },
    {
     "data": {
      "text/plain": [
       "'Newton-Raphson step: 2,  F_u_ar: 1.39e-17, F_v_ar: 2.03e-09'"
      ]
     },
     "metadata": {},
     "output_type": "display_data"
    },
    {
     "name": "stdout",
     "output_type": "stream",
     "text": [
      "27\n",
      "Strain density energy: 1.32e+04\n"
     ]
    },
    {
     "data": {
      "text/plain": [
       "'Newton-Raphson step: 2,  F_u_ar: 1.39e-17, F_v_ar: 1.33e-09'"
      ]
     },
     "metadata": {},
     "output_type": "display_data"
    },
    {
     "name": "stdout",
     "output_type": "stream",
     "text": [
      "28\n",
      "Strain density energy: 1.90e+04\n"
     ]
    },
    {
     "data": {
      "text/plain": [
       "'Newton-Raphson step: 2,  F_u_ar: 1.43e-17, F_v_ar: 2.45e-09'"
      ]
     },
     "metadata": {},
     "output_type": "display_data"
    },
    {
     "name": "stdout",
     "output_type": "stream",
     "text": [
      "29\n",
      "Strain density energy: 2.47e+04\n"
     ]
    },
    {
     "data": {
      "text/plain": [
       "'Newton-Raphson step: 2,  F_u_ar: 1.39e-17, F_v_ar: 3.17e-09'"
      ]
     },
     "metadata": {},
     "output_type": "display_data"
    },
    {
     "name": "stdout",
     "output_type": "stream",
     "text": [
      "30\n",
      "Strain density energy: 2.91e+04\n"
     ]
    },
    {
     "data": {
      "text/plain": [
       "'Newton-Raphson step: 2,  F_u_ar: 1.41e-17, F_v_ar: 2.85e-09'"
      ]
     },
     "metadata": {},
     "output_type": "display_data"
    },
    {
     "name": "stdout",
     "output_type": "stream",
     "text": [
      "31\n",
      "Strain density energy: 3.17e+04\n"
     ]
    },
    {
     "data": {
      "text/plain": [
       "'Newton-Raphson step: 2,  F_u_ar: 1.39e-17, F_v_ar: 5.04e-09'"
      ]
     },
     "metadata": {},
     "output_type": "display_data"
    },
    {
     "name": "stdout",
     "output_type": "stream",
     "text": [
      "32\n",
      "Strain density energy: 3.21e+04\n"
     ]
    },
    {
     "data": {
      "text/plain": [
       "'Newton-Raphson step: 2,  F_u_ar: 1.39e-17, F_v_ar: 7.24e-09'"
      ]
     },
     "metadata": {},
     "output_type": "display_data"
    },
    {
     "name": "stdout",
     "output_type": "stream",
     "text": [
      "33\n",
      "Strain density energy: 3.02e+04\n"
     ]
    },
    {
     "data": {
      "text/plain": [
       "'Newton-Raphson step: 2,  F_u_ar: 1.43e-17, F_v_ar: 8.93e-09'"
      ]
     },
     "metadata": {},
     "output_type": "display_data"
    },
    {
     "name": "stdout",
     "output_type": "stream",
     "text": [
      "34\n",
      "Strain density energy: 2.64e+04\n"
     ]
    },
    {
     "data": {
      "text/plain": [
       "'Newton-Raphson step: 2,  F_u_ar: 1.39e-17, F_v_ar: 8.81e-09'"
      ]
     },
     "metadata": {},
     "output_type": "display_data"
    },
    {
     "name": "stdout",
     "output_type": "stream",
     "text": [
      "35\n",
      "Strain density energy: 2.11e+04\n"
     ]
    },
    {
     "data": {
      "text/plain": [
       "'Newton-Raphson step: 2,  F_u_ar: 1.47e-17, F_v_ar: 7.12e-09'"
      ]
     },
     "metadata": {},
     "output_type": "display_data"
    },
    {
     "name": "stdout",
     "output_type": "stream",
     "text": [
      "36\n",
      "Strain density energy: 1.53e+04\n"
     ]
    },
    {
     "data": {
      "text/plain": [
       "'Newton-Raphson step: 2,  F_u_ar: 1.39e-17, F_v_ar: 4.87e-09'"
      ]
     },
     "metadata": {},
     "output_type": "display_data"
    },
    {
     "name": "stdout",
     "output_type": "stream",
     "text": [
      "37\n",
      "Strain density energy: 9.65e+03\n"
     ]
    },
    {
     "data": {
      "text/plain": [
       "'Newton-Raphson step: 2,  F_u_ar: 1.47e-17, F_v_ar: 3.15e-09'"
      ]
     },
     "metadata": {},
     "output_type": "display_data"
    },
    {
     "name": "stdout",
     "output_type": "stream",
     "text": [
      "38\n",
      "Strain density energy: 4.99e+03\n"
     ]
    },
    {
     "data": {
      "text/plain": [
       "'Newton-Raphson step: 2,  F_u_ar: 1.47e-17, F_v_ar: 1.86e-09'"
      ]
     },
     "metadata": {},
     "output_type": "display_data"
    },
    {
     "name": "stdout",
     "output_type": "stream",
     "text": [
      "39\n",
      "Strain density energy: 1.89e+03\n"
     ]
    },
    {
     "data": {
      "text/plain": [
       "'Newton-Raphson step: 2,  F_u_ar: 1.39e-17, F_v_ar: 1.08e-09'"
      ]
     },
     "metadata": {},
     "output_type": "display_data"
    },
    {
     "name": "stdout",
     "output_type": "stream",
     "text": [
      "40\n",
      "Strain density energy: 6.62e+02\n"
     ]
    },
    {
     "data": {
      "text/plain": [
       "'Newton-Raphson step: 2,  F_u_ar: 1.56e-17, F_v_ar: 1.08e-09'"
      ]
     },
     "metadata": {},
     "output_type": "display_data"
    },
    {
     "name": "stdout",
     "output_type": "stream",
     "text": [
      "41\n",
      "Strain density energy: 1.30e+03\n"
     ]
    },
    {
     "data": {
      "text/plain": [
       "'Newton-Raphson step: 2,  F_u_ar: 1.39e-17, F_v_ar: 1.31e-09'"
      ]
     },
     "metadata": {},
     "output_type": "display_data"
    },
    {
     "name": "stdout",
     "output_type": "stream",
     "text": [
      "42\n",
      "Strain density energy: 3.49e+03\n"
     ]
    },
    {
     "data": {
      "text/plain": [
       "'Newton-Raphson step: 2,  F_u_ar: 1.47e-17, F_v_ar: 1.61e-09'"
      ]
     },
     "metadata": {},
     "output_type": "display_data"
    },
    {
     "name": "stdout",
     "output_type": "stream",
     "text": [
      "43\n",
      "Strain density energy: 6.68e+03\n"
     ]
    },
    {
     "data": {
      "text/plain": [
       "'Newton-Raphson step: 2,  F_u_ar: 1.39e-17, F_v_ar: 1.94e-09'"
      ]
     },
     "metadata": {},
     "output_type": "display_data"
    },
    {
     "name": "stdout",
     "output_type": "stream",
     "text": [
      "44\n",
      "Strain density energy: 1.02e+04\n"
     ]
    },
    {
     "data": {
      "text/plain": [
       "'Newton-Raphson step: 2,  F_u_ar: 1.39e-17, F_v_ar: 2.23e-09'"
      ]
     },
     "metadata": {},
     "output_type": "display_data"
    },
    {
     "name": "stdout",
     "output_type": "stream",
     "text": [
      "45\n",
      "Strain density energy: 1.34e+04\n"
     ]
    },
    {
     "data": {
      "text/plain": [
       "'Newton-Raphson step: 2,  F_u_ar: 1.47e-17, F_v_ar: 2.66e-09'"
      ]
     },
     "metadata": {},
     "output_type": "display_data"
    },
    {
     "name": "stdout",
     "output_type": "stream",
     "text": [
      "46\n",
      "Strain density energy: 1.57e+04\n"
     ]
    },
    {
     "data": {
      "text/plain": [
       "'Newton-Raphson step: 2,  F_u_ar: 1.39e-17, F_v_ar: 3.91e-09'"
      ]
     },
     "metadata": {},
     "output_type": "display_data"
    },
    {
     "name": "stdout",
     "output_type": "stream",
     "text": [
      "47\n",
      "Strain density energy: 1.69e+04\n"
     ]
    },
    {
     "data": {
      "text/plain": [
       "'Newton-Raphson step: 2,  F_u_ar: 1.39e-17, F_v_ar: 5.10e-09'"
      ]
     },
     "metadata": {},
     "output_type": "display_data"
    },
    {
     "name": "stdout",
     "output_type": "stream",
     "text": [
      "48\n",
      "Strain density energy: 1.67e+04\n"
     ]
    },
    {
     "data": {
      "text/plain": [
       "'Newton-Raphson step: 2,  F_u_ar: 1.39e-17, F_v_ar: 5.94e-09'"
      ]
     },
     "metadata": {},
     "output_type": "display_data"
    },
    {
     "name": "stdout",
     "output_type": "stream",
     "text": [
      "49\n",
      "Strain density energy: 1.53e+04\n"
     ]
    },
    {
     "data": {
      "text/plain": [
       "'Newton-Raphson step: 2,  F_u_ar: 1.39e-17, F_v_ar: 5.88e-09'"
      ]
     },
     "metadata": {},
     "output_type": "display_data"
    },
    {
     "name": "stdout",
     "output_type": "stream",
     "text": [
      "50\n",
      "Strain density energy: 1.30e+04\n"
     ]
    },
    {
     "data": {
      "text/plain": [
       "'Newton-Raphson step: 2,  F_u_ar: 1.43e-17, F_v_ar: 4.85e-09'"
      ]
     },
     "metadata": {},
     "output_type": "display_data"
    },
    {
     "name": "stdout",
     "output_type": "stream",
     "text": [
      "51\n",
      "Strain density energy: 1.01e+04\n"
     ]
    },
    {
     "data": {
      "text/plain": [
       "'Newton-Raphson step: 2,  F_u_ar: 1.39e-17, F_v_ar: 3.30e-09'"
      ]
     },
     "metadata": {},
     "output_type": "display_data"
    },
    {
     "name": "stdout",
     "output_type": "stream",
     "text": [
      "52\n",
      "Strain density energy: 7.10e+03\n"
     ]
    },
    {
     "data": {
      "text/plain": [
       "'Newton-Raphson step: 2,  F_u_ar: 1.39e-17, F_v_ar: 1.76e-09'"
      ]
     },
     "metadata": {},
     "output_type": "display_data"
    },
    {
     "name": "stdout",
     "output_type": "stream",
     "text": [
      "53\n",
      "Strain density energy: 4.39e+03\n"
     ]
    },
    {
     "data": {
      "text/plain": [
       "'Newton-Raphson step: 2,  F_u_ar: 1.39e-17, F_v_ar: 7.55e-10'"
      ]
     },
     "metadata": {},
     "output_type": "display_data"
    },
    {
     "name": "stdout",
     "output_type": "stream",
     "text": [
      "54\n",
      "Strain density energy: 2.27e+03\n"
     ]
    },
    {
     "data": {
      "text/plain": [
       "'Newton-Raphson step: 2,  F_u_ar: 1.39e-17, F_v_ar: 3.70e-10'"
      ]
     },
     "metadata": {},
     "output_type": "display_data"
    },
    {
     "name": "stdout",
     "output_type": "stream",
     "text": [
      "55\n",
      "Strain density energy: 9.62e+02\n"
     ]
    },
    {
     "data": {
      "text/plain": [
       "'Newton-Raphson step: 2,  F_u_ar: 1.39e-17, F_v_ar: 3.09e-10'"
      ]
     },
     "metadata": {},
     "output_type": "display_data"
    },
    {
     "name": "stdout",
     "output_type": "stream",
     "text": [
      "56\n",
      "Strain density energy: 5.40e+02\n"
     ]
    },
    {
     "data": {
      "text/plain": [
       "'Newton-Raphson step: 2,  F_u_ar: 1.39e-17, F_v_ar: 1.89e-10'"
      ]
     },
     "metadata": {},
     "output_type": "display_data"
    },
    {
     "name": "stdout",
     "output_type": "stream",
     "text": [
      "57\n",
      "Strain density energy: 9.59e+02\n"
     ]
    },
    {
     "data": {
      "text/plain": [
       "'Newton-Raphson step: 2,  F_u_ar: 1.39e-17, F_v_ar: 7.94e-11'"
      ]
     },
     "metadata": {},
     "output_type": "display_data"
    },
    {
     "name": "stdout",
     "output_type": "stream",
     "text": [
      "58\n",
      "Strain density energy: 2.07e+03\n"
     ]
    },
    {
     "data": {
      "text/plain": [
       "'Newton-Raphson step: 2,  F_u_ar: 1.43e-17, F_v_ar: 1.71e-10'"
      ]
     },
     "metadata": {},
     "output_type": "display_data"
    },
    {
     "name": "stdout",
     "output_type": "stream",
     "text": [
      "59\n",
      "Strain density energy: 3.62e+03\n"
     ]
    },
    {
     "data": {
      "text/plain": [
       "'Newton-Raphson step: 2,  F_u_ar: 1.47e-17, F_v_ar: 5.46e-10'"
      ]
     },
     "metadata": {},
     "output_type": "display_data"
    },
    {
     "name": "stdout",
     "output_type": "stream",
     "text": [
      "60\n",
      "Strain density energy: 5.35e+03\n"
     ]
    },
    {
     "data": {
      "text/plain": [
       "'Newton-Raphson step: 2,  F_u_ar: 1.39e-17, F_v_ar: 1.16e-09'"
      ]
     },
     "metadata": {},
     "output_type": "display_data"
    },
    {
     "name": "stdout",
     "output_type": "stream",
     "text": [
      "61\n",
      "Strain density energy: 6.95e+03\n"
     ]
    },
    {
     "data": {
      "text/plain": [
       "'Newton-Raphson step: 2,  F_u_ar: 1.39e-17, F_v_ar: 1.86e-09'"
      ]
     },
     "metadata": {},
     "output_type": "display_data"
    },
    {
     "name": "stdout",
     "output_type": "stream",
     "text": [
      "62\n",
      "Strain density energy: 8.18e+03\n"
     ]
    },
    {
     "data": {
      "text/plain": [
       "'Newton-Raphson step: 2,  F_u_ar: 1.39e-17, F_v_ar: 2.42e-09'"
      ]
     },
     "metadata": {},
     "output_type": "display_data"
    },
    {
     "name": "stdout",
     "output_type": "stream",
     "text": [
      "63\n",
      "Strain density energy: 8.83e+03\n"
     ]
    },
    {
     "data": {
      "text/plain": [
       "'Newton-Raphson step: 2,  F_u_ar: 1.39e-17, F_v_ar: 2.63e-09'"
      ]
     },
     "metadata": {},
     "output_type": "display_data"
    },
    {
     "name": "stdout",
     "output_type": "stream",
     "text": [
      "64\n",
      "Strain density energy: 8.82e+03\n"
     ]
    },
    {
     "data": {
      "text/plain": [
       "'Newton-Raphson step: 2,  F_u_ar: 1.39e-17, F_v_ar: 2.39e-09'"
      ]
     },
     "metadata": {},
     "output_type": "display_data"
    },
    {
     "name": "stdout",
     "output_type": "stream",
     "text": [
      "65\n",
      "Strain density energy: 8.14e+03\n"
     ]
    },
    {
     "data": {
      "text/plain": [
       "'Newton-Raphson step: 2,  F_u_ar: 1.39e-17, F_v_ar: 1.82e-09'"
      ]
     },
     "metadata": {},
     "output_type": "display_data"
    },
    {
     "name": "stdout",
     "output_type": "stream",
     "text": [
      "66\n",
      "Strain density energy: 6.93e+03\n"
     ]
    },
    {
     "data": {
      "text/plain": [
       "'Newton-Raphson step: 2,  F_u_ar: 1.39e-17, F_v_ar: 1.15e-09'"
      ]
     },
     "metadata": {},
     "output_type": "display_data"
    },
    {
     "name": "stdout",
     "output_type": "stream",
     "text": [
      "67\n",
      "Strain density energy: 5.36e+03\n"
     ]
    },
    {
     "data": {
      "text/plain": [
       "'Newton-Raphson step: 2,  F_u_ar: 1.41e-17, F_v_ar: 5.99e-10'"
      ]
     },
     "metadata": {},
     "output_type": "display_data"
    },
    {
     "name": "stdout",
     "output_type": "stream",
     "text": [
      "68\n",
      "Strain density energy: 3.68e+03\n"
     ]
    },
    {
     "data": {
      "text/plain": [
       "'Newton-Raphson step: 2,  F_u_ar: 1.39e-17, F_v_ar: 2.46e-10'"
      ]
     },
     "metadata": {},
     "output_type": "display_data"
    },
    {
     "name": "stdout",
     "output_type": "stream",
     "text": [
      "69\n",
      "Strain density energy: 2.13e+03\n"
     ]
    },
    {
     "data": {
      "text/plain": [
       "'Newton-Raphson step: 2,  F_u_ar: 1.39e-17, F_v_ar: 7.45e-11'"
      ]
     },
     "metadata": {},
     "output_type": "display_data"
    },
    {
     "name": "stdout",
     "output_type": "stream",
     "text": [
      "70\n",
      "Strain density energy: 9.22e+02\n"
     ]
    },
    {
     "data": {
      "text/plain": [
       "'Newton-Raphson step: 2,  F_u_ar: 1.41e-17, F_v_ar: 1.48e-11'"
      ]
     },
     "metadata": {},
     "output_type": "display_data"
    },
    {
     "name": "stdout",
     "output_type": "stream",
     "text": [
      "71\n",
      "Strain density energy: 1.98e+02\n"
     ]
    },
    {
     "data": {
      "text/plain": [
       "'Newton-Raphson step: 1,  F_u_ar: 1.47e-17, F_v_ar: 6.93e-06'"
      ]
     },
     "metadata": {},
     "output_type": "display_data"
    },
    {
     "name": "stdout",
     "output_type": "stream",
     "text": [
      "72\n",
      "Strain density energy: 1.23e+01\n"
     ]
    },
    {
     "data": {
      "text/plain": [
       "'Newton-Raphson step: 2,  F_u_ar: 1.47e-17, F_v_ar: 1.08e-11'"
      ]
     },
     "metadata": {},
     "output_type": "display_data"
    },
    {
     "name": "stdout",
     "output_type": "stream",
     "text": [
      "73\n",
      "Strain density energy: 3.33e+02\n"
     ]
    },
    {
     "data": {
      "text/plain": [
       "'Newton-Raphson step: 2,  F_u_ar: 1.39e-17, F_v_ar: 4.49e-11'"
      ]
     },
     "metadata": {},
     "output_type": "display_data"
    },
    {
     "name": "stdout",
     "output_type": "stream",
     "text": [
      "74\n",
      "Strain density energy: 1.05e+03\n"
     ]
    },
    {
     "data": {
      "text/plain": [
       "'Newton-Raphson step: 2,  F_u_ar: 1.39e-17, F_v_ar: 1.25e-10'"
      ]
     },
     "metadata": {},
     "output_type": "display_data"
    },
    {
     "name": "stdout",
     "output_type": "stream",
     "text": [
      "75\n",
      "Strain density energy: 2.01e+03\n"
     ]
    },
    {
     "data": {
      "text/plain": [
       "'Newton-Raphson step: 2,  F_u_ar: 1.39e-17, F_v_ar: 2.55e-10'"
      ]
     },
     "metadata": {},
     "output_type": "display_data"
    },
    {
     "name": "stdout",
     "output_type": "stream",
     "text": [
      "76\n",
      "Strain density energy: 3.02e+03\n"
     ]
    },
    {
     "data": {
      "text/plain": [
       "'Newton-Raphson step: 2,  F_u_ar: 1.39e-17, F_v_ar: 4.10e-10'"
      ]
     },
     "metadata": {},
     "output_type": "display_data"
    },
    {
     "name": "stdout",
     "output_type": "stream",
     "text": [
      "77\n",
      "Strain density energy: 3.90e+03\n"
     ]
    },
    {
     "data": {
      "text/plain": [
       "'Newton-Raphson step: 2,  F_u_ar: 1.39e-17, F_v_ar: 5.75e-10'"
      ]
     },
     "metadata": {},
     "output_type": "display_data"
    },
    {
     "name": "stdout",
     "output_type": "stream",
     "text": [
      "78\n",
      "Strain density energy: 4.53e+03\n"
     ]
    },
    {
     "data": {
      "text/plain": [
       "'Newton-Raphson step: 2,  F_u_ar: 1.39e-17, F_v_ar: 6.62e-10'"
      ]
     },
     "metadata": {},
     "output_type": "display_data"
    },
    {
     "name": "stdout",
     "output_type": "stream",
     "text": [
      "79\n",
      "Strain density energy: 4.80e+03\n"
     ]
    },
    {
     "data": {
      "text/plain": [
       "'Newton-Raphson step: 2,  F_u_ar: 1.39e-17, F_v_ar: 6.25e-10'"
      ]
     },
     "metadata": {},
     "output_type": "display_data"
    },
    {
     "name": "stdout",
     "output_type": "stream",
     "text": [
      "80\n",
      "Strain density energy: 4.68e+03\n"
     ]
    },
    {
     "data": {
      "text/plain": [
       "'Newton-Raphson step: 2,  F_u_ar: 1.39e-17, F_v_ar: 4.87e-10'"
      ]
     },
     "metadata": {},
     "output_type": "display_data"
    },
    {
     "name": "stdout",
     "output_type": "stream",
     "text": [
      "81\n",
      "Strain density energy: 4.22e+03\n"
     ]
    },
    {
     "data": {
      "text/plain": [
       "'Newton-Raphson step: 2,  F_u_ar: 1.39e-17, F_v_ar: 3.03e-10'"
      ]
     },
     "metadata": {},
     "output_type": "display_data"
    },
    {
     "name": "stdout",
     "output_type": "stream",
     "text": [
      "82\n",
      "Strain density energy: 3.50e+03\n"
     ]
    },
    {
     "data": {
      "text/plain": [
       "'Newton-Raphson step: 2,  F_u_ar: 1.39e-17, F_v_ar: 1.46e-10'"
      ]
     },
     "metadata": {},
     "output_type": "display_data"
    },
    {
     "name": "stdout",
     "output_type": "stream",
     "text": [
      "83\n",
      "Strain density energy: 2.62e+03\n"
     ]
    },
    {
     "data": {
      "text/plain": [
       "'Newton-Raphson step: 2,  F_u_ar: 1.39e-17, F_v_ar: 5.11e-11'"
      ]
     },
     "metadata": {},
     "output_type": "display_data"
    },
    {
     "name": "stdout",
     "output_type": "stream",
     "text": [
      "84\n",
      "Strain density energy: 1.74e+03\n"
     ]
    },
    {
     "data": {
      "text/plain": [
       "'Newton-Raphson step: 2,  F_u_ar: 1.43e-17, F_v_ar: 1.24e-11'"
      ]
     },
     "metadata": {},
     "output_type": "display_data"
    },
    {
     "name": "stdout",
     "output_type": "stream",
     "text": [
      "85\n",
      "Strain density energy: 9.57e+02\n"
     ]
    },
    {
     "data": {
      "text/plain": [
       "'Newton-Raphson step: 1,  F_u_ar: 1.39e-17, F_v_ar: 5.66e-06'"
      ]
     },
     "metadata": {},
     "output_type": "display_data"
    },
    {
     "name": "stdout",
     "output_type": "stream",
     "text": [
      "86\n",
      "Strain density energy: 3.83e+02\n"
     ]
    },
    {
     "data": {
      "text/plain": [
       "'Newton-Raphson step: 1,  F_u_ar: 1.43e-17, F_v_ar: 5.22e-06'"
      ]
     },
     "metadata": {},
     "output_type": "display_data"
    },
    {
     "name": "stdout",
     "output_type": "stream",
     "text": [
      "87\n",
      "Strain density energy: 7.48e+01\n"
     ]
    },
    {
     "data": {
      "text/plain": [
       "'Newton-Raphson step: 2,  F_u_ar: 1.39e-17, F_v_ar: 3.68e-12'"
      ]
     },
     "metadata": {},
     "output_type": "display_data"
    },
    {
     "name": "stdout",
     "output_type": "stream",
     "text": [
      "88\n",
      "Strain density energy: 4.47e+01\n"
     ]
    },
    {
     "data": {
      "text/plain": [
       "'Newton-Raphson step: 2,  F_u_ar: 1.39e-17, F_v_ar: 1.64e-11'"
      ]
     },
     "metadata": {},
     "output_type": "display_data"
    },
    {
     "name": "stdout",
     "output_type": "stream",
     "text": [
      "89\n",
      "Strain density energy: 2.64e+02\n"
     ]
    },
    {
     "data": {
      "text/plain": [
       "'Newton-Raphson step: 2,  F_u_ar: 1.39e-17, F_v_ar: 4.30e-11'"
      ]
     },
     "metadata": {},
     "output_type": "display_data"
    },
    {
     "name": "stdout",
     "output_type": "stream",
     "text": [
      "90\n",
      "Strain density energy: 6.69e+02\n"
     ]
    },
    {
     "data": {
      "text/plain": [
       "'Newton-Raphson step: 2,  F_u_ar: 1.39e-17, F_v_ar: 7.97e-11'"
      ]
     },
     "metadata": {},
     "output_type": "display_data"
    },
    {
     "name": "stdout",
     "output_type": "stream",
     "text": [
      "91\n",
      "Strain density energy: 1.17e+03\n"
     ]
    },
    {
     "data": {
      "text/plain": [
       "'Newton-Raphson step: 2,  F_u_ar: 1.39e-17, F_v_ar: 1.16e-10'"
      ]
     },
     "metadata": {},
     "output_type": "display_data"
    },
    {
     "name": "stdout",
     "output_type": "stream",
     "text": [
      "92\n",
      "Strain density energy: 1.69e+03\n"
     ]
    },
    {
     "data": {
      "text/plain": [
       "'Newton-Raphson step: 2,  F_u_ar: 1.39e-17, F_v_ar: 1.38e-10'"
      ]
     },
     "metadata": {},
     "output_type": "display_data"
    },
    {
     "name": "stdout",
     "output_type": "stream",
     "text": [
      "93\n",
      "Strain density energy: 2.12e+03\n"
     ]
    },
    {
     "data": {
      "text/plain": [
       "'Newton-Raphson step: 2,  F_u_ar: 1.39e-17, F_v_ar: 1.39e-10'"
      ]
     },
     "metadata": {},
     "output_type": "display_data"
    },
    {
     "name": "stdout",
     "output_type": "stream",
     "text": [
      "94\n",
      "Strain density energy: 2.41e+03\n"
     ]
    },
    {
     "data": {
      "text/plain": [
       "'Newton-Raphson step: 2,  F_u_ar: 1.39e-17, F_v_ar: 1.22e-10'"
      ]
     },
     "metadata": {},
     "output_type": "display_data"
    },
    {
     "name": "stdout",
     "output_type": "stream",
     "text": [
      "95\n",
      "Strain density energy: 2.52e+03\n"
     ]
    },
    {
     "data": {
      "text/plain": [
       "'Newton-Raphson step: 2,  F_u_ar: 1.39e-17, F_v_ar: 9.18e-11'"
      ]
     },
     "metadata": {},
     "output_type": "display_data"
    },
    {
     "name": "stdout",
     "output_type": "stream",
     "text": [
      "96\n",
      "Strain density energy: 2.44e+03\n"
     ]
    },
    {
     "data": {
      "text/plain": [
       "'Newton-Raphson step: 2,  F_u_ar: 1.41e-17, F_v_ar: 5.80e-11'"
      ]
     },
     "metadata": {},
     "output_type": "display_data"
    },
    {
     "name": "stdout",
     "output_type": "stream",
     "text": [
      "97\n",
      "Strain density energy: 2.18e+03\n"
     ]
    },
    {
     "data": {
      "text/plain": [
       "'Newton-Raphson step: 2,  F_u_ar: 1.39e-17, F_v_ar: 2.94e-11'"
      ]
     },
     "metadata": {},
     "output_type": "display_data"
    },
    {
     "name": "stdout",
     "output_type": "stream",
     "text": [
      "98\n",
      "Strain density energy: 1.80e+03\n"
     ]
    },
    {
     "data": {
      "text/plain": [
       "'Newton-Raphson step: 2,  F_u_ar: 1.39e-17, F_v_ar: 1.14e-11'"
      ]
     },
     "metadata": {},
     "output_type": "display_data"
    },
    {
     "name": "stdout",
     "output_type": "stream",
     "text": [
      "99\n",
      "Strain density energy: 1.34e+03\n"
     ]
    },
    {
     "data": {
      "text/plain": [
       "'Newton-Raphson step: 1,  F_u_ar: 1.39e-17, F_v_ar: 8.67e-06'"
      ]
     },
     "metadata": {},
     "output_type": "display_data"
    },
    {
     "name": "stdout",
     "output_type": "stream",
     "text": [
      "100\n",
      "Strain density energy: 8.85e+02\n"
     ]
    },
    {
     "data": {
      "text/plain": [
       "'Newton-Raphson step: 1,  F_u_ar: 1.39e-17, F_v_ar: 6.07e-06'"
      ]
     },
     "metadata": {},
     "output_type": "display_data"
    },
    {
     "name": "stdout",
     "output_type": "stream",
     "text": [
      "101\n",
      "Strain density energy: 4.87e+02\n"
     ]
    },
    {
     "data": {
      "text/plain": [
       "'Newton-Raphson step: 1,  F_u_ar: 1.39e-17, F_v_ar: 6.15e-06'"
      ]
     },
     "metadata": {},
     "output_type": "display_data"
    },
    {
     "name": "stdout",
     "output_type": "stream",
     "text": [
      "102\n",
      "Strain density energy: 1.96e+02\n"
     ]
    },
    {
     "data": {
      "text/plain": [
       "'Newton-Raphson step: 1,  F_u_ar: 1.39e-17, F_v_ar: 5.99e-06'"
      ]
     },
     "metadata": {},
     "output_type": "display_data"
    },
    {
     "name": "stdout",
     "output_type": "stream",
     "text": [
      "103\n",
      "Strain density energy: 4.25e+01\n"
     ]
    },
    {
     "data": {
      "text/plain": [
       "'Newton-Raphson step: 1,  F_u_ar: 1.39e-17, F_v_ar: 5.70e-06'"
      ]
     },
     "metadata": {},
     "output_type": "display_data"
    },
    {
     "name": "stdout",
     "output_type": "stream",
     "text": [
      "104\n",
      "Strain density energy: 3.35e+01\n"
     ]
    },
    {
     "data": {
      "text/plain": [
       "'Newton-Raphson step: 1,  F_u_ar: 1.43e-17, F_v_ar: 9.08e-06'"
      ]
     },
     "metadata": {},
     "output_type": "display_data"
    },
    {
     "name": "stdout",
     "output_type": "stream",
     "text": [
      "105\n",
      "Strain density energy: 1.54e+02\n"
     ]
    },
    {
     "data": {
      "text/plain": [
       "'Newton-Raphson step: 2,  F_u_ar: 1.39e-17, F_v_ar: 7.62e-12'"
      ]
     },
     "metadata": {},
     "output_type": "display_data"
    },
    {
     "name": "stdout",
     "output_type": "stream",
     "text": [
      "106\n",
      "Strain density energy: 3.73e+02\n"
     ]
    },
    {
     "data": {
      "text/plain": [
       "'Newton-Raphson step: 2,  F_u_ar: 1.39e-17, F_v_ar: 1.32e-11'"
      ]
     },
     "metadata": {},
     "output_type": "display_data"
    },
    {
     "name": "stdout",
     "output_type": "stream",
     "text": [
      "107\n",
      "Strain density energy: 6.43e+02\n"
     ]
    },
    {
     "data": {
      "text/plain": [
       "'Newton-Raphson step: 2,  F_u_ar: 1.39e-17, F_v_ar: 1.79e-11'"
      ]
     },
     "metadata": {},
     "output_type": "display_data"
    },
    {
     "name": "stdout",
     "output_type": "stream",
     "text": [
      "108\n",
      "Strain density energy: 9.16e+02\n"
     ]
    },
    {
     "data": {
      "text/plain": [
       "'Newton-Raphson step: 2,  F_u_ar: 1.39e-17, F_v_ar: 2.00e-11'"
      ]
     },
     "metadata": {},
     "output_type": "display_data"
    },
    {
     "name": "stdout",
     "output_type": "stream",
     "text": [
      "109\n",
      "Strain density energy: 1.15e+03\n"
     ]
    },
    {
     "data": {
      "text/plain": [
       "'Newton-Raphson step: 2,  F_u_ar: 1.39e-17, F_v_ar: 1.88e-11'"
      ]
     },
     "metadata": {},
     "output_type": "display_data"
    },
    {
     "name": "stdout",
     "output_type": "stream",
     "text": [
      "110\n",
      "Strain density energy: 1.30e+03\n"
     ]
    },
    {
     "data": {
      "text/plain": [
       "'Newton-Raphson step: 2,  F_u_ar: 1.39e-17, F_v_ar: 1.56e-11'"
      ]
     },
     "metadata": {},
     "output_type": "display_data"
    },
    {
     "name": "stdout",
     "output_type": "stream",
     "text": [
      "111\n",
      "Strain density energy: 1.34e+03\n"
     ]
    },
    {
     "data": {
      "text/plain": [
       "'Newton-Raphson step: 2,  F_u_ar: 1.39e-17, F_v_ar: 1.12e-11'"
      ]
     },
     "metadata": {},
     "output_type": "display_data"
    },
    {
     "name": "stdout",
     "output_type": "stream",
     "text": [
      "112\n",
      "Strain density energy: 1.29e+03\n"
     ]
    },
    {
     "data": {
      "text/plain": [
       "'Newton-Raphson step: 2,  F_u_ar: 1.39e-17, F_v_ar: 6.61e-12'"
      ]
     },
     "metadata": {},
     "output_type": "display_data"
    },
    {
     "name": "stdout",
     "output_type": "stream",
     "text": [
      "113\n",
      "Strain density energy: 1.14e+03\n"
     ]
    },
    {
     "data": {
      "text/plain": [
       "'Newton-Raphson step: 1,  F_u_ar: 1.39e-17, F_v_ar: 8.07e-06'"
      ]
     },
     "metadata": {},
     "output_type": "display_data"
    },
    {
     "name": "stdout",
     "output_type": "stream",
     "text": [
      "114\n",
      "Strain density energy: 9.25e+02\n"
     ]
    },
    {
     "data": {
      "text/plain": [
       "'Newton-Raphson step: 1,  F_u_ar: 1.39e-17, F_v_ar: 5.33e-06'"
      ]
     },
     "metadata": {},
     "output_type": "display_data"
    },
    {
     "name": "stdout",
     "output_type": "stream",
     "text": [
      "115\n",
      "Strain density energy: 6.78e+02\n"
     ]
    },
    {
     "data": {
      "text/plain": [
       "'Newton-Raphson step: 1,  F_u_ar: 1.41e-17, F_v_ar: 3.63e-06'"
      ]
     },
     "metadata": {},
     "output_type": "display_data"
    },
    {
     "name": "stdout",
     "output_type": "stream",
     "text": [
      "116\n",
      "Strain density energy: 4.34e+02\n"
     ]
    },
    {
     "data": {
      "text/plain": [
       "'Newton-Raphson step: 1,  F_u_ar: 1.41e-17, F_v_ar: 2.22e-06'"
      ]
     },
     "metadata": {},
     "output_type": "display_data"
    },
    {
     "name": "stdout",
     "output_type": "stream",
     "text": [
      "117\n",
      "Strain density energy: 2.27e+02\n"
     ]
    },
    {
     "data": {
      "text/plain": [
       "'Newton-Raphson step: 1,  F_u_ar: 1.41e-17, F_v_ar: 1.77e-06'"
      ]
     },
     "metadata": {},
     "output_type": "display_data"
    },
    {
     "name": "stdout",
     "output_type": "stream",
     "text": [
      "118\n",
      "Strain density energy: 8.13e+01\n"
     ]
    },
    {
     "data": {
      "text/plain": [
       "'Newton-Raphson step: 1,  F_u_ar: 1.41e-17, F_v_ar: 1.31e-06'"
      ]
     },
     "metadata": {},
     "output_type": "display_data"
    },
    {
     "name": "stdout",
     "output_type": "stream",
     "text": [
      "119\n",
      "Strain density energy: 1.19e+01\n"
     ]
    },
    {
     "data": {
      "text/plain": [
       "'Newton-Raphson step: 1,  F_u_ar: 1.41e-17, F_v_ar: 2.06e-06'"
      ]
     },
     "metadata": {},
     "output_type": "display_data"
    },
    {
     "name": "stdout",
     "output_type": "stream",
     "text": [
      "120\n",
      "Strain density energy: 1.98e+01\n"
     ]
    },
    {
     "data": {
      "text/plain": [
       "'Newton-Raphson step: 1,  F_u_ar: 1.41e-17, F_v_ar: 3.58e-06'"
      ]
     },
     "metadata": {},
     "output_type": "display_data"
    },
    {
     "name": "stdout",
     "output_type": "stream",
     "text": [
      "121\n",
      "Strain density energy: 9.51e+01\n"
     ]
    },
    {
     "data": {
      "text/plain": [
       "'Newton-Raphson step: 1,  F_u_ar: 1.39e-17, F_v_ar: 5.06e-06'"
      ]
     },
     "metadata": {},
     "output_type": "display_data"
    },
    {
     "name": "stdout",
     "output_type": "stream",
     "text": [
      "122\n",
      "Strain density energy: 2.19e+02\n"
     ]
    },
    {
     "data": {
      "text/plain": [
       "'Newton-Raphson step: 1,  F_u_ar: 1.39e-17, F_v_ar: 6.26e-06'"
      ]
     },
     "metadata": {},
     "output_type": "display_data"
    },
    {
     "name": "stdout",
     "output_type": "stream",
     "text": [
      "123\n",
      "Strain density energy: 3.65e+02\n"
     ]
    },
    {
     "data": {
      "text/plain": [
       "'Newton-Raphson step: 1,  F_u_ar: 1.38e-17, F_v_ar: 7.03e-06'"
      ]
     },
     "metadata": {},
     "output_type": "display_data"
    },
    {
     "name": "stdout",
     "output_type": "stream",
     "text": [
      "124\n",
      "Strain density energy: 5.09e+02\n"
     ]
    },
    {
     "data": {
      "text/plain": [
       "'Newton-Raphson step: 1,  F_u_ar: 1.39e-17, F_v_ar: 7.34e-06'"
      ]
     },
     "metadata": {},
     "output_type": "display_data"
    },
    {
     "name": "stdout",
     "output_type": "stream",
     "text": [
      "125\n",
      "Strain density energy: 6.26e+02\n"
     ]
    },
    {
     "data": {
      "text/plain": [
       "'Newton-Raphson step: 1,  F_u_ar: 1.39e-17, F_v_ar: 7.22e-06'"
      ]
     },
     "metadata": {},
     "output_type": "display_data"
    },
    {
     "name": "stdout",
     "output_type": "stream",
     "text": [
      "126\n",
      "Strain density energy: 6.99e+02\n"
     ]
    },
    {
     "data": {
      "text/plain": [
       "'Newton-Raphson step: 1,  F_u_ar: 1.39e-17, F_v_ar: 6.61e-06'"
      ]
     },
     "metadata": {},
     "output_type": "display_data"
    },
    {
     "name": "stdout",
     "output_type": "stream",
     "text": [
      "127\n",
      "Strain density energy: 7.17e+02\n"
     ]
    },
    {
     "data": {
      "text/plain": [
       "'Newton-Raphson step: 1,  F_u_ar: 1.39e-17, F_v_ar: 5.61e-06'"
      ]
     },
     "metadata": {},
     "output_type": "display_data"
    },
    {
     "name": "stdout",
     "output_type": "stream",
     "text": [
      "128\n",
      "Strain density energy: 6.80e+02\n"
     ]
    },
    {
     "data": {
      "text/plain": [
       "'Newton-Raphson step: 1,  F_u_ar: 1.39e-17, F_v_ar: 4.82e-06'"
      ]
     },
     "metadata": {},
     "output_type": "display_data"
    },
    {
     "name": "stdout",
     "output_type": "stream",
     "text": [
      "129\n",
      "Strain density energy: 5.96e+02\n"
     ]
    },
    {
     "data": {
      "text/plain": [
       "'Newton-Raphson step: 1,  F_u_ar: 1.39e-17, F_v_ar: 3.85e-06'"
      ]
     },
     "metadata": {},
     "output_type": "display_data"
    },
    {
     "name": "stdout",
     "output_type": "stream",
     "text": [
      "130\n",
      "Strain density energy: 4.78e+02\n"
     ]
    },
    {
     "data": {
      "text/plain": [
       "'Newton-Raphson step: 1,  F_u_ar: 1.38e-17, F_v_ar: 2.93e-06'"
      ]
     },
     "metadata": {},
     "output_type": "display_data"
    },
    {
     "name": "stdout",
     "output_type": "stream",
     "text": [
      "131\n",
      "Strain density energy: 3.45e+02\n"
     ]
    },
    {
     "data": {
      "text/plain": [
       "'Newton-Raphson step: 1,  F_u_ar: 1.39e-17, F_v_ar: 2.04e-06'"
      ]
     },
     "metadata": {},
     "output_type": "display_data"
    },
    {
     "name": "stdout",
     "output_type": "stream",
     "text": [
      "132\n",
      "Strain density energy: 2.16e+02\n"
     ]
    },
    {
     "data": {
      "text/plain": [
       "'Newton-Raphson step: 1,  F_u_ar: 1.39e-17, F_v_ar: 1.24e-06'"
      ]
     },
     "metadata": {},
     "output_type": "display_data"
    },
    {
     "name": "stdout",
     "output_type": "stream",
     "text": [
      "133\n",
      "Strain density energy: 1.08e+02\n"
     ]
    },
    {
     "data": {
      "text/plain": [
       "'Newton-Raphson step: 1,  F_u_ar: 1.39e-17, F_v_ar: 6.40e-07'"
      ]
     },
     "metadata": {},
     "output_type": "display_data"
    },
    {
     "name": "stdout",
     "output_type": "stream",
     "text": [
      "134\n",
      "Strain density energy: 3.49e+01\n"
     ]
    },
    {
     "data": {
      "text/plain": [
       "'Newton-Raphson step: 1,  F_u_ar: 1.39e-17, F_v_ar: 2.68e-07'"
      ]
     },
     "metadata": {},
     "output_type": "display_data"
    },
    {
     "name": "stdout",
     "output_type": "stream",
     "text": [
      "135\n",
      "Strain density energy: 2.61e+00\n"
     ]
    },
    {
     "data": {
      "text/plain": [
       "'Newton-Raphson step: 1,  F_u_ar: 1.38e-17, F_v_ar: 4.59e-07'"
      ]
     },
     "metadata": {},
     "output_type": "display_data"
    },
    {
     "name": "stdout",
     "output_type": "stream",
     "text": [
      "136\n",
      "Strain density energy: 1.17e+01\n"
     ]
    },
    {
     "data": {
      "text/plain": [
       "'Newton-Raphson step: 1,  F_u_ar: 1.39e-17, F_v_ar: 9.28e-07'"
      ]
     },
     "metadata": {},
     "output_type": "display_data"
    },
    {
     "name": "stdout",
     "output_type": "stream",
     "text": [
      "137\n",
      "Strain density energy: 5.62e+01\n"
     ]
    },
    {
     "data": {
      "text/plain": [
       "'Newton-Raphson step: 1,  F_u_ar: 1.39e-17, F_v_ar: 1.45e-06'"
      ]
     },
     "metadata": {},
     "output_type": "display_data"
    },
    {
     "name": "stdout",
     "output_type": "stream",
     "text": [
      "138\n",
      "Strain density energy: 1.25e+02\n"
     ]
    },
    {
     "data": {
      "text/plain": [
       "'Newton-Raphson step: 1,  F_u_ar: 1.39e-17, F_v_ar: 1.98e-06'"
      ]
     },
     "metadata": {},
     "output_type": "display_data"
    },
    {
     "name": "stdout",
     "output_type": "stream",
     "text": [
      "139\n",
      "Strain density energy: 2.05e+02\n"
     ]
    },
    {
     "data": {
      "text/plain": [
       "'Newton-Raphson step: 1,  F_u_ar: 1.39e-17, F_v_ar: 2.47e-06'"
      ]
     },
     "metadata": {},
     "output_type": "display_data"
    },
    {
     "name": "stdout",
     "output_type": "stream",
     "text": [
      "140\n",
      "Strain density energy: 2.82e+02\n"
     ]
    },
    {
     "data": {
      "text/plain": [
       "'Newton-Raphson step: 1,  F_u_ar: 1.39e-17, F_v_ar: 2.87e-06'"
      ]
     },
     "metadata": {},
     "output_type": "display_data"
    },
    {
     "name": "stdout",
     "output_type": "stream",
     "text": [
      "141\n",
      "Strain density energy: 3.42e+02\n"
     ]
    },
    {
     "data": {
      "text/plain": [
       "'Newton-Raphson step: 1,  F_u_ar: 1.39e-17, F_v_ar: 3.20e-06'"
      ]
     },
     "metadata": {},
     "output_type": "display_data"
    },
    {
     "name": "stdout",
     "output_type": "stream",
     "text": [
      "142\n",
      "Strain density energy: 3.77e+02\n"
     ]
    },
    {
     "data": {
      "text/plain": [
       "'Newton-Raphson step: 1,  F_u_ar: 1.39e-17, F_v_ar: 3.28e-06'"
      ]
     },
     "metadata": {},
     "output_type": "display_data"
    },
    {
     "name": "stdout",
     "output_type": "stream",
     "text": [
      "143\n",
      "Strain density energy: 3.83e+02\n"
     ]
    },
    {
     "data": {
      "text/plain": [
       "'Newton-Raphson step: 1,  F_u_ar: 1.39e-17, F_v_ar: 3.11e-06'"
      ]
     },
     "metadata": {},
     "output_type": "display_data"
    },
    {
     "name": "stdout",
     "output_type": "stream",
     "text": [
      "144\n",
      "Strain density energy: 3.59e+02\n"
     ]
    },
    {
     "data": {
      "text/plain": [
       "'Newton-Raphson step: 1,  F_u_ar: 1.39e-17, F_v_ar: 2.72e-06'"
      ]
     },
     "metadata": {},
     "output_type": "display_data"
    },
    {
     "name": "stdout",
     "output_type": "stream",
     "text": [
      "145\n",
      "Strain density energy: 3.10e+02\n"
     ]
    },
    {
     "data": {
      "text/plain": [
       "'Newton-Raphson step: 1,  F_u_ar: 1.39e-17, F_v_ar: 2.17e-06'"
      ]
     },
     "metadata": {},
     "output_type": "display_data"
    },
    {
     "name": "stdout",
     "output_type": "stream",
     "text": [
      "146\n",
      "Strain density energy: 2.44e+02\n"
     ]
    },
    {
     "data": {
      "text/plain": [
       "'Newton-Raphson step: 1,  F_u_ar: 1.39e-17, F_v_ar: 1.55e-06'"
      ]
     },
     "metadata": {},
     "output_type": "display_data"
    },
    {
     "name": "stdout",
     "output_type": "stream",
     "text": [
      "147\n",
      "Strain density energy: 1.72e+02\n"
     ]
    },
    {
     "data": {
      "text/plain": [
       "'Newton-Raphson step: 1,  F_u_ar: 1.39e-17, F_v_ar: 9.56e-07'"
      ]
     },
     "metadata": {},
     "output_type": "display_data"
    },
    {
     "name": "stdout",
     "output_type": "stream",
     "text": [
      "148\n",
      "Strain density energy: 1.04e+02\n"
     ]
    },
    {
     "data": {
      "text/plain": [
       "'Newton-Raphson step: 1,  F_u_ar: 1.39e-17, F_v_ar: 5.15e-07'"
      ]
     },
     "metadata": {},
     "output_type": "display_data"
    },
    {
     "name": "stdout",
     "output_type": "stream",
     "text": [
      "149\n",
      "Strain density energy: 4.90e+01\n"
     ]
    },
    {
     "data": {
      "text/plain": [
       "'Newton-Raphson step: 1,  F_u_ar: 1.39e-17, F_v_ar: 1.98e-07'"
      ]
     },
     "metadata": {},
     "output_type": "display_data"
    },
    {
     "name": "stdout",
     "output_type": "stream",
     "text": [
      "150\n",
      "Strain density energy: 1.34e+01\n"
     ]
    },
    {
     "data": {
      "text/plain": [
       "'Newton-Raphson step: 1,  F_u_ar: 1.40e-17, F_v_ar: 3.31e-08'"
      ]
     },
     "metadata": {},
     "output_type": "display_data"
    },
    {
     "name": "stdout",
     "output_type": "stream",
     "text": [
      "151\n",
      "Strain density energy: 1.79e-01\n"
     ]
    },
    {
     "data": {
      "text/plain": [
       "'Newton-Raphson step: 1,  F_u_ar: 1.39e-17, F_v_ar: 8.88e-08'"
      ]
     },
     "metadata": {},
     "output_type": "display_data"
    },
    {
     "name": "stdout",
     "output_type": "stream",
     "text": [
      "152\n",
      "Strain density energy: 8.79e+00\n"
     ]
    },
    {
     "data": {
      "text/plain": [
       "'Newton-Raphson step: 1,  F_u_ar: 1.39e-17, F_v_ar: 3.10e-07'"
      ]
     },
     "metadata": {},
     "output_type": "display_data"
    },
    {
     "name": "stdout",
     "output_type": "stream",
     "text": [
      "153\n",
      "Strain density energy: 3.54e+01\n"
     ]
    },
    {
     "data": {
      "text/plain": [
       "'Newton-Raphson step: 1,  F_u_ar: 1.39e-17, F_v_ar: 6.32e-07'"
      ]
     },
     "metadata": {},
     "output_type": "display_data"
    },
    {
     "name": "stdout",
     "output_type": "stream",
     "text": [
      "154\n",
      "Strain density energy: 7.39e+01\n"
     ]
    },
    {
     "data": {
      "text/plain": [
       "'Newton-Raphson step: 1,  F_u_ar: 1.39e-17, F_v_ar: 9.97e-07'"
      ]
     },
     "metadata": {},
     "output_type": "display_data"
    },
    {
     "name": "stdout",
     "output_type": "stream",
     "text": [
      "155\n",
      "Strain density energy: 1.17e+02\n"
     ]
    },
    {
     "data": {
      "text/plain": [
       "'Newton-Raphson step: 1,  F_u_ar: 1.39e-17, F_v_ar: 1.34e-06'"
      ]
     },
     "metadata": {},
     "output_type": "display_data"
    },
    {
     "name": "stdout",
     "output_type": "stream",
     "text": [
      "156\n",
      "Strain density energy: 1.57e+02\n"
     ]
    },
    {
     "data": {
      "text/plain": [
       "'Newton-Raphson step: 1,  F_u_ar: 1.39e-17, F_v_ar: 1.60e-06'"
      ]
     },
     "metadata": {},
     "output_type": "display_data"
    },
    {
     "name": "stdout",
     "output_type": "stream",
     "text": [
      "157\n",
      "Strain density energy: 1.87e+02\n"
     ]
    },
    {
     "data": {
      "text/plain": [
       "'Newton-Raphson step: 1,  F_u_ar: 1.39e-17, F_v_ar: 1.75e-06'"
      ]
     },
     "metadata": {},
     "output_type": "display_data"
    },
    {
     "name": "stdout",
     "output_type": "stream",
     "text": [
      "158\n",
      "Strain density energy: 2.03e+02\n"
     ]
    },
    {
     "data": {
      "text/plain": [
       "'Newton-Raphson step: 1,  F_u_ar: 1.39e-17, F_v_ar: 1.83e-06'"
      ]
     },
     "metadata": {},
     "output_type": "display_data"
    },
    {
     "name": "stdout",
     "output_type": "stream",
     "text": [
      "159\n",
      "Strain density energy: 2.03e+02\n"
     ]
    },
    {
     "data": {
      "text/plain": [
       "'Newton-Raphson step: 1,  F_u_ar: 1.39e-17, F_v_ar: 1.83e-06'"
      ]
     },
     "metadata": {},
     "output_type": "display_data"
    },
    {
     "name": "stdout",
     "output_type": "stream",
     "text": [
      "160\n",
      "Strain density energy: 1.88e+02\n"
     ]
    },
    {
     "data": {
      "text/plain": [
       "'Newton-Raphson step: 1,  F_u_ar: 1.39e-17, F_v_ar: 1.70e-06'"
      ]
     },
     "metadata": {},
     "output_type": "display_data"
    },
    {
     "name": "stdout",
     "output_type": "stream",
     "text": [
      "161\n",
      "Strain density energy: 1.60e+02\n"
     ]
    },
    {
     "data": {
      "text/plain": [
       "'Newton-Raphson step: 1,  F_u_ar: 1.38e-17, F_v_ar: 1.46e-06'"
      ]
     },
     "metadata": {},
     "output_type": "display_data"
    },
    {
     "name": "stdout",
     "output_type": "stream",
     "text": [
      "162\n",
      "Strain density energy: 1.24e+02\n"
     ]
    },
    {
     "data": {
      "text/plain": [
       "'Newton-Raphson step: 1,  F_u_ar: 1.39e-17, F_v_ar: 1.14e-06'"
      ]
     },
     "metadata": {},
     "output_type": "display_data"
    },
    {
     "name": "stdout",
     "output_type": "stream",
     "text": [
      "163\n",
      "Strain density energy: 8.62e+01\n"
     ]
    },
    {
     "data": {
      "text/plain": [
       "'Newton-Raphson step: 1,  F_u_ar: 1.39e-17, F_v_ar: 8.02e-07'"
      ]
     },
     "metadata": {},
     "output_type": "display_data"
    },
    {
     "name": "stdout",
     "output_type": "stream",
     "text": [
      "164\n",
      "Strain density energy: 5.08e+01\n"
     ]
    },
    {
     "data": {
      "text/plain": [
       "'Newton-Raphson step: 1,  F_u_ar: 1.39e-17, F_v_ar: 4.79e-07'"
      ]
     },
     "metadata": {},
     "output_type": "display_data"
    },
    {
     "name": "stdout",
     "output_type": "stream",
     "text": [
      "165\n",
      "Strain density energy: 2.29e+01\n"
     ]
    },
    {
     "data": {
      "text/plain": [
       "'Newton-Raphson step: 1,  F_u_ar: 1.39e-17, F_v_ar: 2.18e-07'"
      ]
     },
     "metadata": {},
     "output_type": "display_data"
    },
    {
     "name": "stdout",
     "output_type": "stream",
     "text": [
      "166\n",
      "Strain density energy: 5.64e+00\n"
     ]
    },
    {
     "data": {
      "text/plain": [
       "'Newton-Raphson step: 1,  F_u_ar: 1.39e-17, F_v_ar: 6.29e-08'"
      ]
     },
     "metadata": {},
     "output_type": "display_data"
    },
    {
     "name": "stdout",
     "output_type": "stream",
     "text": [
      "167\n",
      "Strain density energy: 3.14e-01\n"
     ]
    },
    {
     "data": {
      "text/plain": [
       "'Newton-Raphson step: 1,  F_u_ar: 1.39e-17, F_v_ar: 1.13e-07'"
      ]
     },
     "metadata": {},
     "output_type": "display_data"
    },
    {
     "name": "stdout",
     "output_type": "stream",
     "text": [
      "168\n",
      "Strain density energy: 6.38e+00\n"
     ]
    },
    {
     "data": {
      "text/plain": [
       "'Newton-Raphson step: 1,  F_u_ar: 1.39e-17, F_v_ar: 1.94e-07'"
      ]
     },
     "metadata": {},
     "output_type": "display_data"
    },
    {
     "name": "stdout",
     "output_type": "stream",
     "text": [
      "169\n",
      "Strain density energy: 2.16e+01\n"
     ]
    },
    {
     "data": {
      "text/plain": [
       "'Newton-Raphson step: 1,  F_u_ar: 1.39e-17, F_v_ar: 3.46e-07'"
      ]
     },
     "metadata": {},
     "output_type": "display_data"
    },
    {
     "name": "stdout",
     "output_type": "stream",
     "text": [
      "170\n",
      "Strain density energy: 4.27e+01\n"
     ]
    },
    {
     "data": {
      "text/plain": [
       "'Newton-Raphson step: 1,  F_u_ar: 1.39e-17, F_v_ar: 5.38e-07'"
      ]
     },
     "metadata": {},
     "output_type": "display_data"
    },
    {
     "name": "stdout",
     "output_type": "stream",
     "text": [
      "171\n",
      "Strain density energy: 6.55e+01\n"
     ]
    },
    {
     "data": {
      "text/plain": [
       "'Newton-Raphson step: 1,  F_u_ar: 1.39e-17, F_v_ar: 7.40e-07'"
      ]
     },
     "metadata": {},
     "output_type": "display_data"
    },
    {
     "name": "stdout",
     "output_type": "stream",
     "text": [
      "172\n",
      "Strain density energy: 8.61e+01\n"
     ]
    },
    {
     "data": {
      "text/plain": [
       "'Newton-Raphson step: 1,  F_u_ar: 1.39e-17, F_v_ar: 9.69e-07'"
      ]
     },
     "metadata": {},
     "output_type": "display_data"
    },
    {
     "name": "stdout",
     "output_type": "stream",
     "text": [
      "173\n",
      "Strain density energy: 1.01e+02\n"
     ]
    },
    {
     "data": {
      "text/plain": [
       "'Newton-Raphson step: 1,  F_u_ar: 1.39e-17, F_v_ar: 1.16e-06'"
      ]
     },
     "metadata": {},
     "output_type": "display_data"
    },
    {
     "name": "stdout",
     "output_type": "stream",
     "text": [
      "174\n",
      "Strain density energy: 1.09e+02\n"
     ]
    },
    {
     "data": {
      "text/plain": [
       "'Newton-Raphson step: 1,  F_u_ar: 1.39e-17, F_v_ar: 1.27e-06'"
      ]
     },
     "metadata": {},
     "output_type": "display_data"
    },
    {
     "name": "stdout",
     "output_type": "stream",
     "text": [
      "175\n",
      "Strain density energy: 1.08e+02\n"
     ]
    },
    {
     "data": {
      "text/plain": [
       "'Newton-Raphson step: 1,  F_u_ar: 1.39e-17, F_v_ar: 1.28e-06'"
      ]
     },
     "metadata": {},
     "output_type": "display_data"
    },
    {
     "name": "stdout",
     "output_type": "stream",
     "text": [
      "176\n",
      "Strain density energy: 9.85e+01\n"
     ]
    },
    {
     "data": {
      "text/plain": [
       "'Newton-Raphson step: 1,  F_u_ar: 1.39e-17, F_v_ar: 1.20e-06'"
      ]
     },
     "metadata": {},
     "output_type": "display_data"
    },
    {
     "name": "stdout",
     "output_type": "stream",
     "text": [
      "177\n",
      "Strain density energy: 8.29e+01\n"
     ]
    },
    {
     "data": {
      "text/plain": [
       "'Newton-Raphson step: 1,  F_u_ar: 1.39e-17, F_v_ar: 1.02e-06'"
      ]
     },
     "metadata": {},
     "output_type": "display_data"
    },
    {
     "name": "stdout",
     "output_type": "stream",
     "text": [
      "178\n",
      "Strain density energy: 6.34e+01\n"
     ]
    },
    {
     "data": {
      "text/plain": [
       "'Newton-Raphson step: 1,  F_u_ar: 1.39e-17, F_v_ar: 7.93e-07'"
      ]
     },
     "metadata": {},
     "output_type": "display_data"
    },
    {
     "name": "stdout",
     "output_type": "stream",
     "text": [
      "179\n",
      "Strain density energy: 4.31e+01\n"
     ]
    },
    {
     "data": {
      "text/plain": [
       "'Newton-Raphson step: 1,  F_u_ar: 1.39e-17, F_v_ar: 5.43e-07'"
      ]
     },
     "metadata": {},
     "output_type": "display_data"
    },
    {
     "name": "stdout",
     "output_type": "stream",
     "text": [
      "180\n",
      "Strain density energy: 2.46e+01\n"
     ]
    },
    {
     "data": {
      "text/plain": [
       "'Newton-Raphson step: 1,  F_u_ar: 1.39e-17, F_v_ar: 3.11e-07'"
      ]
     },
     "metadata": {},
     "output_type": "display_data"
    },
    {
     "name": "stdout",
     "output_type": "stream",
     "text": [
      "181\n",
      "Strain density energy: 1.05e+01\n"
     ]
    },
    {
     "data": {
      "text/plain": [
       "'Newton-Raphson step: 1,  F_u_ar: 1.39e-17, F_v_ar: 1.33e-07'"
      ]
     },
     "metadata": {},
     "output_type": "display_data"
    },
    {
     "name": "stdout",
     "output_type": "stream",
     "text": [
      "182\n",
      "Strain density energy: 2.21e+00\n"
     ]
    },
    {
     "data": {
      "text/plain": [
       "'Newton-Raphson step: 1,  F_u_ar: 1.39e-17, F_v_ar: 4.02e-08'"
      ]
     },
     "metadata": {},
     "output_type": "display_data"
    },
    {
     "name": "stdout",
     "output_type": "stream",
     "text": [
      "183\n",
      "Strain density energy: 2.98e-01\n"
     ]
    },
    {
     "data": {
      "text/plain": [
       "'Newton-Raphson step: 1,  F_u_ar: 1.39e-17, F_v_ar: 5.85e-08'"
      ]
     },
     "metadata": {},
     "output_type": "display_data"
    },
    {
     "name": "stdout",
     "output_type": "stream",
     "text": [
      "184\n",
      "Strain density energy: 4.34e+00\n"
     ]
    },
    {
     "data": {
      "text/plain": [
       "'Newton-Raphson step: 1,  F_u_ar: 1.39e-17, F_v_ar: 1.09e-07'"
      ]
     },
     "metadata": {},
     "output_type": "display_data"
    },
    {
     "name": "stdout",
     "output_type": "stream",
     "text": [
      "185\n",
      "Strain density energy: 1.31e+01\n"
     ]
    },
    {
     "data": {
      "text/plain": [
       "'Newton-Raphson step: 1,  F_u_ar: 1.39e-17, F_v_ar: 2.18e-07'"
      ]
     },
     "metadata": {},
     "output_type": "display_data"
    },
    {
     "name": "stdout",
     "output_type": "stream",
     "text": [
      "186\n",
      "Strain density energy: 2.46e+01\n"
     ]
    },
    {
     "data": {
      "text/plain": [
       "'Newton-Raphson step: 1,  F_u_ar: 1.39e-17, F_v_ar: 3.81e-07'"
      ]
     },
     "metadata": {},
     "output_type": "display_data"
    },
    {
     "name": "stdout",
     "output_type": "stream",
     "text": [
      "187\n",
      "Strain density energy: 3.67e+01\n"
     ]
    },
    {
     "data": {
      "text/plain": [
       "'Newton-Raphson step: 1,  F_u_ar: 1.39e-17, F_v_ar: 5.45e-07'"
      ]
     },
     "metadata": {},
     "output_type": "display_data"
    },
    {
     "name": "stdout",
     "output_type": "stream",
     "text": [
      "188\n",
      "Strain density energy: 4.74e+01\n"
     ]
    },
    {
     "data": {
      "text/plain": [
       "'Newton-Raphson step: 1,  F_u_ar: 1.39e-17, F_v_ar: 6.99e-07'"
      ]
     },
     "metadata": {},
     "output_type": "display_data"
    },
    {
     "name": "stdout",
     "output_type": "stream",
     "text": [
      "189\n",
      "Strain density energy: 5.49e+01\n"
     ]
    },
    {
     "data": {
      "text/plain": [
       "'Newton-Raphson step: 1,  F_u_ar: 1.39e-17, F_v_ar: 8.08e-07'"
      ]
     },
     "metadata": {},
     "output_type": "display_data"
    },
    {
     "name": "stdout",
     "output_type": "stream",
     "text": [
      "190\n",
      "Strain density energy: 5.83e+01\n"
     ]
    },
    {
     "data": {
      "text/plain": [
       "'Newton-Raphson step: 1,  F_u_ar: 1.39e-17, F_v_ar: 8.52e-07'"
      ]
     },
     "metadata": {},
     "output_type": "display_data"
    },
    {
     "name": "stdout",
     "output_type": "stream",
     "text": [
      "191\n",
      "Strain density energy: 5.71e+01\n"
     ]
    },
    {
     "data": {
      "text/plain": [
       "'Newton-Raphson step: 1,  F_u_ar: 1.39e-17, F_v_ar: 8.26e-07'"
      ]
     },
     "metadata": {},
     "output_type": "display_data"
    },
    {
     "name": "stdout",
     "output_type": "stream",
     "text": [
      "192\n",
      "Strain density energy: 5.16e+01\n"
     ]
    },
    {
     "data": {
      "text/plain": [
       "'Newton-Raphson step: 1,  F_u_ar: 1.39e-17, F_v_ar: 7.37e-07'"
      ]
     },
     "metadata": {},
     "output_type": "display_data"
    },
    {
     "name": "stdout",
     "output_type": "stream",
     "text": [
      "193\n",
      "Strain density energy: 4.29e+01\n"
     ]
    },
    {
     "data": {
      "text/plain": [
       "'Newton-Raphson step: 1,  F_u_ar: 1.39e-17, F_v_ar: 6.00e-07'"
      ]
     },
     "metadata": {},
     "output_type": "display_data"
    },
    {
     "name": "stdout",
     "output_type": "stream",
     "text": [
      "194\n",
      "Strain density energy: 3.24e+01\n"
     ]
    },
    {
     "data": {
      "text/plain": [
       "'Newton-Raphson step: 1,  F_u_ar: 1.39e-17, F_v_ar: 4.38e-07'"
      ]
     },
     "metadata": {},
     "output_type": "display_data"
    },
    {
     "name": "stdout",
     "output_type": "stream",
     "text": [
      "195\n",
      "Strain density energy: 2.15e+01\n"
     ]
    },
    {
     "data": {
      "text/plain": [
       "'Newton-Raphson step: 1,  F_u_ar: 1.39e-17, F_v_ar: 2.77e-07'"
      ]
     },
     "metadata": {},
     "output_type": "display_data"
    },
    {
     "name": "stdout",
     "output_type": "stream",
     "text": [
      "196\n",
      "Strain density energy: 1.19e+01\n"
     ]
    },
    {
     "data": {
      "text/plain": [
       "'Newton-Raphson step: 1,  F_u_ar: 1.39e-17, F_v_ar: 1.41e-07'"
      ]
     },
     "metadata": {},
     "output_type": "display_data"
    },
    {
     "name": "stdout",
     "output_type": "stream",
     "text": [
      "197\n",
      "Strain density energy: 4.77e+00\n"
     ]
    },
    {
     "data": {
      "text/plain": [
       "'Newton-Raphson step: 1,  F_u_ar: 1.39e-17, F_v_ar: 4.61e-08'"
      ]
     },
     "metadata": {},
     "output_type": "display_data"
    },
    {
     "name": "stdout",
     "output_type": "stream",
     "text": [
      "198\n",
      "Strain density energy: 7.92e-01\n"
     ]
    },
    {
     "data": {
      "text/plain": [
       "'Newton-Raphson step: 1,  F_u_ar: 1.39e-17, F_v_ar: 1.37e-08'"
      ]
     },
     "metadata": {},
     "output_type": "display_data"
    },
    {
     "name": "stdout",
     "output_type": "stream",
     "text": [
      "199\n",
      "Strain density energy: 2.38e-01\n"
     ]
    },
    {
     "data": {
      "text/plain": [
       "'Newton-Raphson step: 1,  F_u_ar: 1.39e-17, F_v_ar: 2.67e-08'"
      ]
     },
     "metadata": {},
     "output_type": "display_data"
    },
    {
     "name": "stdout",
     "output_type": "stream",
     "text": [
      "200\n",
      "Strain density energy: 2.80e+00\n"
     ]
    },
    {
     "data": {
      "text/plain": [
       "'Newton-Raphson step: 1,  F_u_ar: 1.39e-17, F_v_ar: 8.77e-08'"
      ]
     },
     "metadata": {},
     "output_type": "display_data"
    },
    {
     "name": "stdout",
     "output_type": "stream",
     "text": [
      "201\n",
      "Strain density energy: 7.75e+00\n"
     ]
    },
    {
     "data": {
      "text/plain": [
       "'Newton-Raphson step: 1,  F_u_ar: 1.39e-17, F_v_ar: 1.79e-07'"
      ]
     },
     "metadata": {},
     "output_type": "display_data"
    },
    {
     "name": "stdout",
     "output_type": "stream",
     "text": [
      "202\n",
      "Strain density energy: 1.40e+01\n"
     ]
    },
    {
     "data": {
      "text/plain": [
       "'Newton-Raphson step: 1,  F_u_ar: 1.39e-17, F_v_ar: 2.80e-07'"
      ]
     },
     "metadata": {},
     "output_type": "display_data"
    },
    {
     "name": "stdout",
     "output_type": "stream",
     "text": [
      "203\n",
      "Strain density energy: 2.05e+01\n"
     ]
    },
    {
     "data": {
      "text/plain": [
       "'Newton-Raphson step: 1,  F_u_ar: 1.39e-17, F_v_ar: 3.75e-07'"
      ]
     },
     "metadata": {},
     "output_type": "display_data"
    },
    {
     "name": "stdout",
     "output_type": "stream",
     "text": [
      "204\n",
      "Strain density energy: 2.60e+01\n"
     ]
    },
    {
     "data": {
      "text/plain": [
       "'Newton-Raphson step: 1,  F_u_ar: 1.39e-17, F_v_ar: 4.54e-07'"
      ]
     },
     "metadata": {},
     "output_type": "display_data"
    },
    {
     "name": "stdout",
     "output_type": "stream",
     "text": [
      "205\n",
      "Strain density energy: 2.98e+01\n"
     ]
    },
    {
     "data": {
      "text/plain": [
       "'Newton-Raphson step: 1,  F_u_ar: 1.39e-17, F_v_ar: 4.98e-07'"
      ]
     },
     "metadata": {},
     "output_type": "display_data"
    },
    {
     "name": "stdout",
     "output_type": "stream",
     "text": [
      "206\n",
      "Strain density energy: 3.12e+01\n"
     ]
    },
    {
     "data": {
      "text/plain": [
       "'Newton-Raphson step: 1,  F_u_ar: 1.39e-17, F_v_ar: 5.01e-07'"
      ]
     },
     "metadata": {},
     "output_type": "display_data"
    },
    {
     "name": "stdout",
     "output_type": "stream",
     "text": [
      "207\n",
      "Strain density energy: 3.02e+01\n"
     ]
    },
    {
     "data": {
      "text/plain": [
       "'Newton-Raphson step: 1,  F_u_ar: 1.39e-17, F_v_ar: 4.63e-07'"
      ]
     },
     "metadata": {},
     "output_type": "display_data"
    },
    {
     "name": "stdout",
     "output_type": "stream",
     "text": [
      "208\n",
      "Strain density energy: 2.70e+01\n"
     ]
    },
    {
     "data": {
      "text/plain": [
       "'Newton-Raphson step: 1,  F_u_ar: 1.39e-17, F_v_ar: 3.93e-07'"
      ]
     },
     "metadata": {},
     "output_type": "display_data"
    },
    {
     "name": "stdout",
     "output_type": "stream",
     "text": [
      "209\n",
      "Strain density energy: 2.21e+01\n"
     ]
    },
    {
     "data": {
      "text/plain": [
       "'Newton-Raphson step: 1,  F_u_ar: 1.39e-17, F_v_ar: 3.02e-07'"
      ]
     },
     "metadata": {},
     "output_type": "display_data"
    },
    {
     "name": "stdout",
     "output_type": "stream",
     "text": [
      "210\n",
      "Strain density energy: 1.64e+01\n"
     ]
    },
    {
     "data": {
      "text/plain": [
       "'Newton-Raphson step: 1,  F_u_ar: 1.39e-17, F_v_ar: 2.05e-07'"
      ]
     },
     "metadata": {},
     "output_type": "display_data"
    },
    {
     "name": "stdout",
     "output_type": "stream",
     "text": [
      "211\n",
      "Strain density energy: 1.07e+01\n"
     ]
    },
    {
     "data": {
      "text/plain": [
       "'Newton-Raphson step: 1,  F_u_ar: 1.39e-17, F_v_ar: 1.17e-07'"
      ]
     },
     "metadata": {},
     "output_type": "display_data"
    },
    {
     "name": "stdout",
     "output_type": "stream",
     "text": [
      "212\n",
      "Strain density energy: 5.68e+00\n"
     ]
    },
    {
     "data": {
      "text/plain": [
       "'Newton-Raphson step: 1,  F_u_ar: 1.38e-17, F_v_ar: 4.98e-08'"
      ]
     },
     "metadata": {},
     "output_type": "display_data"
    },
    {
     "name": "stdout",
     "output_type": "stream",
     "text": [
      "213\n",
      "Strain density energy: 2.09e+00\n"
     ]
    },
    {
     "data": {
      "text/plain": [
       "'Newton-Raphson step: 1,  F_u_ar: 1.39e-17, F_v_ar: 9.85e-09'"
      ]
     },
     "metadata": {},
     "output_type": "display_data"
    },
    {
     "name": "stdout",
     "output_type": "stream",
     "text": [
      "214\n",
      "Strain density energy: 2.42e-01\n"
     ]
    },
    {
     "data": {
      "text/plain": [
       "'Newton-Raphson step: 1,  F_u_ar: 1.39e-17, F_v_ar: 4.34e-09'"
      ]
     },
     "metadata": {},
     "output_type": "display_data"
    },
    {
     "name": "stdout",
     "output_type": "stream",
     "text": [
      "215\n",
      "Strain density energy: 2.20e-01\n"
     ]
    },
    {
     "data": {
      "text/plain": [
       "'Newton-Raphson step: 1,  F_u_ar: 1.38e-17, F_v_ar: 3.10e-08'"
      ]
     },
     "metadata": {},
     "output_type": "display_data"
    },
    {
     "name": "stdout",
     "output_type": "stream",
     "text": [
      "216\n",
      "Strain density energy: 1.82e+00\n"
     ]
    },
    {
     "data": {
      "text/plain": [
       "'Newton-Raphson step: 1,  F_u_ar: 1.39e-17, F_v_ar: 7.54e-08'"
      ]
     },
     "metadata": {},
     "output_type": "display_data"
    },
    {
     "name": "stdout",
     "output_type": "stream",
     "text": [
      "217\n",
      "Strain density energy: 4.61e+00\n"
     ]
    },
    {
     "data": {
      "text/plain": [
       "'Newton-Raphson step: 1,  F_u_ar: 1.39e-17, F_v_ar: 1.30e-07'"
      ]
     },
     "metadata": {},
     "output_type": "display_data"
    },
    {
     "name": "stdout",
     "output_type": "stream",
     "text": [
      "218\n",
      "Strain density energy: 8.03e+00\n"
     ]
    },
    {
     "data": {
      "text/plain": [
       "'Newton-Raphson step: 1,  F_u_ar: 1.39e-17, F_v_ar: 1.83e-07'"
      ]
     },
     "metadata": {},
     "output_type": "display_data"
    },
    {
     "name": "stdout",
     "output_type": "stream",
     "text": [
      "219\n",
      "Strain density energy: 1.14e+01\n"
     ]
    },
    {
     "data": {
      "text/plain": [
       "'Newton-Raphson step: 1,  F_u_ar: 1.39e-17, F_v_ar: 2.30e-07'"
      ]
     },
     "metadata": {},
     "output_type": "display_data"
    },
    {
     "name": "stdout",
     "output_type": "stream",
     "text": [
      "220\n",
      "Strain density energy: 1.43e+01\n"
     ]
    },
    {
     "data": {
      "text/plain": [
       "'Newton-Raphson step: 1,  F_u_ar: 1.39e-17, F_v_ar: 2.62e-07'"
      ]
     },
     "metadata": {},
     "output_type": "display_data"
    },
    {
     "name": "stdout",
     "output_type": "stream",
     "text": [
      "221\n",
      "Strain density energy: 1.61e+01\n"
     ]
    },
    {
     "data": {
      "text/plain": [
       "'Newton-Raphson step: 1,  F_u_ar: 1.39e-17, F_v_ar: 2.73e-07'"
      ]
     },
     "metadata": {},
     "output_type": "display_data"
    },
    {
     "name": "stdout",
     "output_type": "stream",
     "text": [
      "222\n",
      "Strain density energy: 1.67e+01\n"
     ]
    },
    {
     "data": {
      "text/plain": [
       "'Newton-Raphson step: 1,  F_u_ar: 1.39e-17, F_v_ar: 2.62e-07'"
      ]
     },
     "metadata": {},
     "output_type": "display_data"
    },
    {
     "name": "stdout",
     "output_type": "stream",
     "text": [
      "223\n",
      "Strain density energy: 1.60e+01\n"
     ]
    },
    {
     "data": {
      "text/plain": [
       "'Newton-Raphson step: 1,  F_u_ar: 1.39e-17, F_v_ar: 2.31e-07'"
      ]
     },
     "metadata": {},
     "output_type": "display_data"
    },
    {
     "name": "stdout",
     "output_type": "stream",
     "text": [
      "224\n",
      "Strain density energy: 1.41e+01\n"
     ]
    },
    {
     "data": {
      "text/plain": [
       "'Newton-Raphson step: 1,  F_u_ar: 1.39e-17, F_v_ar: 1.86e-07'"
      ]
     },
     "metadata": {},
     "output_type": "display_data"
    },
    {
     "name": "stdout",
     "output_type": "stream",
     "text": [
      "225\n",
      "Strain density energy: 1.14e+01\n"
     ]
    },
    {
     "data": {
      "text/plain": [
       "'Newton-Raphson step: 1,  F_u_ar: 1.39e-17, F_v_ar: 1.35e-07'"
      ]
     },
     "metadata": {},
     "output_type": "display_data"
    },
    {
     "name": "stdout",
     "output_type": "stream",
     "text": [
      "226\n",
      "Strain density energy: 8.30e+00\n"
     ]
    },
    {
     "data": {
      "text/plain": [
       "'Newton-Raphson step: 1,  F_u_ar: 1.39e-17, F_v_ar: 8.54e-08'"
      ]
     },
     "metadata": {},
     "output_type": "display_data"
    },
    {
     "name": "stdout",
     "output_type": "stream",
     "text": [
      "227\n",
      "Strain density energy: 5.27e+00\n"
     ]
    },
    {
     "data": {
      "text/plain": [
       "'Newton-Raphson step: 1,  F_u_ar: 1.39e-17, F_v_ar: 4.36e-08'"
      ]
     },
     "metadata": {},
     "output_type": "display_data"
    },
    {
     "name": "stdout",
     "output_type": "stream",
     "text": [
      "228\n",
      "Strain density energy: 2.70e+00\n"
     ]
    },
    {
     "data": {
      "text/plain": [
       "'Newton-Raphson step: 1,  F_u_ar: 1.39e-17, F_v_ar: 1.45e-08'"
      ]
     },
     "metadata": {},
     "output_type": "display_data"
    },
    {
     "name": "stdout",
     "output_type": "stream",
     "text": [
      "229\n",
      "Strain density energy: 9.09e-01\n"
     ]
    },
    {
     "data": {
      "text/plain": [
       "'Newton-Raphson step: 1,  F_u_ar: 1.39e-17, F_v_ar: 1.31e-09'"
      ]
     },
     "metadata": {},
     "output_type": "display_data"
    },
    {
     "name": "stdout",
     "output_type": "stream",
     "text": [
      "230\n",
      "Strain density energy: 6.83e-02\n"
     ]
    },
    {
     "data": {
      "text/plain": [
       "'Newton-Raphson step: 1,  F_u_ar: 1.39e-17, F_v_ar: 7.48e-09'"
      ]
     },
     "metadata": {},
     "output_type": "display_data"
    },
    {
     "name": "stdout",
     "output_type": "stream",
     "text": [
      "231\n",
      "Strain density energy: 1.95e-01\n"
     ]
    },
    {
     "data": {
      "text/plain": [
       "'Newton-Raphson step: 1,  F_u_ar: 1.39e-17, F_v_ar: 2.59e-08'"
      ]
     },
     "metadata": {},
     "output_type": "display_data"
    },
    {
     "name": "stdout",
     "output_type": "stream",
     "text": [
      "232\n",
      "Strain density energy: 1.16e+00\n"
     ]
    },
    {
     "data": {
      "text/plain": [
       "'Newton-Raphson step: 1,  F_u_ar: 1.38e-17, F_v_ar: 5.09e-08'"
      ]
     },
     "metadata": {},
     "output_type": "display_data"
    },
    {
     "name": "stdout",
     "output_type": "stream",
     "text": [
      "233\n",
      "Strain density energy: 2.72e+00\n"
     ]
    },
    {
     "data": {
      "text/plain": [
       "'Newton-Raphson step: 1,  F_u_ar: 1.39e-17, F_v_ar: 7.85e-08'"
      ]
     },
     "metadata": {},
     "output_type": "display_data"
    },
    {
     "name": "stdout",
     "output_type": "stream",
     "text": [
      "234\n",
      "Strain density energy: 4.57e+00\n"
     ]
    },
    {
     "data": {
      "text/plain": [
       "'Newton-Raphson step: 1,  F_u_ar: 1.39e-17, F_v_ar: 1.03e-07'"
      ]
     },
     "metadata": {},
     "output_type": "display_data"
    },
    {
     "name": "stdout",
     "output_type": "stream",
     "text": [
      "235\n",
      "Strain density energy: 6.36e+00\n"
     ]
    },
    {
     "data": {
      "text/plain": [
       "'Newton-Raphson step: 1,  F_u_ar: 1.38e-17, F_v_ar: 1.23e-07'"
      ]
     },
     "metadata": {},
     "output_type": "display_data"
    },
    {
     "name": "stdout",
     "output_type": "stream",
     "text": [
      "236\n",
      "Strain density energy: 7.81e+00\n"
     ]
    },
    {
     "data": {
      "text/plain": [
       "'Newton-Raphson step: 1,  F_u_ar: 1.39e-17, F_v_ar: 1.35e-07'"
      ]
     },
     "metadata": {},
     "output_type": "display_data"
    },
    {
     "name": "stdout",
     "output_type": "stream",
     "text": [
      "237\n",
      "Strain density energy: 8.70e+00\n"
     ]
    },
    {
     "data": {
      "text/plain": [
       "'Newton-Raphson step: 1,  F_u_ar: 1.39e-17, F_v_ar: 1.35e-07'"
      ]
     },
     "metadata": {},
     "output_type": "display_data"
    },
    {
     "name": "stdout",
     "output_type": "stream",
     "text": [
      "238\n",
      "Strain density energy: 8.90e+00\n"
     ]
    },
    {
     "data": {
      "text/plain": [
       "'Newton-Raphson step: 1,  F_u_ar: 1.39e-17, F_v_ar: 1.25e-07'"
      ]
     },
     "metadata": {},
     "output_type": "display_data"
    },
    {
     "name": "stdout",
     "output_type": "stream",
     "text": [
      "239\n",
      "Strain density energy: 8.41e+00\n"
     ]
    },
    {
     "data": {
      "text/plain": [
       "'Newton-Raphson step: 1,  F_u_ar: 1.39e-17, F_v_ar: 1.07e-07'"
      ]
     },
     "metadata": {},
     "output_type": "display_data"
    },
    {
     "name": "stdout",
     "output_type": "stream",
     "text": [
      "240\n",
      "Strain density energy: 7.33e+00\n"
     ]
    },
    {
     "data": {
      "text/plain": [
       "'Newton-Raphson step: 1,  F_u_ar: 1.39e-17, F_v_ar: 8.39e-08'"
      ]
     },
     "metadata": {},
     "output_type": "display_data"
    },
    {
     "name": "stdout",
     "output_type": "stream",
     "text": [
      "241\n",
      "Strain density energy: 5.84e+00\n"
     ]
    },
    {
     "data": {
      "text/plain": [
       "'Newton-Raphson step: 1,  F_u_ar: 1.39e-17, F_v_ar: 5.85e-08'"
      ]
     },
     "metadata": {},
     "output_type": "display_data"
    },
    {
     "name": "stdout",
     "output_type": "stream",
     "text": [
      "242\n",
      "Strain density energy: 4.18e+00\n"
     ]
    },
    {
     "data": {
      "text/plain": [
       "'Newton-Raphson step: 1,  F_u_ar: 1.39e-17, F_v_ar: 3.49e-08'"
      ]
     },
     "metadata": {},
     "output_type": "display_data"
    },
    {
     "name": "stdout",
     "output_type": "stream",
     "text": [
      "243\n",
      "Strain density energy: 2.59e+00\n"
     ]
    },
    {
     "data": {
      "text/plain": [
       "'Newton-Raphson step: 1,  F_u_ar: 1.39e-17, F_v_ar: 1.61e-08'"
      ]
     },
     "metadata": {},
     "output_type": "display_data"
    },
    {
     "name": "stdout",
     "output_type": "stream",
     "text": [
      "244\n",
      "Strain density energy: 1.27e+00\n"
     ]
    },
    {
     "data": {
      "text/plain": [
       "'Newton-Raphson step: 1,  F_u_ar: 1.39e-17, F_v_ar: 4.23e-09'"
      ]
     },
     "metadata": {},
     "output_type": "display_data"
    },
    {
     "name": "stdout",
     "output_type": "stream",
     "text": [
      "245\n",
      "Strain density energy: 3.87e-01\n"
     ]
    },
    {
     "data": {
      "text/plain": [
       "'Newton-Raphson step: 1,  F_u_ar: 1.39e-17, F_v_ar: 1.50e-09'"
      ]
     },
     "metadata": {},
     "output_type": "display_data"
    },
    {
     "name": "stdout",
     "output_type": "stream",
     "text": [
      "246\n",
      "Strain density energy: 1.69e-02\n"
     ]
    },
    {
     "data": {
      "text/plain": [
       "'Newton-Raphson step: 1,  F_u_ar: 1.39e-17, F_v_ar: 6.19e-09'"
      ]
     },
     "metadata": {},
     "output_type": "display_data"
    },
    {
     "name": "stdout",
     "output_type": "stream",
     "text": [
      "247\n",
      "Strain density energy: 1.57e-01\n"
     ]
    },
    {
     "data": {
      "text/plain": [
       "'Newton-Raphson step: 1,  F_u_ar: 1.39e-17, F_v_ar: 1.63e-08'"
      ]
     },
     "metadata": {},
     "output_type": "display_data"
    },
    {
     "name": "stdout",
     "output_type": "stream",
     "text": [
      "248\n",
      "Strain density energy: 7.29e-01\n"
     ]
    },
    {
     "data": {
      "text/plain": [
       "'Newton-Raphson step: 1,  F_u_ar: 1.39e-17, F_v_ar: 2.89e-08'"
      ]
     },
     "metadata": {},
     "output_type": "display_data"
    },
    {
     "name": "stdout",
     "output_type": "stream",
     "text": [
      "249\n",
      "Strain density energy: 1.60e+00\n"
     ]
    },
    {
     "data": {
      "text/plain": [
       "'Newton-Raphson step: 1,  F_u_ar: 1.39e-17, F_v_ar: 4.18e-08'"
      ]
     },
     "metadata": {},
     "output_type": "display_data"
    },
    {
     "name": "stdout",
     "output_type": "stream",
     "text": [
      "250\n",
      "Strain density energy: 2.59e+00\n"
     ]
    },
    {
     "data": {
      "text/plain": [
       "'Newton-Raphson step: 1,  F_u_ar: 1.39e-17, F_v_ar: 5.26e-08'"
      ]
     },
     "metadata": {},
     "output_type": "display_data"
    },
    {
     "name": "stdout",
     "output_type": "stream",
     "text": [
      "251\n",
      "Strain density energy: 3.53e+00\n"
     ]
    },
    {
     "data": {
      "text/plain": [
       "'Newton-Raphson step: 1,  F_u_ar: 1.39e-17, F_v_ar: 6.13e-08'"
      ]
     },
     "metadata": {},
     "output_type": "display_data"
    },
    {
     "name": "stdout",
     "output_type": "stream",
     "text": [
      "252\n",
      "Strain density energy: 4.26e+00\n"
     ]
    },
    {
     "data": {
      "text/plain": [
       "'Newton-Raphson step: 1,  F_u_ar: 1.38e-17, F_v_ar: 6.54e-08'"
      ]
     },
     "metadata": {},
     "output_type": "display_data"
    },
    {
     "name": "stdout",
     "output_type": "stream",
     "text": [
      "253\n",
      "Strain density energy: 4.68e+00\n"
     ]
    },
    {
     "data": {
      "text/plain": [
       "'Newton-Raphson step: 1,  F_u_ar: 1.39e-17, F_v_ar: 6.46e-08'"
      ]
     },
     "metadata": {},
     "output_type": "display_data"
    },
    {
     "name": "stdout",
     "output_type": "stream",
     "text": [
      "254\n",
      "Strain density energy: 4.74e+00\n"
     ]
    },
    {
     "data": {
      "text/plain": [
       "'Newton-Raphson step: 1,  F_u_ar: 1.39e-17, F_v_ar: 5.92e-08'"
      ]
     },
     "metadata": {},
     "output_type": "display_data"
    },
    {
     "name": "stdout",
     "output_type": "stream",
     "text": [
      "255\n",
      "Strain density energy: 4.42e+00\n"
     ]
    },
    {
     "data": {
      "text/plain": [
       "'Newton-Raphson step: 1,  F_u_ar: 1.39e-17, F_v_ar: 4.99e-08'"
      ]
     },
     "metadata": {},
     "output_type": "display_data"
    },
    {
     "name": "stdout",
     "output_type": "stream",
     "text": [
      "256\n",
      "Strain density energy: 3.81e+00\n"
     ]
    },
    {
     "data": {
      "text/plain": [
       "'Newton-Raphson step: 1,  F_u_ar: 1.39e-17, F_v_ar: 3.83e-08'"
      ]
     },
     "metadata": {},
     "output_type": "display_data"
    },
    {
     "name": "stdout",
     "output_type": "stream",
     "text": [
      "257\n",
      "Strain density energy: 3.00e+00\n"
     ]
    },
    {
     "data": {
      "text/plain": [
       "'Newton-Raphson step: 1,  F_u_ar: 1.39e-17, F_v_ar: 2.62e-08'"
      ]
     },
     "metadata": {},
     "output_type": "display_data"
    },
    {
     "name": "stdout",
     "output_type": "stream",
     "text": [
      "258\n",
      "Strain density energy: 2.11e+00\n"
     ]
    },
    {
     "data": {
      "text/plain": [
       "'Newton-Raphson step: 1,  F_u_ar: 1.39e-17, F_v_ar: 1.53e-08'"
      ]
     },
     "metadata": {},
     "output_type": "display_data"
    },
    {
     "name": "stdout",
     "output_type": "stream",
     "text": [
      "259\n",
      "Strain density energy: 1.27e+00\n"
     ]
    },
    {
     "data": {
      "text/plain": [
       "'Newton-Raphson step: 1,  F_u_ar: 1.39e-17, F_v_ar: 6.73e-09'"
      ]
     },
     "metadata": {},
     "output_type": "display_data"
    },
    {
     "name": "stdout",
     "output_type": "stream",
     "text": [
      "260\n",
      "Strain density energy: 5.95e-01\n"
     ]
    },
    {
     "data": {
      "text/plain": [
       "'Newton-Raphson step: 1,  F_u_ar: 1.39e-17, F_v_ar: 1.55e-09'"
      ]
     },
     "metadata": {},
     "output_type": "display_data"
    },
    {
     "name": "stdout",
     "output_type": "stream",
     "text": [
      "261\n",
      "Strain density energy: 1.61e-01\n"
     ]
    },
    {
     "data": {
      "text/plain": [
       "'Newton-Raphson step: 1,  F_u_ar: 1.38e-17, F_v_ar: 7.56e-10'"
      ]
     },
     "metadata": {},
     "output_type": "display_data"
    },
    {
     "name": "stdout",
     "output_type": "stream",
     "text": [
      "262\n",
      "Strain density energy: 3.44e-03\n"
     ]
    },
    {
     "data": {
      "text/plain": [
       "'Newton-Raphson step: 1,  F_u_ar: 1.39e-17, F_v_ar: 3.53e-09'"
      ]
     },
     "metadata": {},
     "output_type": "display_data"
    },
    {
     "name": "stdout",
     "output_type": "stream",
     "text": [
      "263\n",
      "Strain density energy: 1.15e-01\n"
     ]
    },
    {
     "data": {
      "text/plain": [
       "'Newton-Raphson step: 1,  F_u_ar: 1.38e-17, F_v_ar: 8.47e-09'"
      ]
     },
     "metadata": {},
     "output_type": "display_data"
    },
    {
     "name": "stdout",
     "output_type": "stream",
     "text": [
      "264\n",
      "Strain density energy: 4.48e-01\n"
     ]
    },
    {
     "data": {
      "text/plain": [
       "'Newton-Raphson step: 1,  F_u_ar: 1.39e-17, F_v_ar: 1.45e-08'"
      ]
     },
     "metadata": {},
     "output_type": "display_data"
    },
    {
     "name": "stdout",
     "output_type": "stream",
     "text": [
      "265\n",
      "Strain density energy: 9.27e-01\n"
     ]
    },
    {
     "data": {
      "text/plain": [
       "'Newton-Raphson step: 1,  F_u_ar: 1.39e-17, F_v_ar: 2.05e-08'"
      ]
     },
     "metadata": {},
     "output_type": "display_data"
    },
    {
     "name": "stdout",
     "output_type": "stream",
     "text": [
      "266\n",
      "Strain density energy: 1.46e+00\n"
     ]
    },
    {
     "data": {
      "text/plain": [
       "'Newton-Raphson step: 1,  F_u_ar: 1.39e-17, F_v_ar: 2.55e-08'"
      ]
     },
     "metadata": {},
     "output_type": "display_data"
    },
    {
     "name": "stdout",
     "output_type": "stream",
     "text": [
      "267\n",
      "Strain density energy: 1.95e+00\n"
     ]
    },
    {
     "data": {
      "text/plain": [
       "'Newton-Raphson step: 1,  F_u_ar: 1.39e-17, F_v_ar: 2.97e-08'"
      ]
     },
     "metadata": {},
     "output_type": "display_data"
    },
    {
     "name": "stdout",
     "output_type": "stream",
     "text": [
      "268\n",
      "Strain density energy: 2.32e+00\n"
     ]
    },
    {
     "data": {
      "text/plain": [
       "'Newton-Raphson step: 1,  F_u_ar: 1.39e-17, F_v_ar: 3.18e-08'"
      ]
     },
     "metadata": {},
     "output_type": "display_data"
    },
    {
     "name": "stdout",
     "output_type": "stream",
     "text": [
      "269\n",
      "Strain density energy: 2.52e+00\n"
     ]
    },
    {
     "data": {
      "text/plain": [
       "'Newton-Raphson step: 1,  F_u_ar: 1.39e-17, F_v_ar: 3.15e-08'"
      ]
     },
     "metadata": {},
     "output_type": "display_data"
    },
    {
     "name": "stdout",
     "output_type": "stream",
     "text": [
      "270\n",
      "Strain density energy: 2.52e+00\n"
     ]
    },
    {
     "data": {
      "text/plain": [
       "'Newton-Raphson step: 1,  F_u_ar: 1.39e-17, F_v_ar: 2.89e-08'"
      ]
     },
     "metadata": {},
     "output_type": "display_data"
    },
    {
     "name": "stdout",
     "output_type": "stream",
     "text": [
      "271\n",
      "Strain density energy: 2.32e+00\n"
     ]
    },
    {
     "data": {
      "text/plain": [
       "'Newton-Raphson step: 1,  F_u_ar: 1.39e-17, F_v_ar: 2.44e-08'"
      ]
     },
     "metadata": {},
     "output_type": "display_data"
    },
    {
     "name": "stdout",
     "output_type": "stream",
     "text": [
      "272\n",
      "Strain density energy: 1.98e+00\n"
     ]
    },
    {
     "data": {
      "text/plain": [
       "'Newton-Raphson step: 1,  F_u_ar: 1.39e-17, F_v_ar: 1.88e-08'"
      ]
     },
     "metadata": {},
     "output_type": "display_data"
    },
    {
     "name": "stdout",
     "output_type": "stream",
     "text": [
      "273\n",
      "Strain density energy: 1.53e+00\n"
     ]
    },
    {
     "data": {
      "text/plain": [
       "'Newton-Raphson step: 1,  F_u_ar: 1.39e-17, F_v_ar: 1.30e-08'"
      ]
     },
     "metadata": {},
     "output_type": "display_data"
    },
    {
     "name": "stdout",
     "output_type": "stream",
     "text": [
      "274\n",
      "Strain density energy: 1.06e+00\n"
     ]
    },
    {
     "data": {
      "text/plain": [
       "'Newton-Raphson step: 1,  F_u_ar: 1.39e-17, F_v_ar: 7.62e-09'"
      ]
     },
     "metadata": {},
     "output_type": "display_data"
    },
    {
     "name": "stdout",
     "output_type": "stream",
     "text": [
      "275\n",
      "Strain density energy: 6.18e-01\n"
     ]
    },
    {
     "data": {
      "text/plain": [
       "'Newton-Raphson step: 1,  F_u_ar: 1.39e-17, F_v_ar: 3.42e-09'"
      ]
     },
     "metadata": {},
     "output_type": "display_data"
    },
    {
     "name": "stdout",
     "output_type": "stream",
     "text": [
      "276\n",
      "Strain density energy: 2.74e-01\n"
     ]
    },
    {
     "data": {
      "text/plain": [
       "'Newton-Raphson step: 1,  F_u_ar: 1.39e-17, F_v_ar: 8.23e-10'"
      ]
     },
     "metadata": {},
     "output_type": "display_data"
    },
    {
     "name": "stdout",
     "output_type": "stream",
     "text": [
      "277\n",
      "Strain density energy: 6.35e-02\n"
     ]
    },
    {
     "data": {
      "text/plain": [
       "'Newton-Raphson step: 1,  F_u_ar: 1.39e-17, F_v_ar: 2.66e-10'"
      ]
     },
     "metadata": {},
     "output_type": "display_data"
    },
    {
     "name": "stdout",
     "output_type": "stream",
     "text": [
      "278\n",
      "Strain density energy: 1.51e-03\n"
     ]
    },
    {
     "data": {
      "text/plain": [
       "'Newton-Raphson step: 1,  F_u_ar: 1.39e-17, F_v_ar: 1.70e-09'"
      ]
     },
     "metadata": {},
     "output_type": "display_data"
    },
    {
     "name": "stdout",
     "output_type": "stream",
     "text": [
      "279\n",
      "Strain density energy: 8.08e-02\n"
     ]
    },
    {
     "data": {
      "text/plain": [
       "'Newton-Raphson step: 1,  F_u_ar: 1.39e-17, F_v_ar: 4.10e-09'"
      ]
     },
     "metadata": {},
     "output_type": "display_data"
    },
    {
     "name": "stdout",
     "output_type": "stream",
     "text": [
      "280\n",
      "Strain density energy: 2.73e-01\n"
     ]
    },
    {
     "data": {
      "text/plain": [
       "'Newton-Raphson step: 1,  F_u_ar: 1.39e-17, F_v_ar: 7.05e-09'"
      ]
     },
     "metadata": {},
     "output_type": "display_data"
    },
    {
     "name": "stdout",
     "output_type": "stream",
     "text": [
      "281\n",
      "Strain density energy: 5.37e-01\n"
     ]
    },
    {
     "data": {
      "text/plain": [
       "'Newton-Raphson step: 1,  F_u_ar: 1.38e-17, F_v_ar: 1.01e-08'"
      ]
     },
     "metadata": {},
     "output_type": "display_data"
    },
    {
     "name": "stdout",
     "output_type": "stream",
     "text": [
      "282\n",
      "Strain density energy: 8.21e-01\n"
     ]
    },
    {
     "data": {
      "text/plain": [
       "'Newton-Raphson step: 1,  F_u_ar: 1.39e-17, F_v_ar: 1.27e-08'"
      ]
     },
     "metadata": {},
     "output_type": "display_data"
    },
    {
     "name": "stdout",
     "output_type": "stream",
     "text": [
      "283\n",
      "Strain density energy: 1.08e+00\n"
     ]
    },
    {
     "data": {
      "text/plain": [
       "'Newton-Raphson step: 1,  F_u_ar: 1.39e-17, F_v_ar: 1.50e-08'"
      ]
     },
     "metadata": {},
     "output_type": "display_data"
    },
    {
     "name": "stdout",
     "output_type": "stream",
     "text": [
      "284\n",
      "Strain density energy: 1.26e+00\n"
     ]
    },
    {
     "data": {
      "text/plain": [
       "'Newton-Raphson step: 1,  F_u_ar: 1.39e-17, F_v_ar: 1.62e-08'"
      ]
     },
     "metadata": {},
     "output_type": "display_data"
    },
    {
     "name": "stdout",
     "output_type": "stream",
     "text": [
      "285\n",
      "Strain density energy: 1.35e+00\n"
     ]
    },
    {
     "data": {
      "text/plain": [
       "'Newton-Raphson step: 1,  F_u_ar: 1.39e-17, F_v_ar: 1.62e-08'"
      ]
     },
     "metadata": {},
     "output_type": "display_data"
    },
    {
     "name": "stdout",
     "output_type": "stream",
     "text": [
      "286\n",
      "Strain density energy: 1.34e+00\n"
     ]
    },
    {
     "data": {
      "text/plain": [
       "'Newton-Raphson step: 1,  F_u_ar: 1.39e-17, F_v_ar: 1.50e-08'"
      ]
     },
     "metadata": {},
     "output_type": "display_data"
    },
    {
     "name": "stdout",
     "output_type": "stream",
     "text": [
      "287\n",
      "Strain density energy: 1.22e+00\n"
     ]
    },
    {
     "data": {
      "text/plain": [
       "'Newton-Raphson step: 1,  F_u_ar: 1.39e-17, F_v_ar: 1.28e-08'"
      ]
     },
     "metadata": {},
     "output_type": "display_data"
    },
    {
     "name": "stdout",
     "output_type": "stream",
     "text": [
      "288\n",
      "Strain density energy: 1.02e+00\n"
     ]
    },
    {
     "data": {
      "text/plain": [
       "'Newton-Raphson step: 1,  F_u_ar: 1.39e-17, F_v_ar: 1.00e-08'"
      ]
     },
     "metadata": {},
     "output_type": "display_data"
    },
    {
     "name": "stdout",
     "output_type": "stream",
     "text": [
      "289\n",
      "Strain density energy: 7.81e-01\n"
     ]
    },
    {
     "data": {
      "text/plain": [
       "'Newton-Raphson step: 1,  F_u_ar: 1.39e-17, F_v_ar: 7.00e-09'"
      ]
     },
     "metadata": {},
     "output_type": "display_data"
    },
    {
     "name": "stdout",
     "output_type": "stream",
     "text": [
      "290\n",
      "Strain density energy: 5.28e-01\n"
     ]
    },
    {
     "data": {
      "text/plain": [
       "'Newton-Raphson step: 1,  F_u_ar: 1.39e-17, F_v_ar: 4.19e-09'"
      ]
     },
     "metadata": {},
     "output_type": "display_data"
    },
    {
     "name": "stdout",
     "output_type": "stream",
     "text": [
      "291\n",
      "Strain density energy: 2.99e-01\n"
     ]
    },
    {
     "data": {
      "text/plain": [
       "'Newton-Raphson step: 1,  F_u_ar: 1.39e-17, F_v_ar: 1.94e-09'"
      ]
     },
     "metadata": {},
     "output_type": "display_data"
    },
    {
     "name": "stdout",
     "output_type": "stream",
     "text": [
      "292\n",
      "Strain density energy: 1.25e-01\n"
     ]
    },
    {
     "data": {
      "text/plain": [
       "'Newton-Raphson step: 1,  F_u_ar: 1.39e-17, F_v_ar: 5.10e-10'"
      ]
     },
     "metadata": {},
     "output_type": "display_data"
    },
    {
     "name": "stdout",
     "output_type": "stream",
     "text": [
      "293\n",
      "Strain density energy: 2.39e-02\n"
     ]
    },
    {
     "data": {
      "text/plain": [
       "'Newton-Raphson step: 1,  F_u_ar: 1.39e-17, F_v_ar: 1.01e-10'"
      ]
     },
     "metadata": {},
     "output_type": "display_data"
    },
    {
     "name": "stdout",
     "output_type": "stream",
     "text": [
      "294\n",
      "Strain density energy: 2.48e-03\n"
     ]
    },
    {
     "data": {
      "text/plain": [
       "'Newton-Raphson step: 1,  F_u_ar: 1.39e-17, F_v_ar: 8.13e-10'"
      ]
     },
     "metadata": {},
     "output_type": "display_data"
    },
    {
     "name": "stdout",
     "output_type": "stream",
     "text": [
      "295\n",
      "Strain density energy: 5.50e-02\n"
     ]
    },
    {
     "data": {
      "text/plain": [
       "'Newton-Raphson step: 1,  F_u_ar: 1.39e-17, F_v_ar: 2.05e-09'"
      ]
     },
     "metadata": {},
     "output_type": "display_data"
    },
    {
     "name": "stdout",
     "output_type": "stream",
     "text": [
      "296\n",
      "Strain density energy: 1.65e-01\n"
     ]
    },
    {
     "data": {
      "text/plain": [
       "'Newton-Raphson step: 1,  F_u_ar: 1.39e-17, F_v_ar: 3.59e-09'"
      ]
     },
     "metadata": {},
     "output_type": "display_data"
    },
    {
     "name": "stdout",
     "output_type": "stream",
     "text": [
      "297\n",
      "Strain density energy: 3.09e-01\n"
     ]
    },
    {
     "data": {
      "text/plain": [
       "'Newton-Raphson step: 1,  F_u_ar: 1.39e-17, F_v_ar: 5.20e-09'"
      ]
     },
     "metadata": {},
     "output_type": "display_data"
    },
    {
     "name": "stdout",
     "output_type": "stream",
     "text": [
      "298\n",
      "Strain density energy: 4.60e-01\n"
     ]
    },
    {
     "data": {
      "text/plain": [
       "'Newton-Raphson step: 1,  F_u_ar: 1.39e-17, F_v_ar: 6.78e-09'"
      ]
     },
     "metadata": {},
     "output_type": "display_data"
    },
    {
     "name": "stdout",
     "output_type": "stream",
     "text": [
      "299\n",
      "Strain density energy: 5.93e-01\n"
     ]
    },
    {
     "data": {
      "text/plain": [
       "'Newton-Raphson step: 1,  F_u_ar: 1.39e-17, F_v_ar: 8.04e-09'"
      ]
     },
     "metadata": {},
     "output_type": "display_data"
    },
    {
     "name": "stdout",
     "output_type": "stream",
     "text": [
      "300\n",
      "Strain density energy: 6.85e-01\n"
     ]
    },
    {
     "data": {
      "text/plain": [
       "'Newton-Raphson step: 1,  F_u_ar: 1.39e-17, F_v_ar: 8.78e-09'"
      ]
     },
     "metadata": {},
     "output_type": "display_data"
    },
    {
     "name": "stdout",
     "output_type": "stream",
     "text": [
      "301\n",
      "Strain density energy: 7.25e-01\n"
     ]
    },
    {
     "data": {
      "text/plain": [
       "'Newton-Raphson step: 1,  F_u_ar: 1.39e-17, F_v_ar: 8.84e-09'"
      ]
     },
     "metadata": {},
     "output_type": "display_data"
    },
    {
     "name": "stdout",
     "output_type": "stream",
     "text": [
      "302\n",
      "Strain density energy: 7.08e-01\n"
     ]
    },
    {
     "data": {
      "text/plain": [
       "'Newton-Raphson step: 1,  F_u_ar: 1.39e-17, F_v_ar: 8.24e-09'"
      ]
     },
     "metadata": {},
     "output_type": "display_data"
    },
    {
     "name": "stdout",
     "output_type": "stream",
     "text": [
      "303\n",
      "Strain density energy: 6.38e-01\n"
     ]
    },
    {
     "data": {
      "text/plain": [
       "'Newton-Raphson step: 1,  F_u_ar: 1.39e-17, F_v_ar: 7.08e-09'"
      ]
     },
     "metadata": {},
     "output_type": "display_data"
    },
    {
     "name": "stdout",
     "output_type": "stream",
     "text": [
      "304\n",
      "Strain density energy: 5.29e-01\n"
     ]
    },
    {
     "data": {
      "text/plain": [
       "'Newton-Raphson step: 1,  F_u_ar: 1.38e-17, F_v_ar: 5.56e-09'"
      ]
     },
     "metadata": {},
     "output_type": "display_data"
    },
    {
     "name": "stdout",
     "output_type": "stream",
     "text": [
      "305\n",
      "Strain density energy: 3.97e-01\n"
     ]
    },
    {
     "data": {
      "text/plain": [
       "'Newton-Raphson step: 1,  F_u_ar: 1.39e-17, F_v_ar: 3.91e-09'"
      ]
     },
     "metadata": {},
     "output_type": "display_data"
    },
    {
     "name": "stdout",
     "output_type": "stream",
     "text": [
      "306\n",
      "Strain density energy: 2.63e-01\n"
     ]
    },
    {
     "data": {
      "text/plain": [
       "'Newton-Raphson step: 1,  F_u_ar: 1.39e-17, F_v_ar: 2.35e-09'"
      ]
     },
     "metadata": {},
     "output_type": "display_data"
    },
    {
     "name": "stdout",
     "output_type": "stream",
     "text": [
      "307\n",
      "Strain density energy: 1.44e-01\n"
     ]
    },
    {
     "data": {
      "text/plain": [
       "'Newton-Raphson step: 1,  F_u_ar: 1.39e-17, F_v_ar: 1.09e-09'"
      ]
     },
     "metadata": {},
     "output_type": "display_data"
    },
    {
     "name": "stdout",
     "output_type": "stream",
     "text": [
      "308\n",
      "Strain density energy: 5.62e-02\n"
     ]
    },
    {
     "data": {
      "text/plain": [
       "'Newton-Raphson step: 1,  F_u_ar: 1.39e-17, F_v_ar: 2.87e-10'"
      ]
     },
     "metadata": {},
     "output_type": "display_data"
    },
    {
     "name": "stdout",
     "output_type": "stream",
     "text": [
      "309\n",
      "Strain density energy: 8.46e-03\n"
     ]
    },
    {
     "data": {
      "text/plain": [
       "'Newton-Raphson step: 1,  F_u_ar: 1.39e-17, F_v_ar: 5.80e-11'"
      ]
     },
     "metadata": {},
     "output_type": "display_data"
    },
    {
     "name": "stdout",
     "output_type": "stream",
     "text": [
      "310\n",
      "Strain density energy: 3.21e-03\n"
     ]
    },
    {
     "data": {
      "text/plain": [
       "'Newton-Raphson step: 1,  F_u_ar: 1.39e-17, F_v_ar: 4.44e-10'"
      ]
     },
     "metadata": {},
     "output_type": "display_data"
    },
    {
     "name": "stdout",
     "output_type": "stream",
     "text": [
      "311\n",
      "Strain density energy: 3.65e-02\n"
     ]
    },
    {
     "data": {
      "text/plain": [
       "'Newton-Raphson step: 1,  F_u_ar: 1.39e-17, F_v_ar: 1.13e-09'"
      ]
     },
     "metadata": {},
     "output_type": "display_data"
    },
    {
     "name": "stdout",
     "output_type": "stream",
     "text": [
      "312\n",
      "Strain density energy: 9.88e-02\n"
     ]
    },
    {
     "data": {
      "text/plain": [
       "'Newton-Raphson step: 1,  F_u_ar: 1.39e-17, F_v_ar: 2.00e-09'"
      ]
     },
     "metadata": {},
     "output_type": "display_data"
    },
    {
     "name": "stdout",
     "output_type": "stream",
     "text": [
      "313\n",
      "Strain density energy: 1.77e-01\n"
     ]
    },
    {
     "data": {
      "text/plain": [
       "'Newton-Raphson step: 1,  F_u_ar: 1.38e-17, F_v_ar: 2.91e-09'"
      ]
     },
     "metadata": {},
     "output_type": "display_data"
    },
    {
     "name": "stdout",
     "output_type": "stream",
     "text": [
      "314\n",
      "Strain density energy: 2.57e-01\n"
     ]
    },
    {
     "data": {
      "text/plain": [
       "'Newton-Raphson step: 1,  F_u_ar: 1.39e-17, F_v_ar: 3.85e-09'"
      ]
     },
     "metadata": {},
     "output_type": "display_data"
    },
    {
     "name": "stdout",
     "output_type": "stream",
     "text": [
      "315\n",
      "Strain density energy: 3.26e-01\n"
     ]
    },
    {
     "data": {
      "text/plain": [
       "'Newton-Raphson step: 1,  F_u_ar: 1.39e-17, F_v_ar: 4.56e-09'"
      ]
     },
     "metadata": {},
     "output_type": "display_data"
    },
    {
     "name": "stdout",
     "output_type": "stream",
     "text": [
      "316\n",
      "Strain density energy: 3.71e-01\n"
     ]
    },
    {
     "data": {
      "text/plain": [
       "'Newton-Raphson step: 1,  F_u_ar: 1.38e-17, F_v_ar: 4.97e-09'"
      ]
     },
     "metadata": {},
     "output_type": "display_data"
    },
    {
     "name": "stdout",
     "output_type": "stream",
     "text": [
      "317\n",
      "Strain density energy: 3.88e-01\n"
     ]
    },
    {
     "data": {
      "text/plain": [
       "'Newton-Raphson step: 1,  F_u_ar: 1.39e-17, F_v_ar: 4.98e-09'"
      ]
     },
     "metadata": {},
     "output_type": "display_data"
    },
    {
     "name": "stdout",
     "output_type": "stream",
     "text": [
      "318\n",
      "Strain density energy: 3.74e-01\n"
     ]
    },
    {
     "data": {
      "text/plain": [
       "'Newton-Raphson step: 1,  F_u_ar: 1.39e-17, F_v_ar: 4.62e-09'"
      ]
     },
     "metadata": {},
     "output_type": "display_data"
    },
    {
     "name": "stdout",
     "output_type": "stream",
     "text": [
      "319\n",
      "Strain density energy: 3.34e-01\n"
     ]
    },
    {
     "data": {
      "text/plain": [
       "'Newton-Raphson step: 1,  F_u_ar: 1.39e-17, F_v_ar: 3.94e-09'"
      ]
     },
     "metadata": {},
     "output_type": "display_data"
    },
    {
     "name": "stdout",
     "output_type": "stream",
     "text": [
      "320\n",
      "Strain density energy: 2.73e-01\n"
     ]
    },
    {
     "data": {
      "text/plain": [
       "'Newton-Raphson step: 1,  F_u_ar: 1.39e-17, F_v_ar: 3.07e-09'"
      ]
     },
     "metadata": {},
     "output_type": "display_data"
    },
    {
     "name": "stdout",
     "output_type": "stream",
     "text": [
      "321\n",
      "Strain density energy: 2.01e-01\n"
     ]
    },
    {
     "data": {
      "text/plain": [
       "'Newton-Raphson step: 1,  F_u_ar: 1.39e-17, F_v_ar: 2.12e-09'"
      ]
     },
     "metadata": {},
     "output_type": "display_data"
    },
    {
     "name": "stdout",
     "output_type": "stream",
     "text": [
      "322\n",
      "Strain density energy: 1.30e-01\n"
     ]
    },
    {
     "data": {
      "text/plain": [
       "'Newton-Raphson step: 1,  F_u_ar: 1.39e-17, F_v_ar: 1.25e-09'"
      ]
     },
     "metadata": {},
     "output_type": "display_data"
    },
    {
     "name": "stdout",
     "output_type": "stream",
     "text": [
      "323\n",
      "Strain density energy: 6.89e-02\n"
     ]
    },
    {
     "data": {
      "text/plain": [
       "'Newton-Raphson step: 1,  F_u_ar: 1.39e-17, F_v_ar: 5.55e-10'"
      ]
     },
     "metadata": {},
     "output_type": "display_data"
    },
    {
     "name": "stdout",
     "output_type": "stream",
     "text": [
      "324\n",
      "Strain density energy: 2.49e-02\n"
     ]
    },
    {
     "data": {
      "text/plain": [
       "'Newton-Raphson step: 1,  F_u_ar: 1.39e-17, F_v_ar: 1.28e-10'"
      ]
     },
     "metadata": {},
     "output_type": "display_data"
    },
    {
     "name": "stdout",
     "output_type": "stream",
     "text": [
      "325\n",
      "Strain density energy: 2.72e-03\n"
     ]
    },
    {
     "data": {
      "text/plain": [
       "'Newton-Raphson step: 1,  F_u_ar: 1.38e-17, F_v_ar: 4.44e-11'"
      ]
     },
     "metadata": {},
     "output_type": "display_data"
    },
    {
     "name": "stdout",
     "output_type": "stream",
     "text": [
      "326\n",
      "Strain density energy: 3.14e-03\n"
     ]
    },
    {
     "data": {
      "text/plain": [
       "'Newton-Raphson step: 1,  F_u_ar: 1.39e-17, F_v_ar: 2.84e-10'"
      ]
     },
     "metadata": {},
     "output_type": "display_data"
    },
    {
     "name": "stdout",
     "output_type": "stream",
     "text": [
      "327\n",
      "Strain density energy: 2.36e-02\n"
     ]
    },
    {
     "data": {
      "text/plain": [
       "'Newton-Raphson step: 1,  F_u_ar: 1.39e-17, F_v_ar: 6.93e-10'"
      ]
     },
     "metadata": {},
     "output_type": "display_data"
    },
    {
     "name": "stdout",
     "output_type": "stream",
     "text": [
      "328\n",
      "Strain density energy: 5.86e-02\n"
     ]
    },
    {
     "data": {
      "text/plain": [
       "'Newton-Raphson step: 1,  F_u_ar: 1.39e-17, F_v_ar: 1.20e-09'"
      ]
     },
     "metadata": {},
     "output_type": "display_data"
    },
    {
     "name": "stdout",
     "output_type": "stream",
     "text": [
      "329\n",
      "Strain density energy: 1.01e-01\n"
     ]
    },
    {
     "data": {
      "text/plain": [
       "'Newton-Raphson step: 1,  F_u_ar: 1.38e-17, F_v_ar: 1.72e-09'"
      ]
     },
     "metadata": {},
     "output_type": "display_data"
    },
    {
     "name": "stdout",
     "output_type": "stream",
     "text": [
      "330\n",
      "Strain density energy: 1.43e-01\n"
     ]
    },
    {
     "data": {
      "text/plain": [
       "'Newton-Raphson step: 1,  F_u_ar: 1.38e-17, F_v_ar: 2.25e-09'"
      ]
     },
     "metadata": {},
     "output_type": "display_data"
    },
    {
     "name": "stdout",
     "output_type": "stream",
     "text": [
      "331\n",
      "Strain density energy: 1.78e-01\n"
     ]
    },
    {
     "data": {
      "text/plain": [
       "'Newton-Raphson step: 1,  F_u_ar: 1.39e-17, F_v_ar: 2.64e-09'"
      ]
     },
     "metadata": {},
     "output_type": "display_data"
    },
    {
     "name": "stdout",
     "output_type": "stream",
     "text": [
      "332\n",
      "Strain density energy: 2.01e-01\n"
     ]
    },
    {
     "data": {
      "text/plain": [
       "'Newton-Raphson step: 1,  F_u_ar: 1.39e-17, F_v_ar: 2.83e-09'"
      ]
     },
     "metadata": {},
     "output_type": "display_data"
    },
    {
     "name": "stdout",
     "output_type": "stream",
     "text": [
      "333\n",
      "Strain density energy: 2.07e-01\n"
     ]
    },
    {
     "data": {
      "text/plain": [
       "'Newton-Raphson step: 1,  F_u_ar: 1.39e-17, F_v_ar: 2.80e-09'"
      ]
     },
     "metadata": {},
     "output_type": "display_data"
    },
    {
     "name": "stdout",
     "output_type": "stream",
     "text": [
      "334\n",
      "Strain density energy: 1.98e-01\n"
     ]
    },
    {
     "data": {
      "text/plain": [
       "'Newton-Raphson step: 1,  F_u_ar: 1.39e-17, F_v_ar: 2.56e-09'"
      ]
     },
     "metadata": {},
     "output_type": "display_data"
    },
    {
     "name": "stdout",
     "output_type": "stream",
     "text": [
      "335\n",
      "Strain density energy: 1.74e-01\n"
     ]
    },
    {
     "data": {
      "text/plain": [
       "'Newton-Raphson step: 1,  F_u_ar: 1.39e-17, F_v_ar: 2.15e-09'"
      ]
     },
     "metadata": {},
     "output_type": "display_data"
    },
    {
     "name": "stdout",
     "output_type": "stream",
     "text": [
      "336\n",
      "Strain density energy: 1.40e-01\n"
     ]
    },
    {
     "data": {
      "text/plain": [
       "'Newton-Raphson step: 1,  F_u_ar: 1.39e-17, F_v_ar: 1.63e-09'"
      ]
     },
     "metadata": {},
     "output_type": "display_data"
    },
    {
     "name": "stdout",
     "output_type": "stream",
     "text": [
      "337\n",
      "Strain density energy: 1.02e-01\n"
     ]
    },
    {
     "data": {
      "text/plain": [
       "'Newton-Raphson step: 1,  F_u_ar: 1.39e-17, F_v_ar: 1.10e-09'"
      ]
     },
     "metadata": {},
     "output_type": "display_data"
    },
    {
     "name": "stdout",
     "output_type": "stream",
     "text": [
      "338\n",
      "Strain density energy: 6.43e-02\n"
     ]
    },
    {
     "data": {
      "text/plain": [
       "'Newton-Raphson step: 1,  F_u_ar: 1.39e-17, F_v_ar: 6.16e-10'"
      ]
     },
     "metadata": {},
     "output_type": "display_data"
    },
    {
     "name": "stdout",
     "output_type": "stream",
     "text": [
      "339\n",
      "Strain density energy: 3.27e-02\n"
     ]
    },
    {
     "data": {
      "text/plain": [
       "'Newton-Raphson step: 1,  F_u_ar: 1.39e-17, F_v_ar: 2.51e-10'"
      ]
     },
     "metadata": {},
     "output_type": "display_data"
    },
    {
     "name": "stdout",
     "output_type": "stream",
     "text": [
      "340\n",
      "Strain density energy: 1.08e-02\n"
     ]
    },
    {
     "data": {
      "text/plain": [
       "'Newton-Raphson step: 1,  F_u_ar: 1.39e-17, F_v_ar: 4.29e-11'"
      ]
     },
     "metadata": {},
     "output_type": "display_data"
    },
    {
     "name": "stdout",
     "output_type": "stream",
     "text": [
      "341\n",
      "Strain density energy: 7.39e-04\n"
     ]
    },
    {
     "data": {
      "text/plain": [
       "'Newton-Raphson step: 1,  F_u_ar: 1.39e-17, F_v_ar: 4.07e-11'"
      ]
     },
     "metadata": {},
     "output_type": "display_data"
    },
    {
     "name": "stdout",
     "output_type": "stream",
     "text": [
      "342\n",
      "Strain density energy: 2.67e-03\n"
     ]
    },
    {
     "data": {
      "text/plain": [
       "'Newton-Raphson step: 1,  F_u_ar: 1.39e-17, F_v_ar: 1.98e-10'"
      ]
     },
     "metadata": {},
     "output_type": "display_data"
    },
    {
     "name": "stdout",
     "output_type": "stream",
     "text": [
      "343\n",
      "Strain density energy: 1.49e-02\n"
     ]
    },
    {
     "data": {
      "text/plain": [
       "'Newton-Raphson step: 1,  F_u_ar: 1.39e-17, F_v_ar: 4.48e-10'"
      ]
     },
     "metadata": {},
     "output_type": "display_data"
    },
    {
     "name": "stdout",
     "output_type": "stream",
     "text": [
      "344\n",
      "Strain density energy: 3.45e-02\n"
     ]
    },
    {
     "data": {
      "text/plain": [
       "'Newton-Raphson step: 1,  F_u_ar: 1.39e-17, F_v_ar: 7.38e-10'"
      ]
     },
     "metadata": {},
     "output_type": "display_data"
    },
    {
     "name": "stdout",
     "output_type": "stream",
     "text": [
      "345\n",
      "Strain density energy: 5.75e-02\n"
     ]
    },
    {
     "data": {
      "text/plain": [
       "'Newton-Raphson step: 1,  F_u_ar: 1.38e-17, F_v_ar: 1.03e-09'"
      ]
     },
     "metadata": {},
     "output_type": "display_data"
    },
    {
     "name": "stdout",
     "output_type": "stream",
     "text": [
      "346\n",
      "Strain density energy: 7.97e-02\n"
     ]
    },
    {
     "data": {
      "text/plain": [
       "'Newton-Raphson step: 1,  F_u_ar: 1.39e-17, F_v_ar: 1.31e-09'"
      ]
     },
     "metadata": {},
     "output_type": "display_data"
    },
    {
     "name": "stdout",
     "output_type": "stream",
     "text": [
      "347\n",
      "Strain density energy: 9.75e-02\n"
     ]
    },
    {
     "data": {
      "text/plain": [
       "'Newton-Raphson step: 1,  F_u_ar: 1.39e-17, F_v_ar: 1.51e-09'"
      ]
     },
     "metadata": {},
     "output_type": "display_data"
    },
    {
     "name": "stdout",
     "output_type": "stream",
     "text": [
      "348\n",
      "Strain density energy: 1.08e-01\n"
     ]
    },
    {
     "data": {
      "text/plain": [
       "'Newton-Raphson step: 1,  F_u_ar: 1.39e-17, F_v_ar: 1.59e-09'"
      ]
     },
     "metadata": {},
     "output_type": "display_data"
    },
    {
     "name": "stdout",
     "output_type": "stream",
     "text": [
      "349\n",
      "Strain density energy: 1.11e-01\n"
     ]
    },
    {
     "data": {
      "text/plain": [
       "'Newton-Raphson step: 1,  F_u_ar: 1.39e-17, F_v_ar: 1.54e-09'"
      ]
     },
     "metadata": {},
     "output_type": "display_data"
    },
    {
     "name": "stdout",
     "output_type": "stream",
     "text": [
      "350\n",
      "Strain density energy: 1.04e-01\n"
     ]
    },
    {
     "data": {
      "text/plain": [
       "'Newton-Raphson step: 1,  F_u_ar: 1.38e-17, F_v_ar: 1.38e-09'"
      ]
     },
     "metadata": {},
     "output_type": "display_data"
    },
    {
     "name": "stdout",
     "output_type": "stream",
     "text": [
      "351\n",
      "Strain density energy: 9.06e-02\n"
     ]
    },
    {
     "data": {
      "text/plain": [
       "'Newton-Raphson step: 1,  F_u_ar: 1.39e-17, F_v_ar: 1.13e-09'"
      ]
     },
     "metadata": {},
     "output_type": "display_data"
    },
    {
     "name": "stdout",
     "output_type": "stream",
     "text": [
      "352\n",
      "Strain density energy: 7.21e-02\n"
     ]
    },
    {
     "data": {
      "text/plain": [
       "'Newton-Raphson step: 1,  F_u_ar: 1.39e-17, F_v_ar: 8.36e-10'"
      ]
     },
     "metadata": {},
     "output_type": "display_data"
    },
    {
     "name": "stdout",
     "output_type": "stream",
     "text": [
      "353\n",
      "Strain density energy: 5.14e-02\n"
     ]
    },
    {
     "data": {
      "text/plain": [
       "'Newton-Raphson step: 1,  F_u_ar: 1.39e-17, F_v_ar: 5.41e-10'"
      ]
     },
     "metadata": {},
     "output_type": "display_data"
    },
    {
     "name": "stdout",
     "output_type": "stream",
     "text": [
      "354\n",
      "Strain density energy: 3.16e-02\n"
     ]
    },
    {
     "data": {
      "text/plain": [
       "'Newton-Raphson step: 1,  F_u_ar: 1.39e-17, F_v_ar: 2.86e-10'"
      ]
     },
     "metadata": {},
     "output_type": "display_data"
    },
    {
     "name": "stdout",
     "output_type": "stream",
     "text": [
      "355\n",
      "Strain density energy: 1.54e-02\n"
     ]
    },
    {
     "data": {
      "text/plain": [
       "'Newton-Raphson step: 1,  F_u_ar: 1.38e-17, F_v_ar: 1.03e-10'"
      ]
     },
     "metadata": {},
     "output_type": "display_data"
    },
    {
     "name": "stdout",
     "output_type": "stream",
     "text": [
      "356\n",
      "Strain density energy: 4.57e-03\n"
     ]
    },
    {
     "data": {
      "text/plain": [
       "'Newton-Raphson step: 1,  F_u_ar: 1.39e-17, F_v_ar: 1.11e-11'"
      ]
     },
     "metadata": {},
     "output_type": "display_data"
    },
    {
     "name": "stdout",
     "output_type": "stream",
     "text": [
      "357\n",
      "Strain density energy: 1.60e-04\n"
     ]
    },
    {
     "data": {
      "text/plain": [
       "'Newton-Raphson step: 1,  F_u_ar: 1.39e-17, F_v_ar: 3.86e-11'"
      ]
     },
     "metadata": {},
     "output_type": "display_data"
    },
    {
     "name": "stdout",
     "output_type": "stream",
     "text": [
      "358\n",
      "Strain density energy: 2.08e-03\n"
     ]
    },
    {
     "data": {
      "text/plain": [
       "'Newton-Raphson step: 1,  F_u_ar: 1.39e-17, F_v_ar: 1.38e-10'"
      ]
     },
     "metadata": {},
     "output_type": "display_data"
    },
    {
     "name": "stdout",
     "output_type": "stream",
     "text": [
      "359\n",
      "Strain density energy: 9.33e-03\n"
     ]
    },
    {
     "data": {
      "text/plain": [
       "'Newton-Raphson step: 1,  F_u_ar: 1.39e-17, F_v_ar: 2.82e-10'"
      ]
     },
     "metadata": {},
     "output_type": "display_data"
    },
    {
     "name": "stdout",
     "output_type": "stream",
     "text": [
      "360\n",
      "Strain density energy: 2.02e-02\n"
     ]
    },
    {
     "data": {
      "text/plain": [
       "'Newton-Raphson step: 1,  F_u_ar: 1.39e-17, F_v_ar: 4.40e-10'"
      ]
     },
     "metadata": {},
     "output_type": "display_data"
    },
    {
     "name": "stdout",
     "output_type": "stream",
     "text": [
      "361\n",
      "Strain density energy: 3.25e-02\n"
     ]
    },
    {
     "data": {
      "text/plain": [
       "'Newton-Raphson step: 1,  F_u_ar: 1.39e-17, F_v_ar: 6.00e-10'"
      ]
     },
     "metadata": {},
     "output_type": "display_data"
    },
    {
     "name": "stdout",
     "output_type": "stream",
     "text": [
      "362\n",
      "Strain density energy: 4.42e-02\n"
     ]
    },
    {
     "data": {
      "text/plain": [
       "'Newton-Raphson step: 1,  F_u_ar: 1.38e-17, F_v_ar: 7.45e-10'"
      ]
     },
     "metadata": {},
     "output_type": "display_data"
    },
    {
     "name": "stdout",
     "output_type": "stream",
     "text": [
      "363\n",
      "Strain density energy: 5.32e-02\n"
     ]
    },
    {
     "data": {
      "text/plain": [
       "'Newton-Raphson step: 1,  F_u_ar: 1.39e-17, F_v_ar: 8.36e-10'"
      ]
     },
     "metadata": {},
     "output_type": "display_data"
    },
    {
     "name": "stdout",
     "output_type": "stream",
     "text": [
      "364\n",
      "Strain density energy: 5.83e-02\n"
     ]
    },
    {
     "data": {
      "text/plain": [
       "'Newton-Raphson step: 1,  F_u_ar: 1.39e-17, F_v_ar: 8.61e-10'"
      ]
     },
     "metadata": {},
     "output_type": "display_data"
    },
    {
     "name": "stdout",
     "output_type": "stream",
     "text": [
      "365\n",
      "Strain density energy: 5.88e-02\n"
     ]
    },
    {
     "data": {
      "text/plain": [
       "'Newton-Raphson step: 1,  F_u_ar: 1.39e-17, F_v_ar: 8.18e-10'"
      ]
     },
     "metadata": {},
     "output_type": "display_data"
    },
    {
     "name": "stdout",
     "output_type": "stream",
     "text": [
      "366\n",
      "Strain density energy: 5.48e-02\n"
     ]
    },
    {
     "data": {
      "text/plain": [
       "'Newton-Raphson step: 1,  F_u_ar: 1.39e-17, F_v_ar: 7.17e-10'"
      ]
     },
     "metadata": {},
     "output_type": "display_data"
    },
    {
     "name": "stdout",
     "output_type": "stream",
     "text": [
      "367\n",
      "Strain density energy: 4.71e-02\n"
     ]
    },
    {
     "data": {
      "text/plain": [
       "'Newton-Raphson step: 1,  F_u_ar: 1.38e-17, F_v_ar: 5.74e-10'"
      ]
     },
     "metadata": {},
     "output_type": "display_data"
    },
    {
     "name": "stdout",
     "output_type": "stream",
     "text": [
      "368\n",
      "Strain density energy: 3.69e-02\n"
     ]
    },
    {
     "data": {
      "text/plain": [
       "'Newton-Raphson step: 1,  F_u_ar: 1.38e-17, F_v_ar: 4.13e-10'"
      ]
     },
     "metadata": {},
     "output_type": "display_data"
    },
    {
     "name": "stdout",
     "output_type": "stream",
     "text": [
      "369\n",
      "Strain density energy: 2.58e-02\n"
     ]
    },
    {
     "data": {
      "text/plain": [
       "'Newton-Raphson step: 1,  F_u_ar: 1.39e-17, F_v_ar: 2.58e-10'"
      ]
     },
     "metadata": {},
     "output_type": "display_data"
    },
    {
     "name": "stdout",
     "output_type": "stream",
     "text": [
      "370\n",
      "Strain density energy: 1.55e-02\n"
     ]
    },
    {
     "data": {
      "text/plain": [
       "'Newton-Raphson step: 1,  F_u_ar: 1.39e-17, F_v_ar: 1.28e-10'"
      ]
     },
     "metadata": {},
     "output_type": "display_data"
    },
    {
     "name": "stdout",
     "output_type": "stream",
     "text": [
      "371\n",
      "Strain density energy: 7.16e-03\n"
     ]
    },
    {
     "data": {
      "text/plain": [
       "'Newton-Raphson step: 1,  F_u_ar: 1.39e-17, F_v_ar: 3.98e-11'"
      ]
     },
     "metadata": {},
     "output_type": "display_data"
    },
    {
     "name": "stdout",
     "output_type": "stream",
     "text": [
      "372\n",
      "Strain density energy: 1.87e-03\n"
     ]
    },
    {
     "data": {
      "text/plain": [
       "'Newton-Raphson step: 1,  F_u_ar: 1.39e-17, F_v_ar: 2.58e-12'"
      ]
     },
     "metadata": {},
     "output_type": "display_data"
    },
    {
     "name": "stdout",
     "output_type": "stream",
     "text": [
      "373\n",
      "Strain density energy: 2.89e-05\n"
     ]
    },
    {
     "data": {
      "text/plain": [
       "'Newton-Raphson step: 1,  F_u_ar: 1.39e-17, F_v_ar: 3.15e-11'"
      ]
     },
     "metadata": {},
     "output_type": "display_data"
    },
    {
     "name": "stdout",
     "output_type": "stream",
     "text": [
      "374\n",
      "Strain density energy: 1.52e-03\n"
     ]
    },
    {
     "data": {
      "text/plain": [
       "'Newton-Raphson step: 1,  F_u_ar: 1.39e-17, F_v_ar: 9.04e-11'"
      ]
     },
     "metadata": {},
     "output_type": "display_data"
    },
    {
     "name": "stdout",
     "output_type": "stream",
     "text": [
      "375\n",
      "Strain density energy: 5.75e-03\n"
     ]
    },
    {
     "data": {
      "text/plain": [
       "'Newton-Raphson step: 1,  F_u_ar: 1.39e-17, F_v_ar: 1.68e-10'"
      ]
     },
     "metadata": {},
     "output_type": "display_data"
    },
    {
     "name": "stdout",
     "output_type": "stream",
     "text": [
      "376\n",
      "Strain density energy: 1.17e-02\n"
     ]
    },
    {
     "data": {
      "text/plain": [
       "'Newton-Raphson step: 1,  F_u_ar: 1.39e-17, F_v_ar: 2.50e-10'"
      ]
     },
     "metadata": {},
     "output_type": "display_data"
    },
    {
     "name": "stdout",
     "output_type": "stream",
     "text": [
      "377\n",
      "Strain density energy: 1.84e-02\n"
     ]
    },
    {
     "data": {
      "text/plain": [
       "'Newton-Raphson step: 1,  F_u_ar: 1.38e-17, F_v_ar: 3.36e-10'"
      ]
     },
     "metadata": {},
     "output_type": "display_data"
    },
    {
     "name": "stdout",
     "output_type": "stream",
     "text": [
      "378\n",
      "Strain density energy: 2.44e-02\n"
     ]
    },
    {
     "data": {
      "text/plain": [
       "'Newton-Raphson step: 1,  F_u_ar: 1.39e-17, F_v_ar: 4.07e-10'"
      ]
     },
     "metadata": {},
     "output_type": "display_data"
    },
    {
     "name": "stdout",
     "output_type": "stream",
     "text": [
      "379\n",
      "Strain density energy: 2.90e-02\n"
     ]
    },
    {
     "data": {
      "text/plain": [
       "'Newton-Raphson step: 0'"
      ]
     },
     "metadata": {},
     "output_type": "display_data"
    },
    {
     "ename": "KeyboardInterrupt",
     "evalue": "",
     "output_type": "error",
     "traceback": [
      "\u001b[0;31m---------------------------------------------------------------------------\u001b[0m",
      "\u001b[0;31mKeyboardInterrupt\u001b[0m                         Traceback (most recent call last)",
      "Cell \u001b[0;32mIn[31], line 45\u001b[0m\n\u001b[1;32m     41\u001b[0m \u001b[38;5;28mprint\u001b[39m(\u001b[38;5;124m\"\u001b[39m\u001b[38;5;124mStrain density energy: \u001b[39m\u001b[38;5;132;01m{:.2e}\u001b[39;00m\u001b[38;5;124m\"\u001b[39m\u001b[38;5;241m.\u001b[39mformat(strain_density_energy))\n\u001b[1;32m     44\u001b[0m \u001b[38;5;66;03m## Perform the implicit backward Euler integration step\u001b[39;00m\n\u001b[0;32m---> 45\u001b[0m u_ar, v_ar \u001b[38;5;241m=\u001b[39m \u001b[43mcompute_implicit_backward_euler_integration_step\u001b[49m\u001b[43m(\u001b[49m\n\u001b[1;32m     46\u001b[0m \u001b[43m    \u001b[49m\u001b[43mu_n_minus_1_ar\u001b[49m\u001b[43m \u001b[49m\u001b[38;5;241;43m=\u001b[39;49m\u001b[43m \u001b[49m\u001b[43mu_ar\u001b[49m\u001b[43m,\u001b[49m\n\u001b[1;32m     47\u001b[0m \u001b[43m    \u001b[49m\u001b[43mv_n_minus_1_ar\u001b[49m\u001b[43m \u001b[49m\u001b[38;5;241;43m=\u001b[39;49m\u001b[43m \u001b[49m\u001b[43mv_ar\u001b[49m\u001b[43m,\u001b[49m\n\u001b[1;32m     48\u001b[0m \u001b[43m    \u001b[49m\u001b[43mtime_step\u001b[49m\u001b[43m \u001b[49m\u001b[38;5;241;43m=\u001b[39;49m\u001b[43m \u001b[49m\u001b[43mtime_step\u001b[49m\u001b[43m,\u001b[49m\u001b[43m     \u001b[49m\n\u001b[1;32m     49\u001b[0m \u001b[43m    \u001b[49m\u001b[43minternal_forces_func\u001b[49m\u001b[43m \u001b[49m\u001b[38;5;241;43m=\u001b[39;49m\u001b[43m \u001b[49m\u001b[43minternal_forces_func\u001b[49m\u001b[43m,\u001b[49m\n\u001b[1;32m     50\u001b[0m \u001b[43m    \u001b[49m\u001b[43mjac_internal_forces_func\u001b[49m\u001b[43m \u001b[49m\u001b[38;5;241;43m=\u001b[39;49m\u001b[43m \u001b[49m\u001b[43mjac_internal_forces_func\u001b[49m\u001b[43m,\u001b[49m\n\u001b[1;32m     51\u001b[0m \u001b[43m    \u001b[49m\u001b[43mglobal_mass_matrix\u001b[49m\u001b[43m \u001b[49m\u001b[38;5;241;43m=\u001b[39;49m\u001b[43m \u001b[49m\u001b[43mglobal_mass_matrix\u001b[49m\u001b[43m,\u001b[49m\n\u001b[1;32m     52\u001b[0m \u001b[43m    \u001b[49m\u001b[43matol\u001b[49m\u001b[43m \u001b[49m\u001b[38;5;241;43m=\u001b[39;49m\u001b[43m \u001b[49m\u001b[38;5;241;43m1e-5\u001b[39;49m\u001b[43m,\u001b[49m\n\u001b[1;32m     53\u001b[0m \u001b[43m    \u001b[49m\u001b[43mmax_iter\u001b[49m\u001b[43m \u001b[49m\u001b[38;5;241;43m=\u001b[39;49m\u001b[43m \u001b[49m\u001b[38;5;241;43m100\u001b[39;49m\n\u001b[1;32m     54\u001b[0m \u001b[43m\u001b[49m\u001b[43m)\u001b[49m\n\u001b[1;32m     56\u001b[0m def_point_ar \u001b[38;5;241m=\u001b[39m ref_point_ar \u001b[38;5;241m+\u001b[39m np\u001b[38;5;241m.\u001b[39marray(u_ar)\u001b[38;5;241m.\u001b[39mreshape(\u001b[38;5;241m-\u001b[39m\u001b[38;5;241m1\u001b[39m, \u001b[38;5;241m3\u001b[39m)\n\u001b[1;32m     57\u001b[0m def_u_grid \u001b[38;5;241m=\u001b[39m convert_mesh_to_ugrid(def_point_ar, cell_ar)\n",
      "Cell \u001b[0;32mIn[29], line 183\u001b[0m, in \u001b[0;36mcompute_implicit_backward_euler_integration_step\u001b[0;34m(u_n_minus_1_ar, v_n_minus_1_ar, time_step, internal_forces_func, jac_internal_forces_func, global_mass_matrix, atol, max_iter)\u001b[0m\n\u001b[1;32m    171\u001b[0m F_u_ar, F_v_ar \u001b[38;5;241m=\u001b[39m compute_prediction_residual(\n\u001b[1;32m    172\u001b[0m     u_hat_ar \u001b[38;5;241m=\u001b[39m u_hat_ar, \n\u001b[1;32m    173\u001b[0m     v_hat_ar \u001b[38;5;241m=\u001b[39m v_hat_ar,\n\u001b[0;32m   (...)\u001b[0m\n\u001b[1;32m    178\u001b[0m     global_mass_matrix \u001b[38;5;241m=\u001b[39m global_mass_matrix,\n\u001b[1;32m    179\u001b[0m )\n\u001b[1;32m    182\u001b[0m \u001b[38;5;66;03m# Compute the Newton-Raphson step\u001b[39;00m\n\u001b[0;32m--> 183\u001b[0m delta_u_ar, delta_v_ar \u001b[38;5;241m=\u001b[39m \u001b[43mcompute_newton_raphson_step\u001b[49m\u001b[43m(\u001b[49m\n\u001b[1;32m    184\u001b[0m \u001b[43m    \u001b[49m\u001b[43mu_hat_ar\u001b[49m\u001b[43m \u001b[49m\u001b[38;5;241;43m=\u001b[39;49m\u001b[43m \u001b[49m\u001b[43mu_hat_ar\u001b[49m\u001b[43m,\u001b[49m\n\u001b[1;32m    185\u001b[0m \u001b[43m    \u001b[49m\u001b[43mF_u_ar\u001b[49m\u001b[43m \u001b[49m\u001b[38;5;241;43m=\u001b[39;49m\u001b[43m \u001b[49m\u001b[43mF_u_ar\u001b[49m\u001b[43m,\u001b[49m\n\u001b[1;32m    186\u001b[0m \u001b[43m    \u001b[49m\u001b[43mF_v_ar\u001b[49m\u001b[43m \u001b[49m\u001b[38;5;241;43m=\u001b[39;49m\u001b[43m \u001b[49m\u001b[43mF_v_ar\u001b[49m\u001b[43m,\u001b[49m\n\u001b[1;32m    187\u001b[0m \u001b[43m    \u001b[49m\u001b[43mtime_step\u001b[49m\u001b[43m \u001b[49m\u001b[38;5;241;43m=\u001b[39;49m\u001b[43m \u001b[49m\u001b[43mtime_step\u001b[49m\u001b[43m,\u001b[49m\u001b[43m    \u001b[49m\n\u001b[1;32m    188\u001b[0m \u001b[43m    \u001b[49m\u001b[43minternal_forces_func\u001b[49m\u001b[43m \u001b[49m\u001b[38;5;241;43m=\u001b[39;49m\u001b[43m \u001b[49m\u001b[43minternal_forces_func\u001b[49m\u001b[43m,\u001b[49m\u001b[43m \u001b[49m\n\u001b[1;32m    189\u001b[0m \u001b[43m    \u001b[49m\u001b[43mjac_internal_forces_func\u001b[49m\u001b[43m \u001b[49m\u001b[38;5;241;43m=\u001b[39;49m\u001b[43m \u001b[49m\u001b[43mjac_internal_forces_func\u001b[49m\u001b[43m,\u001b[49m\n\u001b[1;32m    190\u001b[0m \u001b[43m    \u001b[49m\u001b[43mglobal_mass_matrix\u001b[49m\u001b[43m \u001b[49m\u001b[38;5;241;43m=\u001b[39;49m\u001b[43m \u001b[49m\u001b[43mglobal_mass_matrix\u001b[49m\u001b[43m,\u001b[49m\n\u001b[1;32m    191\u001b[0m \u001b[43m\u001b[49m\u001b[43m)\u001b[49m\n\u001b[1;32m    193\u001b[0m newton_raphson_display_text\u001b[38;5;241m.\u001b[39mupdate(\u001b[38;5;124m\"\u001b[39m\u001b[38;5;124mNewton-Raphson step: \u001b[39m\u001b[38;5;132;01m{}\u001b[39;00m\u001b[38;5;124m,  F_u_ar: \u001b[39m\u001b[38;5;132;01m{:.2e}\u001b[39;00m\u001b[38;5;124m, F_v_ar: \u001b[39m\u001b[38;5;132;01m{:.2e}\u001b[39;00m\u001b[38;5;124m\"\u001b[39m\u001b[38;5;241m.\u001b[39mformat(\n\u001b[1;32m    194\u001b[0m     newton_raphson_iter,\n\u001b[1;32m    195\u001b[0m     jnp\u001b[38;5;241m.\u001b[39mabs(F_u_ar)\u001b[38;5;241m.\u001b[39mmax(),\n\u001b[1;32m    196\u001b[0m     jnp\u001b[38;5;241m.\u001b[39mabs(F_v_ar)\u001b[38;5;241m.\u001b[39mmax()\n\u001b[1;32m    197\u001b[0m ))\n\u001b[1;32m    200\u001b[0m \u001b[38;5;66;03m# Update the guess of the displacement and velocity fields\u001b[39;00m\n",
      "Cell \u001b[0;32mIn[29], line 90\u001b[0m, in \u001b[0;36mcompute_newton_raphson_step\u001b[0;34m(u_hat_ar, F_u_ar, F_v_ar, time_step, internal_forces_func, jac_internal_forces_func, global_mass_matrix)\u001b[0m\n\u001b[1;32m     63\u001b[0m \u001b[38;5;250m\u001b[39m\u001b[38;5;124;03m\"\"\"\u001b[39;00m\n\u001b[1;32m     64\u001b[0m \u001b[38;5;124;03mCompute by how much our guess of the next step displacements and velocities should be incremented to satisfy the equilibrium equations.\u001b[39;00m\n\u001b[1;32m     65\u001b[0m \u001b[38;5;124;03m\u001b[39;00m\n\u001b[0;32m   (...)\u001b[0m\n\u001b[1;32m     86\u001b[0m \u001b[38;5;124;03m\u001b[39;00m\n\u001b[1;32m     87\u001b[0m \u001b[38;5;124;03m\"\"\"\u001b[39;00m\n\u001b[1;32m     89\u001b[0m \u001b[38;5;66;03m# Compute the Jacobian of the internal forces wrt the displacement at u_hat\u001b[39;00m\n\u001b[0;32m---> 90\u001b[0m jac_internal_forces \u001b[38;5;241m=\u001b[39m \u001b[43mjac_internal_forces_func\u001b[49m\u001b[43m(\u001b[49m\n\u001b[1;32m     91\u001b[0m \u001b[43m    \u001b[49m\u001b[43minternal_forces_func\u001b[49m\u001b[43m,\u001b[49m\n\u001b[1;32m     92\u001b[0m \u001b[43m    \u001b[49m\u001b[43mu_hat_ar\u001b[49m\u001b[43m,\u001b[49m\n\u001b[1;32m     93\u001b[0m \u001b[43m    \u001b[49m\u001b[43msparsity_pattern\u001b[49m\u001b[43m,\u001b[49m\n\u001b[1;32m     94\u001b[0m \u001b[43m    \u001b[49m\u001b[43mcolor_vertex_dic\u001b[49m\n\u001b[1;32m     95\u001b[0m \u001b[43m\u001b[49m\u001b[43m)\u001b[49m\n\u001b[1;32m     97\u001b[0m \u001b[38;5;66;03m# Check if there are NaN values in the Jacobian matrix\u001b[39;00m\n\u001b[1;32m     98\u001b[0m \u001b[38;5;66;03m#if np.any(np.isnan(jac_internal_forces.data)):\u001b[39;00m\n\u001b[1;32m     99\u001b[0m \u001b[38;5;66;03m#    raise ValueError(\"The Jacobian matrix contains NaN values.\")\u001b[39;00m\n\u001b[1;32m    100\u001b[0m \n\u001b[1;32m    101\u001b[0m \u001b[38;5;66;03m# Start by solving for the delta v\u001b[39;00m\n\u001b[1;32m    102\u001b[0m rhs_matrix \u001b[38;5;241m=\u001b[39m global_mass_matrix \u001b[38;5;241m-\u001b[39m (time_step\u001b[38;5;241m*\u001b[39m\u001b[38;5;241m*\u001b[39m\u001b[38;5;241m2\u001b[39m) \u001b[38;5;241m*\u001b[39m jac_internal_forces\n",
      "\u001b[0;31mKeyboardInterrupt\u001b[0m: "
     ]
    }
   ],
   "source": [
    "# Run the simulation in this loop\n",
    "time_step = 1e-3\n",
    "\n",
    "# The maximum number of iterations\n",
    "n_iterations = 10000\n",
    "\n",
    "# The initial displacement field\n",
    "u_ar = jnp.array(disp_ar.flatten())\n",
    "\n",
    "# The initial velocity field\n",
    "v_ar = jnp.zeros(n_vertices*3)\n",
    "\n",
    "backward_euler_display_text = display(\"Backward Euler iter: 0\", display_id=True)\n",
    "\n",
    "\n",
    "# Start the main loop\n",
    "for iter in range(n_iterations):\n",
    "\n",
    "    backward_euler_display_text.update(f\"Backward Euler iter: {iter}\")\n",
    "\n",
    "\n",
    "    ## Perform the implicit backward Euler integration step\n",
    "    u_ar, v_ar = compute_implicit_backward_euler_integration_step(\n",
    "        u_n_minus_1_ar = u_ar,\n",
    "        v_n_minus_1_ar = v_ar,\n",
    "        time_step = time_step,     \n",
    "        internal_forces_func = internal_forces_func,\n",
    "        jac_internal_forces_func = jac_internal_forces_func,\n",
    "        global_mass_matrix = global_mass_matrix,\n",
    "        atol = 1e-5,\n",
    "        max_iter = 100\n",
    "    )\n",
    "\n",
    "    def_point_ar = ref_point_ar + np.array(u_ar).reshape(-1, 3)\n",
    "    def_u_grid = convert_mesh_to_ugrid(def_point_ar, cell_ar)\n",
    "    pv_def_mesh = pv.wrap(def_u_grid)\n",
    "    pv_def_mesh.save(f\"deformed_mesh_{iter}.vtu\")\n",
    "\n",
    "    \n",
    "\n",
    "\n",
    "\n",
    "    \n"
   ]
  },
  {
   "cell_type": "code",
   "execution_count": null,
   "metadata": {},
   "outputs": [],
   "source": []
  }
 ],
 "metadata": {
  "kernelspec": {
   "display_name": "fem_env",
   "language": "python",
   "name": "python3"
  },
  "language_info": {
   "codemirror_mode": {
    "name": "ipython",
    "version": 3
   },
   "file_extension": ".py",
   "mimetype": "text/x-python",
   "name": "python",
   "nbconvert_exporter": "python",
   "pygments_lexer": "ipython3",
   "version": "3.10.12"
  }
 },
 "nbformat": 4,
 "nbformat_minor": 2
}
